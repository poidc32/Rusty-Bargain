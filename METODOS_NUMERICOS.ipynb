{
 "cells": [
  {
   "cell_type": "markdown",
   "metadata": {},
   "source": [
    "----"
   ]
  },
  {
   "cell_type": "markdown",
   "metadata": {},
   "source": [
    "## Descripción del proyecto"
   ]
  },
  {
   "cell_type": "markdown",
   "metadata": {},
   "source": [
    "----"
   ]
  },
  {
   "cell_type": "markdown",
   "metadata": {},
   "source": [
    "El servicio de venta de autos usados Rusty Bargain está desarrollando una aplicación para atraer nuevos clientes. Gracias a esa app, puedes averiguar rápidamente el valor de mercado de tu coche. Tienes acceso al historial: especificaciones técnicas, versiones de equipamiento y precios. Tienes que crear un modelo que determine el valor de mercado.\n",
    "A Rusty Bargain le interesa:\n",
    "- la calidad de la predicción;\n",
    "- la velocidad de la predicción;\n",
    "- el tiempo requerido para el entrenamiento"
   ]
  },
  {
   "cell_type": "markdown",
   "metadata": {},
   "source": [
    "## Preparación de datos"
   ]
  },
  {
   "cell_type": "markdown",
   "metadata": {},
   "source": [
    "### Inicialización"
   ]
  },
  {
   "cell_type": "code",
   "execution_count": 1,
   "metadata": {},
   "outputs": [],
   "source": [
    "import time\n",
    "\n",
    "import pandas as pd\n",
    "import numpy as np\n",
    "import seaborn as sns\n",
    "import matplotlib.pyplot as plt\n",
    "\n",
    "from sklearn.linear_model import LinearRegression\n",
    "from sklearn.ensemble import RandomForestRegressor\n",
    "import lightgbm as lgb\n",
    "from catboost import CatBoostRegressor\n",
    "import xgboost as xgb\n",
    "from sklearn.model_selection import RandomizedSearchCV, GridSearchCV\n",
    "from sklearn.model_selection import train_test_split\n",
    "from sklearn.preprocessing import StandardScaler, OneHotEncoder, LabelEncoder\n",
    "from sklearn.compose import ColumnTransformer\n",
    "from sklearn.pipeline import Pipeline\n",
    "from sklearn.metrics import mean_squared_error, r2_score"
   ]
  },
  {
   "cell_type": "code",
   "execution_count": 2,
   "metadata": {},
   "outputs": [],
   "source": [
    "#Se carga el archivo\n",
    "df = pd.read_csv('car_data.csv')"
   ]
  },
  {
   "cell_type": "code",
   "execution_count": 3,
   "metadata": {
    "scrolled": false
   },
   "outputs": [
    {
     "data": {
      "text/html": [
       "<div>\n",
       "<style scoped>\n",
       "    .dataframe tbody tr th:only-of-type {\n",
       "        vertical-align: middle;\n",
       "    }\n",
       "\n",
       "    .dataframe tbody tr th {\n",
       "        vertical-align: top;\n",
       "    }\n",
       "\n",
       "    .dataframe thead th {\n",
       "        text-align: right;\n",
       "    }\n",
       "</style>\n",
       "<table border=\"1\" class=\"dataframe\">\n",
       "  <thead>\n",
       "    <tr style=\"text-align: right;\">\n",
       "      <th></th>\n",
       "      <th>Price</th>\n",
       "      <th>RegistrationYear</th>\n",
       "      <th>Power</th>\n",
       "      <th>Mileage</th>\n",
       "      <th>RegistrationMonth</th>\n",
       "      <th>NumberOfPictures</th>\n",
       "      <th>PostalCode</th>\n",
       "    </tr>\n",
       "  </thead>\n",
       "  <tbody>\n",
       "    <tr>\n",
       "      <th>count</th>\n",
       "      <td>354369.000000</td>\n",
       "      <td>354369.000000</td>\n",
       "      <td>354369.000000</td>\n",
       "      <td>354369.000000</td>\n",
       "      <td>354369.000000</td>\n",
       "      <td>354369.0</td>\n",
       "      <td>354369.000000</td>\n",
       "    </tr>\n",
       "    <tr>\n",
       "      <th>mean</th>\n",
       "      <td>4416.656776</td>\n",
       "      <td>2004.234448</td>\n",
       "      <td>110.094337</td>\n",
       "      <td>128211.172535</td>\n",
       "      <td>5.714645</td>\n",
       "      <td>0.0</td>\n",
       "      <td>50508.689087</td>\n",
       "    </tr>\n",
       "    <tr>\n",
       "      <th>std</th>\n",
       "      <td>4514.158514</td>\n",
       "      <td>90.227958</td>\n",
       "      <td>189.850405</td>\n",
       "      <td>37905.341530</td>\n",
       "      <td>3.726421</td>\n",
       "      <td>0.0</td>\n",
       "      <td>25783.096248</td>\n",
       "    </tr>\n",
       "    <tr>\n",
       "      <th>min</th>\n",
       "      <td>0.000000</td>\n",
       "      <td>1000.000000</td>\n",
       "      <td>0.000000</td>\n",
       "      <td>5000.000000</td>\n",
       "      <td>0.000000</td>\n",
       "      <td>0.0</td>\n",
       "      <td>1067.000000</td>\n",
       "    </tr>\n",
       "    <tr>\n",
       "      <th>25%</th>\n",
       "      <td>1050.000000</td>\n",
       "      <td>1999.000000</td>\n",
       "      <td>69.000000</td>\n",
       "      <td>125000.000000</td>\n",
       "      <td>3.000000</td>\n",
       "      <td>0.0</td>\n",
       "      <td>30165.000000</td>\n",
       "    </tr>\n",
       "    <tr>\n",
       "      <th>50%</th>\n",
       "      <td>2700.000000</td>\n",
       "      <td>2003.000000</td>\n",
       "      <td>105.000000</td>\n",
       "      <td>150000.000000</td>\n",
       "      <td>6.000000</td>\n",
       "      <td>0.0</td>\n",
       "      <td>49413.000000</td>\n",
       "    </tr>\n",
       "    <tr>\n",
       "      <th>75%</th>\n",
       "      <td>6400.000000</td>\n",
       "      <td>2008.000000</td>\n",
       "      <td>143.000000</td>\n",
       "      <td>150000.000000</td>\n",
       "      <td>9.000000</td>\n",
       "      <td>0.0</td>\n",
       "      <td>71083.000000</td>\n",
       "    </tr>\n",
       "    <tr>\n",
       "      <th>max</th>\n",
       "      <td>20000.000000</td>\n",
       "      <td>9999.000000</td>\n",
       "      <td>20000.000000</td>\n",
       "      <td>150000.000000</td>\n",
       "      <td>12.000000</td>\n",
       "      <td>0.0</td>\n",
       "      <td>99998.000000</td>\n",
       "    </tr>\n",
       "  </tbody>\n",
       "</table>\n",
       "</div>"
      ],
      "text/plain": [
       "               Price  RegistrationYear          Power        Mileage  \\\n",
       "count  354369.000000     354369.000000  354369.000000  354369.000000   \n",
       "mean     4416.656776       2004.234448     110.094337  128211.172535   \n",
       "std      4514.158514         90.227958     189.850405   37905.341530   \n",
       "min         0.000000       1000.000000       0.000000    5000.000000   \n",
       "25%      1050.000000       1999.000000      69.000000  125000.000000   \n",
       "50%      2700.000000       2003.000000     105.000000  150000.000000   \n",
       "75%      6400.000000       2008.000000     143.000000  150000.000000   \n",
       "max     20000.000000       9999.000000   20000.000000  150000.000000   \n",
       "\n",
       "       RegistrationMonth  NumberOfPictures     PostalCode  \n",
       "count      354369.000000          354369.0  354369.000000  \n",
       "mean            5.714645               0.0   50508.689087  \n",
       "std             3.726421               0.0   25783.096248  \n",
       "min             0.000000               0.0    1067.000000  \n",
       "25%             3.000000               0.0   30165.000000  \n",
       "50%             6.000000               0.0   49413.000000  \n",
       "75%             9.000000               0.0   71083.000000  \n",
       "max            12.000000               0.0   99998.000000  "
      ]
     },
     "execution_count": 3,
     "metadata": {},
     "output_type": "execute_result"
    }
   ],
   "source": [
    "#Se verifica la informacion con la que se va a trabajar\n",
    "df.describe()"
   ]
  },
  {
   "cell_type": "code",
   "execution_count": 4,
   "metadata": {},
   "outputs": [
    {
     "name": "stdout",
     "output_type": "stream",
     "text": [
      "<class 'pandas.core.frame.DataFrame'>\n",
      "RangeIndex: 354369 entries, 0 to 354368\n",
      "Data columns (total 16 columns):\n",
      " #   Column             Non-Null Count   Dtype \n",
      "---  ------             --------------   ----- \n",
      " 0   DateCrawled        354369 non-null  object\n",
      " 1   Price              354369 non-null  int64 \n",
      " 2   VehicleType        316879 non-null  object\n",
      " 3   RegistrationYear   354369 non-null  int64 \n",
      " 4   Gearbox            334536 non-null  object\n",
      " 5   Power              354369 non-null  int64 \n",
      " 6   Model              334664 non-null  object\n",
      " 7   Mileage            354369 non-null  int64 \n",
      " 8   RegistrationMonth  354369 non-null  int64 \n",
      " 9   FuelType           321474 non-null  object\n",
      " 10  Brand              354369 non-null  object\n",
      " 11  NotRepaired        283215 non-null  object\n",
      " 12  DateCreated        354369 non-null  object\n",
      " 13  NumberOfPictures   354369 non-null  int64 \n",
      " 14  PostalCode         354369 non-null  int64 \n",
      " 15  LastSeen           354369 non-null  object\n",
      "dtypes: int64(7), object(9)\n",
      "memory usage: 43.3+ MB\n"
     ]
    }
   ],
   "source": [
    "df.info()"
   ]
  },
  {
   "cell_type": "code",
   "execution_count": 5,
   "metadata": {},
   "outputs": [
    {
     "data": {
      "text/html": [
       "<div>\n",
       "<style scoped>\n",
       "    .dataframe tbody tr th:only-of-type {\n",
       "        vertical-align: middle;\n",
       "    }\n",
       "\n",
       "    .dataframe tbody tr th {\n",
       "        vertical-align: top;\n",
       "    }\n",
       "\n",
       "    .dataframe thead th {\n",
       "        text-align: right;\n",
       "    }\n",
       "</style>\n",
       "<table border=\"1\" class=\"dataframe\">\n",
       "  <thead>\n",
       "    <tr style=\"text-align: right;\">\n",
       "      <th></th>\n",
       "      <th>DateCrawled</th>\n",
       "      <th>Price</th>\n",
       "      <th>VehicleType</th>\n",
       "      <th>RegistrationYear</th>\n",
       "      <th>Gearbox</th>\n",
       "      <th>Power</th>\n",
       "      <th>Model</th>\n",
       "      <th>Mileage</th>\n",
       "      <th>RegistrationMonth</th>\n",
       "      <th>FuelType</th>\n",
       "      <th>Brand</th>\n",
       "      <th>NotRepaired</th>\n",
       "      <th>DateCreated</th>\n",
       "      <th>NumberOfPictures</th>\n",
       "      <th>PostalCode</th>\n",
       "      <th>LastSeen</th>\n",
       "    </tr>\n",
       "  </thead>\n",
       "  <tbody>\n",
       "    <tr>\n",
       "      <th>0</th>\n",
       "      <td>24/03/2016 11:52</td>\n",
       "      <td>480</td>\n",
       "      <td>NaN</td>\n",
       "      <td>1993</td>\n",
       "      <td>manual</td>\n",
       "      <td>0</td>\n",
       "      <td>golf</td>\n",
       "      <td>150000</td>\n",
       "      <td>0</td>\n",
       "      <td>petrol</td>\n",
       "      <td>volkswagen</td>\n",
       "      <td>NaN</td>\n",
       "      <td>24/03/2016 00:00</td>\n",
       "      <td>0</td>\n",
       "      <td>70435</td>\n",
       "      <td>07/04/2016 03:16</td>\n",
       "    </tr>\n",
       "    <tr>\n",
       "      <th>1</th>\n",
       "      <td>24/03/2016 10:58</td>\n",
       "      <td>18300</td>\n",
       "      <td>coupe</td>\n",
       "      <td>2011</td>\n",
       "      <td>manual</td>\n",
       "      <td>190</td>\n",
       "      <td>NaN</td>\n",
       "      <td>125000</td>\n",
       "      <td>5</td>\n",
       "      <td>gasoline</td>\n",
       "      <td>audi</td>\n",
       "      <td>yes</td>\n",
       "      <td>24/03/2016 00:00</td>\n",
       "      <td>0</td>\n",
       "      <td>66954</td>\n",
       "      <td>07/04/2016 01:46</td>\n",
       "    </tr>\n",
       "    <tr>\n",
       "      <th>2</th>\n",
       "      <td>14/03/2016 12:52</td>\n",
       "      <td>9800</td>\n",
       "      <td>suv</td>\n",
       "      <td>2004</td>\n",
       "      <td>auto</td>\n",
       "      <td>163</td>\n",
       "      <td>grand</td>\n",
       "      <td>125000</td>\n",
       "      <td>8</td>\n",
       "      <td>gasoline</td>\n",
       "      <td>jeep</td>\n",
       "      <td>NaN</td>\n",
       "      <td>14/03/2016 00:00</td>\n",
       "      <td>0</td>\n",
       "      <td>90480</td>\n",
       "      <td>05/04/2016 12:47</td>\n",
       "    </tr>\n",
       "    <tr>\n",
       "      <th>3</th>\n",
       "      <td>17/03/2016 16:54</td>\n",
       "      <td>1500</td>\n",
       "      <td>small</td>\n",
       "      <td>2001</td>\n",
       "      <td>manual</td>\n",
       "      <td>75</td>\n",
       "      <td>golf</td>\n",
       "      <td>150000</td>\n",
       "      <td>6</td>\n",
       "      <td>petrol</td>\n",
       "      <td>volkswagen</td>\n",
       "      <td>no</td>\n",
       "      <td>17/03/2016 00:00</td>\n",
       "      <td>0</td>\n",
       "      <td>91074</td>\n",
       "      <td>17/03/2016 17:40</td>\n",
       "    </tr>\n",
       "    <tr>\n",
       "      <th>4</th>\n",
       "      <td>31/03/2016 17:25</td>\n",
       "      <td>3600</td>\n",
       "      <td>small</td>\n",
       "      <td>2008</td>\n",
       "      <td>manual</td>\n",
       "      <td>69</td>\n",
       "      <td>fabia</td>\n",
       "      <td>90000</td>\n",
       "      <td>7</td>\n",
       "      <td>gasoline</td>\n",
       "      <td>skoda</td>\n",
       "      <td>no</td>\n",
       "      <td>31/03/2016 00:00</td>\n",
       "      <td>0</td>\n",
       "      <td>60437</td>\n",
       "      <td>06/04/2016 10:17</td>\n",
       "    </tr>\n",
       "  </tbody>\n",
       "</table>\n",
       "</div>"
      ],
      "text/plain": [
       "        DateCrawled  Price VehicleType  RegistrationYear Gearbox  Power  \\\n",
       "0  24/03/2016 11:52    480         NaN              1993  manual      0   \n",
       "1  24/03/2016 10:58  18300       coupe              2011  manual    190   \n",
       "2  14/03/2016 12:52   9800         suv              2004    auto    163   \n",
       "3  17/03/2016 16:54   1500       small              2001  manual     75   \n",
       "4  31/03/2016 17:25   3600       small              2008  manual     69   \n",
       "\n",
       "   Model  Mileage  RegistrationMonth  FuelType       Brand NotRepaired  \\\n",
       "0   golf   150000                  0    petrol  volkswagen         NaN   \n",
       "1    NaN   125000                  5  gasoline        audi         yes   \n",
       "2  grand   125000                  8  gasoline        jeep         NaN   \n",
       "3   golf   150000                  6    petrol  volkswagen          no   \n",
       "4  fabia    90000                  7  gasoline       skoda          no   \n",
       "\n",
       "        DateCreated  NumberOfPictures  PostalCode          LastSeen  \n",
       "0  24/03/2016 00:00                 0       70435  07/04/2016 03:16  \n",
       "1  24/03/2016 00:00                 0       66954  07/04/2016 01:46  \n",
       "2  14/03/2016 00:00                 0       90480  05/04/2016 12:47  \n",
       "3  17/03/2016 00:00                 0       91074  17/03/2016 17:40  \n",
       "4  31/03/2016 00:00                 0       60437  06/04/2016 10:17  "
      ]
     },
     "execution_count": 5,
     "metadata": {},
     "output_type": "execute_result"
    }
   ],
   "source": [
    "df.head()"
   ]
  },
  {
   "cell_type": "markdown",
   "metadata": {},
   "source": [
    "**En este punto nos damos cuenta que existen datos en el df inconsistentes, tales como en la columna 'price' el cual hay valores de 0. También en la columna de año de registro existen algunas casillas que tienen años de 1000 y 9999, lo cual no es posible. Por último en la columna power tambien hay valores de 0.**\n",
    "\n",
    "**La manera en que se va a lidiar con estos datos es eliminarlos de nuestro data, ya que no aportan nada y puede afectar negativamente a nuestros modelos**"
   ]
  },
  {
   "cell_type": "markdown",
   "metadata": {},
   "source": [
    "### Preprocesamiento de datos"
   ]
  },
  {
   "cell_type": "markdown",
   "metadata": {},
   "source": [
    "**Se trabajara unicamente con los datos de los años mas recientes y vigentes**"
   ]
  },
  {
   "cell_type": "code",
   "execution_count": 6,
   "metadata": {},
   "outputs": [],
   "source": [
    "# Nos aseguramos que no existan espacios en blanco al inicio de los nombres de las columnas.\n",
    "df.columns = df.columns.str.strip()\n",
    "# Se renombran las columnas.\n",
    "df = df.rename(columns={'DateCrawled': 'date_crawled', 'Price': 'price', 'VehicleType': 'vehicle_type', \n",
    "                        'RegistrationYear': 'registration_year', 'Gearbox': 'gearbox', 'Power': 'power', 'Model': 'model', \n",
    "                        'Mileage': 'mileage', 'RegistrationMonth': 'registration_month', 'FuelType': 'fuel_type', \n",
    "                        'Brand': 'brand', 'NotRepaired': 'not_repaired', 'DateCreated': 'date_created', \n",
    "                        'NumberOfPictures': 'number_of_pictures', 'PostalCode': 'postal_code', 'LastSeen': 'last_seen'\n",
    "                       })"
   ]
  },
  {
   "cell_type": "code",
   "execution_count": 7,
   "metadata": {},
   "outputs": [
    {
     "data": {
      "text/plain": [
       "262"
      ]
     },
     "execution_count": 7,
     "metadata": {},
     "output_type": "execute_result"
    }
   ],
   "source": [
    "# Se verifica que no existan filas completamente duplicadas\n",
    "df.duplicated().sum()"
   ]
  },
  {
   "cell_type": "code",
   "execution_count": 8,
   "metadata": {},
   "outputs": [],
   "source": [
    "# Tratamos las filas duplicadas eliminandolas de nuestro df\n",
    "df = df.drop_duplicates()"
   ]
  },
  {
   "cell_type": "markdown",
   "metadata": {},
   "source": [
    "El precio está moderadamente relacionado con el kilometraje, lo que indica que esta es una característica importantes al valorar el precio de un coche.\n",
    "\n",
    "El año de registro no tiene una relación fuerte ni positiva ni negativa con el precio del coche, por lo cual no se tomara en cuenta para el análisis.\n",
    "\n",
    "El mes de registro tiene una relación débil con el precio, por lo cual tampoco se toma en cuenta esta característica para el análisis.\n",
    "\n",
    "La variable número de fotos tiene datos faltantes, por lo que no se puede hacer una evaluación correcta.\n",
    "\n",
    "la caracteristica de mileage tampoco tiene una relacion fuerte con el precio del coche, y ademas tiene muchisimos valores que no son coherentes, por lo cual tampoco se toma en cuenta para el entrenamiento."
   ]
  },
  {
   "cell_type": "code",
   "execution_count": 10,
   "metadata": {},
   "outputs": [],
   "source": [
    "# Se analizara la columna 'price'\n",
    "\n",
    "# Se eliminan las filas que tengan un valor inferior al mil euros\n",
    "df = df.drop(df[df['price'] < 1000 ].index)"
   ]
  },
  {
   "cell_type": "code",
   "execution_count": 11,
   "metadata": {},
   "outputs": [
    {
     "name": "stdout",
     "output_type": "stream",
     "text": [
      "<class 'pandas.core.frame.DataFrame'>\n",
      "RangeIndex: 270822 entries, 0 to 270821\n",
      "Data columns (total 16 columns):\n",
      " #   Column              Non-Null Count   Dtype \n",
      "---  ------              --------------   ----- \n",
      " 0   date_crawled        270822 non-null  object\n",
      " 1   price               270822 non-null  int64 \n",
      " 2   vehicle_type        250513 non-null  object\n",
      " 3   registration_year   270822 non-null  int64 \n",
      " 4   gearbox             260616 non-null  object\n",
      " 5   power               270822 non-null  int64 \n",
      " 6   model               259399 non-null  object\n",
      " 7   mileage             270822 non-null  int64 \n",
      " 8   registration_month  270822 non-null  int64 \n",
      " 9   fuel_type           253479 non-null  object\n",
      " 10  brand               270822 non-null  object\n",
      " 11  not_repaired        229006 non-null  object\n",
      " 12  date_created        270822 non-null  object\n",
      " 13  number_of_pictures  270822 non-null  int64 \n",
      " 14  postal_code         270822 non-null  int64 \n",
      " 15  last_seen           270822 non-null  object\n",
      "dtypes: int64(7), object(9)\n",
      "memory usage: 33.1+ MB\n"
     ]
    }
   ],
   "source": [
    "df = df.reset_index(drop=True)\n",
    "df.info()"
   ]
  },
  {
   "cell_type": "code",
   "execution_count": 12,
   "metadata": {},
   "outputs": [],
   "source": [
    "df_copy = df.copy()"
   ]
  },
  {
   "cell_type": "code",
   "execution_count": 13,
   "metadata": {
    "scrolled": false
   },
   "outputs": [
    {
     "name": "stdout",
     "output_type": "stream",
     "text": [
      "<class 'pandas.core.frame.DataFrame'>\n",
      "RangeIndex: 270822 entries, 0 to 270821\n",
      "Data columns (total 16 columns):\n",
      " #   Column              Non-Null Count   Dtype \n",
      "---  ------              --------------   ----- \n",
      " 0   date_crawled        270822 non-null  object\n",
      " 1   price               270822 non-null  int64 \n",
      " 2   vehicle_type        270822 non-null  object\n",
      " 3   registration_year   270822 non-null  int64 \n",
      " 4   gearbox             270822 non-null  object\n",
      " 5   power               270822 non-null  int64 \n",
      " 6   model               259399 non-null  object\n",
      " 7   mileage             270822 non-null  int64 \n",
      " 8   registration_month  270822 non-null  int64 \n",
      " 9   fuel_type           270822 non-null  object\n",
      " 10  brand               270822 non-null  object\n",
      " 11  not_repaired        270822 non-null  object\n",
      " 12  date_created        270822 non-null  object\n",
      " 13  number_of_pictures  270822 non-null  int64 \n",
      " 14  postal_code         270822 non-null  int64 \n",
      " 15  last_seen           270822 non-null  object\n",
      "dtypes: int64(7), object(9)\n",
      "memory usage: 33.1+ MB\n"
     ]
    },
    {
     "data": {
      "text/html": [
       "<div>\n",
       "<style scoped>\n",
       "    .dataframe tbody tr th:only-of-type {\n",
       "        vertical-align: middle;\n",
       "    }\n",
       "\n",
       "    .dataframe tbody tr th {\n",
       "        vertical-align: top;\n",
       "    }\n",
       "\n",
       "    .dataframe thead th {\n",
       "        text-align: right;\n",
       "    }\n",
       "</style>\n",
       "<table border=\"1\" class=\"dataframe\">\n",
       "  <thead>\n",
       "    <tr style=\"text-align: right;\">\n",
       "      <th></th>\n",
       "      <th>price</th>\n",
       "      <th>registration_year</th>\n",
       "      <th>power</th>\n",
       "      <th>mileage</th>\n",
       "      <th>registration_month</th>\n",
       "      <th>number_of_pictures</th>\n",
       "      <th>postal_code</th>\n",
       "    </tr>\n",
       "  </thead>\n",
       "  <tbody>\n",
       "    <tr>\n",
       "      <th>count</th>\n",
       "      <td>270822.000000</td>\n",
       "      <td>270822.000000</td>\n",
       "      <td>270822.000000</td>\n",
       "      <td>270822.000000</td>\n",
       "      <td>270822.000000</td>\n",
       "      <td>270822.0</td>\n",
       "      <td>270822.000000</td>\n",
       "    </tr>\n",
       "    <tr>\n",
       "      <th>mean</th>\n",
       "      <td>5619.505114</td>\n",
       "      <td>2004.734519</td>\n",
       "      <td>121.385087</td>\n",
       "      <td>125905.151723</td>\n",
       "      <td>6.014737</td>\n",
       "      <td>0.0</td>\n",
       "      <td>51293.546824</td>\n",
       "    </tr>\n",
       "    <tr>\n",
       "      <th>std</th>\n",
       "      <td>4523.436676</td>\n",
       "      <td>58.238938</td>\n",
       "      <td>192.846238</td>\n",
       "      <td>38257.569614</td>\n",
       "      <td>3.604605</td>\n",
       "      <td>0.0</td>\n",
       "      <td>25688.264240</td>\n",
       "    </tr>\n",
       "    <tr>\n",
       "      <th>min</th>\n",
       "      <td>1000.000000</td>\n",
       "      <td>1000.000000</td>\n",
       "      <td>0.000000</td>\n",
       "      <td>5000.000000</td>\n",
       "      <td>0.000000</td>\n",
       "      <td>0.0</td>\n",
       "      <td>1067.000000</td>\n",
       "    </tr>\n",
       "    <tr>\n",
       "      <th>25%</th>\n",
       "      <td>2100.000000</td>\n",
       "      <td>2001.000000</td>\n",
       "      <td>75.000000</td>\n",
       "      <td>100000.000000</td>\n",
       "      <td>3.000000</td>\n",
       "      <td>0.0</td>\n",
       "      <td>30982.000000</td>\n",
       "    </tr>\n",
       "    <tr>\n",
       "      <th>50%</th>\n",
       "      <td>3999.000000</td>\n",
       "      <td>2005.000000</td>\n",
       "      <td>116.000000</td>\n",
       "      <td>150000.000000</td>\n",
       "      <td>6.000000</td>\n",
       "      <td>0.0</td>\n",
       "      <td>50321.000000</td>\n",
       "    </tr>\n",
       "    <tr>\n",
       "      <th>75%</th>\n",
       "      <td>7900.000000</td>\n",
       "      <td>2008.000000</td>\n",
       "      <td>150.000000</td>\n",
       "      <td>150000.000000</td>\n",
       "      <td>9.000000</td>\n",
       "      <td>0.0</td>\n",
       "      <td>72108.000000</td>\n",
       "    </tr>\n",
       "    <tr>\n",
       "      <th>max</th>\n",
       "      <td>20000.000000</td>\n",
       "      <td>9999.000000</td>\n",
       "      <td>20000.000000</td>\n",
       "      <td>150000.000000</td>\n",
       "      <td>12.000000</td>\n",
       "      <td>0.0</td>\n",
       "      <td>99998.000000</td>\n",
       "    </tr>\n",
       "  </tbody>\n",
       "</table>\n",
       "</div>"
      ],
      "text/plain": [
       "               price  registration_year          power        mileage  \\\n",
       "count  270822.000000      270822.000000  270822.000000  270822.000000   \n",
       "mean     5619.505114        2004.734519     121.385087  125905.151723   \n",
       "std      4523.436676          58.238938     192.846238   38257.569614   \n",
       "min      1000.000000        1000.000000       0.000000    5000.000000   \n",
       "25%      2100.000000        2001.000000      75.000000  100000.000000   \n",
       "50%      3999.000000        2005.000000     116.000000  150000.000000   \n",
       "75%      7900.000000        2008.000000     150.000000  150000.000000   \n",
       "max     20000.000000        9999.000000   20000.000000  150000.000000   \n",
       "\n",
       "       registration_month  number_of_pictures    postal_code  \n",
       "count       270822.000000            270822.0  270822.000000  \n",
       "mean             6.014737                 0.0   51293.546824  \n",
       "std              3.604605                 0.0   25688.264240  \n",
       "min              0.000000                 0.0    1067.000000  \n",
       "25%              3.000000                 0.0   30982.000000  \n",
       "50%              6.000000                 0.0   50321.000000  \n",
       "75%              9.000000                 0.0   72108.000000  \n",
       "max             12.000000                 0.0   99998.000000  "
      ]
     },
     "execution_count": 13,
     "metadata": {},
     "output_type": "execute_result"
    }
   ],
   "source": [
    "# Se van a tratar los valores nulos\n",
    "\n",
    "# Se rellenan los valores nulos por la moda\n",
    "# Rellenar `vehicle_type` con la moda dentro de cada `brand`\n",
    "df_copy['vehicle_type'] = df_copy.groupby('brand')['vehicle_type'].transform(lambda x: x.fillna(x.mode()[0]))\n",
    "\n",
    "# Rellenar `gearbox` con la moda dentro de cada `brand`\n",
    "df_copy['gearbox'] = df_copy.groupby('brand')['gearbox'].transform(lambda x: x.fillna(x.mode()[0]))\n",
    "\n",
    "# Rellenar `fuel_type` con la moda dentro de cada `brand`\n",
    "df_copy['fuel_type'] = df_copy.groupby('brand')['fuel_type'].transform(lambda x: x.fillna(x.mode()[0]))\n",
    "\n",
    "# Rellenar `not_repaired` con la moda dentro de cada `brand`\n",
    "df_copy['not_repaired'] = df_copy.groupby('brand')['not_repaired'].transform(lambda x: x.fillna(x.mode()[0])) \n",
    "\n",
    "# df_copy = df_copy.reset_index(drop=True)\n",
    "df_copy.info()\n",
    "df_copy.describe() "
   ]
  },
  {
   "cell_type": "markdown",
   "metadata": {},
   "source": [
    "**Se termina con el preprocesamiento de datos**"
   ]
  },
  {
   "cell_type": "markdown",
   "metadata": {},
   "source": [
    "**Con esto ya tenemos nuestro dataframe listo para utilizarse, el siguiente paso es dividir el df en un conjunto de entrenamiento, uno de prueba y otro de validación**"
   ]
  },
  {
   "cell_type": "markdown",
   "metadata": {},
   "source": [
    "## Entrenamiento del modelo "
   ]
  },
  {
   "cell_type": "code",
   "execution_count": 14,
   "metadata": {},
   "outputs": [],
   "source": [
    "df_copy = pd.get_dummies(df_copy, columns=['vehicle_type', 'gearbox', 'model', 'fuel_type', 'not_repaired', 'brand'], drop_first=True)"
   ]
  },
  {
   "cell_type": "code",
   "execution_count": 15,
   "metadata": {},
   "outputs": [],
   "source": [
    "# Se declaran las caracteristicas y objetivos\n",
    "features_1 = df_copy.drop(columns=['price', 'date_crawled', 'registration_year', 'power', 'registration_month', 'date_created',\n",
    "                           'number_of_pictures', 'postal_code', 'last_seen'], axis= 1)\n",
    "target_1 = df_copy['price']\n"
   ]
  },
  {
   "cell_type": "code",
   "execution_count": 16,
   "metadata": {},
   "outputs": [],
   "source": [
    "# Dividir el conjunto de datos en entrenamiento (70%), validación (15%) y prueba (15%)\n",
    "X_train_1, X_temp, y_train_1, y_temp = train_test_split(features_1, target_1, test_size=0.3, random_state=12345)\n",
    "X_valid_1, X_test_1, y_valid_1, y_test_1 = train_test_split(X_temp, y_temp, test_size=0.5, random_state=12345)"
   ]
  },
  {
   "cell_type": "code",
   "execution_count": 17,
   "metadata": {
    "scrolled": false
   },
   "outputs": [
    {
     "name": "stdout",
     "output_type": "stream",
     "text": [
      "RECM para el modelo con regresión lineal: 3267.269939030333\n"
     ]
    }
   ],
   "source": [
    "# Entrenar el modelo\n",
    "model_1 = LinearRegression()\n",
    "model_1.fit(X_train_1, y_train_1)\n",
    "\n",
    "# Evaluar en el conjunto de validación\n",
    "valid_predictions_1 = model_1.predict(X_valid_1)\n",
    "\n",
    "# Ajustar las predicciones negativas a cero\n",
    "#valid_predictions = np.maximum(valid_predictions, 0)\n",
    "\n",
    "recm_valid = np.sqrt(mean_squared_error(y_valid_1, valid_predictions_1))\n",
    "\n",
    "print(f\"RECM para el modelo con regresión lineal: {recm_valid}\")\n",
    "\n",
    "#lr_rmse, lr_r2"
   ]
  },
  {
   "cell_type": "code",
   "execution_count": 18,
   "metadata": {},
   "outputs": [
    {
     "name": "stdout",
     "output_type": "stream",
     "text": [
      "Random Forest RMSE: 2938.8778499452633\n"
     ]
    }
   ],
   "source": [
    "# Entrenar el modelo\n",
    "model_2 = RandomForestRegressor(n_estimators=100, random_state=12345)\n",
    "model_2.fit(X_train_1, y_train_1)\n",
    "\n",
    "# Predicción\n",
    "pred_rf = model_2.predict(X_valid_1)\n",
    "\n",
    "# Evaluación usando RECM\n",
    "mse_rf = mean_squared_error(y_valid_1, pred_rf)\n",
    "rmse_rf = np.sqrt(mse_rf)\n",
    "print(f'Random Forest RMSE: {rmse_rf}')"
   ]
  },
  {
   "cell_type": "code",
   "execution_count": 19,
   "metadata": {},
   "outputs": [
    {
     "name": "stdout",
     "output_type": "stream",
     "text": [
      "Fitting 3 folds for each of 5 candidates, totalling 15 fits\n",
      "Mejores parámetros encontrados: {'n_estimators': 150, 'max_depth': 5, 'learning_rate': 0.2}\n",
      "RMSE con los mejores parámetros de XGBoost: 3023.7871948931856\n"
     ]
    }
   ],
   "source": [
    "# 4. Modelo de XGBoost\n",
    "# Entrenamos el modelo\n",
    "model_5 = xgb.XGBRegressor(objective='reg:squarederror', random_state=12345)\n",
    "\n",
    "# Definir el rango de hiperparámetros para probar\n",
    "param_dist = {\n",
    "    'n_estimators': [50, 100, 150],\n",
    "    'learning_rate': [0.01, 0.1, 0.2],\n",
    "    'max_depth': [3, 5, 7],\n",
    "}\n",
    "\n",
    "# Crear RandomizedSearchCV\n",
    "random_search = RandomizedSearchCV(estimator=model_5, param_distributions=param_dist, n_iter=5, cv=3, verbose=2, random_state=12345, n_jobs=-1, scoring='neg_mean_squared_error')\n",
    "\n",
    "# Ajustar el modelo usando el conjunto de entrenamiento\n",
    "random_search.fit(X_train_1, y_train_1)\n",
    "\n",
    "# Mejor combinación de parámetros\n",
    "print(f\"Mejores parámetros encontrados: {random_search.best_params_}\")\n",
    "\n",
    "# Mejor modelo\n",
    "best_model_xgb = random_search.best_estimator_\n",
    "\n",
    "# Evaluación del modelo\n",
    "predictions = best_model_xgb.predict(X_valid_1)\n",
    "rmse = np.sqrt(mean_squared_error(y_valid_1, predictions))\n",
    "print(f'RMSE con los mejores parámetros de XGBoost: {rmse}')"
   ]
  },
  {
   "cell_type": "code",
   "execution_count": 20,
   "metadata": {
    "scrolled": false
   },
   "outputs": [
    {
     "name": "stdout",
     "output_type": "stream",
     "text": [
      "Fitting 5 folds for each of 5 candidates, totalling 25 fits\n"
     ]
    },
    {
     "name": "stderr",
     "output_type": "stream",
     "text": [
      "c:\\Users\\pablo\\anaconda3\\Lib\\site-packages\\joblib\\externals\\loky\\backend\\context.py:136: UserWarning: Could not find the number of physical cores for the following reason:\n",
      "found 0 physical cores < 1\n",
      "Returning the number of logical cores instead. You can silence this warning by setting LOKY_MAX_CPU_COUNT to the number of cores you want to use.\n",
      "  warnings.warn(\n",
      "  File \"c:\\Users\\pablo\\anaconda3\\Lib\\site-packages\\joblib\\externals\\loky\\backend\\context.py\", line 282, in _count_physical_cores\n",
      "    raise ValueError(f\"found {cpu_count_physical} physical cores < 1\")\n"
     ]
    },
    {
     "name": "stdout",
     "output_type": "stream",
     "text": [
      "[LightGBM] [Info] Auto-choosing row-wise multi-threading, the overhead of testing was 0.002938 seconds.\n",
      "You can set `force_row_wise=true` to remove the overhead.\n",
      "And if memory is not enough, you can set `force_col_wise=true`.\n",
      "[LightGBM] [Info] Total Bins 570\n",
      "[LightGBM] [Info] Number of data points in the train set: 189575, number of used features: 279\n",
      "[LightGBM] [Info] Start training from score 5615.956883\n",
      "[LightGBM] [Warning] No further splits with positive gain, best gain: -inf\n",
      "[LightGBM] [Warning] No further splits with positive gain, best gain: -inf\n",
      "[LightGBM] [Warning] No further splits with positive gain, best gain: -inf\n",
      "[LightGBM] [Warning] No further splits with positive gain, best gain: -inf\n",
      "[LightGBM] [Warning] No further splits with positive gain, best gain: -inf\n",
      "[LightGBM] [Warning] No further splits with positive gain, best gain: -inf\n",
      "[LightGBM] [Warning] No further splits with positive gain, best gain: -inf\n",
      "[LightGBM] [Warning] No further splits with positive gain, best gain: -inf\n",
      "[LightGBM] [Warning] No further splits with positive gain, best gain: -inf\n",
      "[LightGBM] [Warning] No further splits with positive gain, best gain: -inf\n",
      "[LightGBM] [Warning] No further splits with positive gain, best gain: -inf\n",
      "[LightGBM] [Warning] No further splits with positive gain, best gain: -inf\n",
      "[LightGBM] [Warning] No further splits with positive gain, best gain: -inf\n",
      "[LightGBM] [Warning] No further splits with positive gain, best gain: -inf\n",
      "[LightGBM] [Warning] No further splits with positive gain, best gain: -inf\n",
      "[LightGBM] [Warning] No further splits with positive gain, best gain: -inf\n",
      "[LightGBM] [Warning] No further splits with positive gain, best gain: -inf\n",
      "[LightGBM] [Warning] No further splits with positive gain, best gain: -inf\n",
      "[LightGBM] [Warning] No further splits with positive gain, best gain: -inf\n",
      "[LightGBM] [Warning] No further splits with positive gain, best gain: -inf\n",
      "[LightGBM] [Warning] No further splits with positive gain, best gain: -inf\n",
      "[LightGBM] [Warning] No further splits with positive gain, best gain: -inf\n",
      "[LightGBM] [Warning] No further splits with positive gain, best gain: -inf\n",
      "[LightGBM] [Warning] No further splits with positive gain, best gain: -inf\n",
      "[LightGBM] [Warning] No further splits with positive gain, best gain: -inf\n",
      "[LightGBM] [Warning] No further splits with positive gain, best gain: -inf\n",
      "[LightGBM] [Warning] No further splits with positive gain, best gain: -inf\n",
      "[LightGBM] [Warning] No further splits with positive gain, best gain: -inf\n",
      "[LightGBM] [Warning] No further splits with positive gain, best gain: -inf\n",
      "[LightGBM] [Warning] No further splits with positive gain, best gain: -inf\n",
      "[LightGBM] [Warning] No further splits with positive gain, best gain: -inf\n",
      "[LightGBM] [Warning] No further splits with positive gain, best gain: -inf\n",
      "[LightGBM] [Warning] No further splits with positive gain, best gain: -inf\n",
      "[LightGBM] [Warning] No further splits with positive gain, best gain: -inf\n",
      "[LightGBM] [Warning] No further splits with positive gain, best gain: -inf\n",
      "[LightGBM] [Warning] No further splits with positive gain, best gain: -inf\n",
      "[LightGBM] [Warning] No further splits with positive gain, best gain: -inf\n",
      "[LightGBM] [Warning] No further splits with positive gain, best gain: -inf\n",
      "[LightGBM] [Warning] No further splits with positive gain, best gain: -inf\n",
      "[LightGBM] [Warning] No further splits with positive gain, best gain: -inf\n",
      "[LightGBM] [Warning] No further splits with positive gain, best gain: -inf\n",
      "[LightGBM] [Warning] No further splits with positive gain, best gain: -inf\n",
      "[LightGBM] [Warning] No further splits with positive gain, best gain: -inf\n",
      "[LightGBM] [Warning] No further splits with positive gain, best gain: -inf\n",
      "[LightGBM] [Warning] No further splits with positive gain, best gain: -inf\n",
      "[LightGBM] [Warning] No further splits with positive gain, best gain: -inf\n",
      "[LightGBM] [Warning] No further splits with positive gain, best gain: -inf\n",
      "[LightGBM] [Warning] No further splits with positive gain, best gain: -inf\n",
      "[LightGBM] [Warning] No further splits with positive gain, best gain: -inf\n",
      "[LightGBM] [Warning] No further splits with positive gain, best gain: -inf\n",
      "[LightGBM] [Warning] No further splits with positive gain, best gain: -inf\n",
      "[LightGBM] [Warning] No further splits with positive gain, best gain: -inf\n",
      "[LightGBM] [Warning] No further splits with positive gain, best gain: -inf\n",
      "[LightGBM] [Warning] No further splits with positive gain, best gain: -inf\n",
      "[LightGBM] [Warning] No further splits with positive gain, best gain: -inf\n",
      "[LightGBM] [Warning] No further splits with positive gain, best gain: -inf\n",
      "[LightGBM] [Warning] No further splits with positive gain, best gain: -inf\n",
      "[LightGBM] [Warning] No further splits with positive gain, best gain: -inf\n",
      "[LightGBM] [Warning] No further splits with positive gain, best gain: -inf\n",
      "[LightGBM] [Warning] No further splits with positive gain, best gain: -inf\n",
      "[LightGBM] [Warning] No further splits with positive gain, best gain: -inf\n",
      "[LightGBM] [Warning] No further splits with positive gain, best gain: -inf\n",
      "[LightGBM] [Warning] No further splits with positive gain, best gain: -inf\n",
      "[LightGBM] [Warning] No further splits with positive gain, best gain: -inf\n",
      "[LightGBM] [Warning] No further splits with positive gain, best gain: -inf\n",
      "[LightGBM] [Warning] No further splits with positive gain, best gain: -inf\n",
      "[LightGBM] [Warning] No further splits with positive gain, best gain: -inf\n",
      "[LightGBM] [Warning] No further splits with positive gain, best gain: -inf\n",
      "[LightGBM] [Warning] No further splits with positive gain, best gain: -inf\n",
      "[LightGBM] [Warning] No further splits with positive gain, best gain: -inf\n",
      "[LightGBM] [Warning] No further splits with positive gain, best gain: -inf\n",
      "[LightGBM] [Warning] No further splits with positive gain, best gain: -inf\n",
      "[LightGBM] [Warning] No further splits with positive gain, best gain: -inf\n",
      "[LightGBM] [Warning] No further splits with positive gain, best gain: -inf\n",
      "[LightGBM] [Warning] No further splits with positive gain, best gain: -inf\n",
      "[LightGBM] [Warning] No further splits with positive gain, best gain: -inf\n",
      "[LightGBM] [Warning] No further splits with positive gain, best gain: -inf\n",
      "[LightGBM] [Warning] No further splits with positive gain, best gain: -inf\n",
      "[LightGBM] [Warning] No further splits with positive gain, best gain: -inf\n",
      "[LightGBM] [Warning] No further splits with positive gain, best gain: -inf\n",
      "[LightGBM] [Warning] No further splits with positive gain, best gain: -inf\n",
      "[LightGBM] [Warning] No further splits with positive gain, best gain: -inf\n",
      "[LightGBM] [Warning] No further splits with positive gain, best gain: -inf\n",
      "[LightGBM] [Warning] No further splits with positive gain, best gain: -inf\n",
      "[LightGBM] [Warning] No further splits with positive gain, best gain: -inf\n",
      "[LightGBM] [Warning] No further splits with positive gain, best gain: -inf\n",
      "[LightGBM] [Warning] No further splits with positive gain, best gain: -inf\n",
      "[LightGBM] [Warning] No further splits with positive gain, best gain: -inf\n",
      "[LightGBM] [Warning] No further splits with positive gain, best gain: -inf\n",
      "[LightGBM] [Warning] No further splits with positive gain, best gain: -inf\n",
      "[LightGBM] [Warning] No further splits with positive gain, best gain: -inf\n",
      "[LightGBM] [Warning] No further splits with positive gain, best gain: -inf\n",
      "[LightGBM] [Warning] No further splits with positive gain, best gain: -inf\n",
      "[LightGBM] [Warning] No further splits with positive gain, best gain: -inf\n",
      "[LightGBM] [Warning] No further splits with positive gain, best gain: -inf\n",
      "[LightGBM] [Warning] No further splits with positive gain, best gain: -inf\n",
      "[LightGBM] [Warning] No further splits with positive gain, best gain: -inf\n",
      "[LightGBM] [Warning] No further splits with positive gain, best gain: -inf\n",
      "[LightGBM] [Warning] No further splits with positive gain, best gain: -inf\n",
      "[LightGBM] [Warning] No further splits with positive gain, best gain: -inf\n",
      "[LightGBM] [Warning] No further splits with positive gain, best gain: -inf\n",
      "[LightGBM] [Warning] No further splits with positive gain, best gain: -inf\n",
      "[LightGBM] [Warning] No further splits with positive gain, best gain: -inf\n",
      "[LightGBM] [Warning] No further splits with positive gain, best gain: -inf\n",
      "[LightGBM] [Warning] No further splits with positive gain, best gain: -inf\n",
      "[LightGBM] [Warning] No further splits with positive gain, best gain: -inf\n",
      "[LightGBM] [Warning] No further splits with positive gain, best gain: -inf\n",
      "[LightGBM] [Warning] No further splits with positive gain, best gain: -inf\n",
      "[LightGBM] [Warning] No further splits with positive gain, best gain: -inf\n",
      "[LightGBM] [Warning] No further splits with positive gain, best gain: -inf\n",
      "[LightGBM] [Warning] No further splits with positive gain, best gain: -inf\n",
      "[LightGBM] [Warning] No further splits with positive gain, best gain: -inf\n",
      "[LightGBM] [Warning] No further splits with positive gain, best gain: -inf\n",
      "[LightGBM] [Warning] No further splits with positive gain, best gain: -inf\n",
      "[LightGBM] [Warning] No further splits with positive gain, best gain: -inf\n",
      "[LightGBM] [Warning] No further splits with positive gain, best gain: -inf\n",
      "[LightGBM] [Warning] No further splits with positive gain, best gain: -inf\n",
      "[LightGBM] [Warning] No further splits with positive gain, best gain: -inf\n",
      "[LightGBM] [Warning] No further splits with positive gain, best gain: -inf\n",
      "[LightGBM] [Warning] No further splits with positive gain, best gain: -inf\n",
      "[LightGBM] [Warning] No further splits with positive gain, best gain: -inf\n",
      "[LightGBM] [Warning] No further splits with positive gain, best gain: -inf\n",
      "[LightGBM] [Warning] No further splits with positive gain, best gain: -inf\n",
      "[LightGBM] [Warning] No further splits with positive gain, best gain: -inf\n",
      "[LightGBM] [Warning] No further splits with positive gain, best gain: -inf\n",
      "[LightGBM] [Warning] No further splits with positive gain, best gain: -inf\n",
      "[LightGBM] [Warning] No further splits with positive gain, best gain: -inf\n",
      "[LightGBM] [Warning] No further splits with positive gain, best gain: -inf\n",
      "[LightGBM] [Warning] No further splits with positive gain, best gain: -inf\n",
      "[LightGBM] [Warning] No further splits with positive gain, best gain: -inf\n",
      "[LightGBM] [Warning] No further splits with positive gain, best gain: -inf\n",
      "[LightGBM] [Warning] No further splits with positive gain, best gain: -inf\n",
      "[LightGBM] [Warning] No further splits with positive gain, best gain: -inf\n",
      "[LightGBM] [Warning] No further splits with positive gain, best gain: -inf\n",
      "[LightGBM] [Warning] No further splits with positive gain, best gain: -inf\n",
      "[LightGBM] [Warning] No further splits with positive gain, best gain: -inf\n",
      "[LightGBM] [Warning] No further splits with positive gain, best gain: -inf\n",
      "[LightGBM] [Warning] No further splits with positive gain, best gain: -inf\n",
      "[LightGBM] [Warning] No further splits with positive gain, best gain: -inf\n",
      "[LightGBM] [Warning] No further splits with positive gain, best gain: -inf\n",
      "Mejores parámetros encontrados: {'n_estimators': 150, 'max_depth': 5, 'learning_rate': 0.2}\n",
      "RMSE con los mejores parámetros de LightGBM: 3023.399725394667\n"
     ]
    }
   ],
   "source": [
    "# 3. Modelo de LightGBM\n",
    "model_3 = lgb.LGBMRegressor(random_state=12345)\n",
    "\n",
    "\n",
    "# Definir el rango de hiperparámetros para probar\n",
    "param_dist = {\n",
    "    'n_estimators': [50, 100, 150],\n",
    "    'learning_rate': [0.01, 0.1, 0.2],\n",
    "    'max_depth': [3, 5, 7],\n",
    "}\n",
    "\n",
    "# Crear RandomizedSearchCV\n",
    "random_search = RandomizedSearchCV(estimator=model_3, param_distributions=param_dist, n_iter=5, cv=5, verbose=1, random_state=12345, n_jobs=-1, scoring='neg_mean_squared_error')\n",
    "\n",
    "# Ajustar el modelo usando el conjunto de entrenamiento\n",
    "random_search.fit(X_train_1, y_train_1)\n",
    "\n",
    "# Mejor combinación de parámetros\n",
    "print(f\"Mejores parámetros encontrados: {random_search.best_params_}\")\n",
    "\n",
    "# Mejor modelo\n",
    "best_model_lgb = random_search.best_estimator_\n",
    "\n",
    "# Evaluación del modelo\n",
    "predictions = best_model_lgb.predict(X_valid_1)\n",
    "rmse = np.sqrt(mean_squared_error(y_valid_1, predictions))\n",
    "print(f'RMSE con los mejores parámetros de LightGBM: {rmse}')"
   ]
  },
  {
   "cell_type": "code",
   "execution_count": 21,
   "metadata": {},
   "outputs": [],
   "source": [
    "# Se rellenan los valores ausentes del df original con unkown\n",
    "df.fillna('unknown', inplace=True)\n",
    "\n",
    "# Se declaran las caracteristicas y el objetivo\n",
    "features = df.drop(columns=['price', 'date_crawled', 'registration_year', 'power', 'registration_month', 'date_created',\n",
    "                           'number_of_pictures', 'postal_code', 'last_seen'], axis= 1)\n",
    "target = df['price']\n",
    "\n",
    "# Dividir el conjunto de datos en entrenamiento (70%), validación (15%) y prueba (15%)\n",
    "X_train, X_temp, y_train, y_temp = train_test_split(features, target, test_size=0.3, random_state=12345)\n",
    "X_valid, X_test, y_valid, y_test = train_test_split(X_temp, y_temp, test_size=0.5, random_state=12345)"
   ]
  },
  {
   "cell_type": "code",
   "execution_count": 22,
   "metadata": {},
   "outputs": [],
   "source": [
    "cat_features = [ 'vehicle_type', \n",
    "                'gearbox', \n",
    "                'model', \n",
    "                'fuel_type', \n",
    "                'brand', \n",
    "                'not_repaired', \n",
    "               ]"
   ]
  },
  {
   "cell_type": "code",
   "execution_count": 23,
   "metadata": {},
   "outputs": [
    {
     "name": "stdout",
     "output_type": "stream",
     "text": [
      "Fitting 5 folds for each of 12 candidates, totalling 60 fits\n",
      "Mejores parámetros encontrados: {'depth': 7, 'iterations': 150, 'learning_rate': 0.1}\n",
      "RMSE con los mejores parámetros de CatBoost: 2980.965132387067\n"
     ]
    }
   ],
   "source": [
    "# Definir el modelo base\n",
    "catboost_model = CatBoostRegressor(loss_function=\"RMSE\", random_seed=12345, cat_features=cat_features, verbose=0)\n",
    "\n",
    "# Definir el rango de hiperparámetros para probar\n",
    "param_grid_catboost = {\n",
    "    'iterations': [100, 150],\n",
    "    'learning_rate': [0.01, 0.1],\n",
    "    'depth': [5, 6, 7],\n",
    "}\n",
    "\n",
    "# Crear GridSearchCV\n",
    "grid_search_catboost = GridSearchCV(estimator=catboost_model, param_grid=param_grid_catboost, cv=5, n_jobs=-1, verbose=2, scoring='neg_mean_squared_error')\n",
    "\n",
    "# Ajustar el modelo usando el conjunto de entrenamiento\n",
    "grid_search_catboost.fit(X_train, y_train)\n",
    "\n",
    "# Mejor combinación de parámetros\n",
    "print(f\"Mejores parámetros encontrados: {grid_search_catboost.best_params_}\")\n",
    "\n",
    "# Mejor modelo\n",
    "best_catboost_model = grid_search_catboost.best_estimator_\n",
    "\n",
    "# Evaluación del modelo\n",
    "predictions_catboost = best_catboost_model.predict(X_valid)\n",
    "rmse_catboost = np.sqrt(mean_squared_error(y_valid, predictions_catboost))\n",
    "print(f'RMSE con los mejores parámetros de CatBoost: {rmse_catboost}')"
   ]
  },
  {
   "cell_type": "markdown",
   "metadata": {},
   "source": [
    "## Análisis del modelo"
   ]
  },
  {
   "cell_type": "markdown",
   "metadata": {},
   "source": [
    "**1. Analizar la velocidad y la calidad de cada modelo**"
   ]
  },
  {
   "cell_type": "code",
   "execution_count": 24,
   "metadata": {},
   "outputs": [],
   "source": [
    "# Función para medir el tiempo de entrenamiento y evaluar calidad\n",
    "def evaluate_model(model, X_train, y_train, X_valid, y_valid):\n",
    "    start_time = time.time()  # Iniciar temporizador\n",
    "\n",
    "    # Entrenar el modelo\n",
    "    model.fit(X_train, y_train)\n",
    "\n",
    "    # Medir el tiempo de entrenamiento\n",
    "    training_time = time.time() - start_time  # Tiempo de entrenamiento\n",
    "\n",
    "    # Predicciones en el conjunto de validación\n",
    "    predictions = model.predict(X_valid)\n",
    "\n",
    "    # Calcular RMSE\n",
    "    rmse = np.sqrt(mean_squared_error(y_valid, predictions))\n",
    "\n",
    "    # Calcular R²\n",
    "    r2 = r2_score(y_valid, predictions)\n",
    "\n",
    "    return training_time, rmse, r2"
   ]
  },
  {
   "cell_type": "markdown",
   "metadata": {},
   "source": [
    "**2. Evaluación de los modelos**"
   ]
  },
  {
   "cell_type": "code",
   "execution_count": 25,
   "metadata": {},
   "outputs": [
    {
     "name": "stdout",
     "output_type": "stream",
     "text": [
      "\n",
      "Evaluación de Regresión Lineal:\n",
      "Tiempo de entrenamiento de Regresión Lineal: 1.2605 segundos\n",
      "RMSE de Regresión Lineal: 3267.2699\n",
      "R² de Regresión Lineal: 0.4772\n"
     ]
    }
   ],
   "source": [
    "# 2.4. Modelo de Regresión Lineal\n",
    "print(\"\\nEvaluación de Regresión Lineal:\")\n",
    "lr_training_time, lr_rmse, lr_r2 = evaluate_model(model_1, X_train_1, y_train_1, X_valid_1, y_valid_1)\n",
    "print(f\"Tiempo de entrenamiento de Regresión Lineal: {lr_training_time:.4f} segundos\")\n",
    "print(f\"RMSE de Regresión Lineal: {lr_rmse:.4f}\")\n",
    "print(f\"R² de Regresión Lineal: {lr_r2:.4f}\")\n"
   ]
  },
  {
   "cell_type": "code",
   "execution_count": 26,
   "metadata": {},
   "outputs": [
    {
     "name": "stdout",
     "output_type": "stream",
     "text": [
      "\n",
      "Evaluación de Random Forest:\n",
      "Tiempo de entrenamiento de Random Forest: 384.1918 segundos\n",
      "RMSE de Random Forest: 2938.8778\n",
      "R² de Random Forest: 0.5770\n"
     ]
    }
   ],
   "source": [
    "# 2.5. Modelo de Random Forest\n",
    "print(\"\\nEvaluación de Random Forest:\")\n",
    "rf_training_time, rf_rmse, rf_r2 = evaluate_model(model_2, X_train_1, y_train_1, X_valid_1, y_valid_1)\n",
    "print(f\"Tiempo de entrenamiento de Random Forest: {rf_training_time:.4f} segundos\")\n",
    "print(f\"RMSE de Random Forest: {rf_rmse:.4f}\")\n",
    "print(f\"R² de Random Forest: {rf_r2:.4f}\")"
   ]
  },
  {
   "cell_type": "code",
   "execution_count": 27,
   "metadata": {},
   "outputs": [
    {
     "name": "stdout",
     "output_type": "stream",
     "text": [
      "\n",
      "Evaluación de XGBoost:\n",
      "Tiempo de entrenamiento de XGBoost: 1.4106 segundos\n",
      "RMSE de XGBoost: 3023.7872\n",
      "R² de XGBoost: 0.5522\n"
     ]
    }
   ],
   "source": [
    "# 2.1. Modelo de XGBoost (RandomizedSearchCV ya está definido)\n",
    "print(\"\\nEvaluación de XGBoost:\")\n",
    "xgb_training_time, xgb_rmse, xgb_r2 = evaluate_model(best_model_xgb, X_train_1, y_train_1, X_valid_1, y_valid_1)\n",
    "print(f\"Tiempo de entrenamiento de XGBoost: {xgb_training_time:.4f} segundos\")\n",
    "print(f\"RMSE de XGBoost: {xgb_rmse:.4f}\")\n",
    "print(f\"R² de XGBoost: {xgb_r2:.4f}\")\n",
    "\n",
    "\n",
    "#revisar best_model de todos los entrenamientos"
   ]
  },
  {
   "cell_type": "code",
   "execution_count": 28,
   "metadata": {},
   "outputs": [
    {
     "name": "stdout",
     "output_type": "stream",
     "text": [
      "\n",
      "Evaluación de LightGBM:\n",
      "[LightGBM] [Info] Auto-choosing row-wise multi-threading, the overhead of testing was 0.003046 seconds.\n",
      "You can set `force_row_wise=true` to remove the overhead.\n",
      "And if memory is not enough, you can set `force_col_wise=true`.\n",
      "[LightGBM] [Info] Total Bins 570\n",
      "[LightGBM] [Info] Number of data points in the train set: 189575, number of used features: 279\n",
      "[LightGBM] [Info] Start training from score 5615.956883\n",
      "[LightGBM] [Warning] No further splits with positive gain, best gain: -inf\n",
      "[LightGBM] [Warning] No further splits with positive gain, best gain: -inf\n",
      "[LightGBM] [Warning] No further splits with positive gain, best gain: -inf\n",
      "[LightGBM] [Warning] No further splits with positive gain, best gain: -inf\n",
      "[LightGBM] [Warning] No further splits with positive gain, best gain: -inf\n",
      "[LightGBM] [Warning] No further splits with positive gain, best gain: -inf\n",
      "[LightGBM] [Warning] No further splits with positive gain, best gain: -inf\n",
      "[LightGBM] [Warning] No further splits with positive gain, best gain: -inf\n",
      "[LightGBM] [Warning] No further splits with positive gain, best gain: -inf\n",
      "[LightGBM] [Warning] No further splits with positive gain, best gain: -inf\n",
      "[LightGBM] [Warning] No further splits with positive gain, best gain: -inf\n",
      "[LightGBM] [Warning] No further splits with positive gain, best gain: -inf\n",
      "[LightGBM] [Warning] No further splits with positive gain, best gain: -inf\n",
      "[LightGBM] [Warning] No further splits with positive gain, best gain: -inf\n",
      "[LightGBM] [Warning] No further splits with positive gain, best gain: -inf\n",
      "[LightGBM] [Warning] No further splits with positive gain, best gain: -inf\n",
      "[LightGBM] [Warning] No further splits with positive gain, best gain: -inf\n",
      "[LightGBM] [Warning] No further splits with positive gain, best gain: -inf\n",
      "[LightGBM] [Warning] No further splits with positive gain, best gain: -inf\n",
      "[LightGBM] [Warning] No further splits with positive gain, best gain: -inf\n",
      "[LightGBM] [Warning] No further splits with positive gain, best gain: -inf\n",
      "[LightGBM] [Warning] No further splits with positive gain, best gain: -inf\n",
      "[LightGBM] [Warning] No further splits with positive gain, best gain: -inf\n",
      "[LightGBM] [Warning] No further splits with positive gain, best gain: -inf\n",
      "[LightGBM] [Warning] No further splits with positive gain, best gain: -inf\n",
      "[LightGBM] [Warning] No further splits with positive gain, best gain: -inf\n",
      "[LightGBM] [Warning] No further splits with positive gain, best gain: -inf\n",
      "[LightGBM] [Warning] No further splits with positive gain, best gain: -inf\n",
      "[LightGBM] [Warning] No further splits with positive gain, best gain: -inf\n",
      "[LightGBM] [Warning] No further splits with positive gain, best gain: -inf\n",
      "[LightGBM] [Warning] No further splits with positive gain, best gain: -inf\n",
      "[LightGBM] [Warning] No further splits with positive gain, best gain: -inf\n",
      "[LightGBM] [Warning] No further splits with positive gain, best gain: -inf\n",
      "[LightGBM] [Warning] No further splits with positive gain, best gain: -inf\n",
      "[LightGBM] [Warning] No further splits with positive gain, best gain: -inf\n",
      "[LightGBM] [Warning] No further splits with positive gain, best gain: -inf\n",
      "[LightGBM] [Warning] No further splits with positive gain, best gain: -inf\n",
      "[LightGBM] [Warning] No further splits with positive gain, best gain: -inf\n",
      "[LightGBM] [Warning] No further splits with positive gain, best gain: -inf\n",
      "[LightGBM] [Warning] No further splits with positive gain, best gain: -inf\n",
      "[LightGBM] [Warning] No further splits with positive gain, best gain: -inf\n",
      "[LightGBM] [Warning] No further splits with positive gain, best gain: -inf\n",
      "[LightGBM] [Warning] No further splits with positive gain, best gain: -inf\n",
      "[LightGBM] [Warning] No further splits with positive gain, best gain: -inf\n",
      "[LightGBM] [Warning] No further splits with positive gain, best gain: -inf\n",
      "[LightGBM] [Warning] No further splits with positive gain, best gain: -inf\n",
      "[LightGBM] [Warning] No further splits with positive gain, best gain: -inf\n",
      "[LightGBM] [Warning] No further splits with positive gain, best gain: -inf\n",
      "[LightGBM] [Warning] No further splits with positive gain, best gain: -inf\n",
      "[LightGBM] [Warning] No further splits with positive gain, best gain: -inf\n",
      "[LightGBM] [Warning] No further splits with positive gain, best gain: -inf\n",
      "[LightGBM] [Warning] No further splits with positive gain, best gain: -inf\n",
      "[LightGBM] [Warning] No further splits with positive gain, best gain: -inf\n",
      "[LightGBM] [Warning] No further splits with positive gain, best gain: -inf\n",
      "[LightGBM] [Warning] No further splits with positive gain, best gain: -inf\n",
      "[LightGBM] [Warning] No further splits with positive gain, best gain: -inf\n",
      "[LightGBM] [Warning] No further splits with positive gain, best gain: -inf\n",
      "[LightGBM] [Warning] No further splits with positive gain, best gain: -inf\n",
      "[LightGBM] [Warning] No further splits with positive gain, best gain: -inf\n",
      "[LightGBM] [Warning] No further splits with positive gain, best gain: -inf\n",
      "[LightGBM] [Warning] No further splits with positive gain, best gain: -inf\n",
      "[LightGBM] [Warning] No further splits with positive gain, best gain: -inf\n",
      "[LightGBM] [Warning] No further splits with positive gain, best gain: -inf\n",
      "[LightGBM] [Warning] No further splits with positive gain, best gain: -inf\n",
      "[LightGBM] [Warning] No further splits with positive gain, best gain: -inf\n",
      "[LightGBM] [Warning] No further splits with positive gain, best gain: -inf\n",
      "[LightGBM] [Warning] No further splits with positive gain, best gain: -inf\n",
      "[LightGBM] [Warning] No further splits with positive gain, best gain: -inf\n",
      "[LightGBM] [Warning] No further splits with positive gain, best gain: -inf\n",
      "[LightGBM] [Warning] No further splits with positive gain, best gain: -inf\n",
      "[LightGBM] [Warning] No further splits with positive gain, best gain: -inf\n",
      "[LightGBM] [Warning] No further splits with positive gain, best gain: -inf\n",
      "[LightGBM] [Warning] No further splits with positive gain, best gain: -inf\n",
      "[LightGBM] [Warning] No further splits with positive gain, best gain: -inf\n",
      "[LightGBM] [Warning] No further splits with positive gain, best gain: -inf\n",
      "[LightGBM] [Warning] No further splits with positive gain, best gain: -inf\n",
      "[LightGBM] [Warning] No further splits with positive gain, best gain: -inf\n",
      "[LightGBM] [Warning] No further splits with positive gain, best gain: -inf\n",
      "[LightGBM] [Warning] No further splits with positive gain, best gain: -inf\n",
      "[LightGBM] [Warning] No further splits with positive gain, best gain: -inf\n",
      "[LightGBM] [Warning] No further splits with positive gain, best gain: -inf\n",
      "[LightGBM] [Warning] No further splits with positive gain, best gain: -inf\n",
      "[LightGBM] [Warning] No further splits with positive gain, best gain: -inf\n",
      "[LightGBM] [Warning] No further splits with positive gain, best gain: -inf\n",
      "[LightGBM] [Warning] No further splits with positive gain, best gain: -inf\n",
      "[LightGBM] [Warning] No further splits with positive gain, best gain: -inf\n",
      "[LightGBM] [Warning] No further splits with positive gain, best gain: -inf\n",
      "[LightGBM] [Warning] No further splits with positive gain, best gain: -inf\n",
      "[LightGBM] [Warning] No further splits with positive gain, best gain: -inf\n",
      "[LightGBM] [Warning] No further splits with positive gain, best gain: -inf\n",
      "[LightGBM] [Warning] No further splits with positive gain, best gain: -inf\n",
      "[LightGBM] [Warning] No further splits with positive gain, best gain: -inf\n",
      "[LightGBM] [Warning] No further splits with positive gain, best gain: -inf\n",
      "[LightGBM] [Warning] No further splits with positive gain, best gain: -inf\n",
      "[LightGBM] [Warning] No further splits with positive gain, best gain: -inf\n",
      "[LightGBM] [Warning] No further splits with positive gain, best gain: -inf\n",
      "[LightGBM] [Warning] No further splits with positive gain, best gain: -inf\n",
      "[LightGBM] [Warning] No further splits with positive gain, best gain: -inf\n",
      "[LightGBM] [Warning] No further splits with positive gain, best gain: -inf\n",
      "[LightGBM] [Warning] No further splits with positive gain, best gain: -inf\n",
      "[LightGBM] [Warning] No further splits with positive gain, best gain: -inf\n",
      "[LightGBM] [Warning] No further splits with positive gain, best gain: -inf\n",
      "[LightGBM] [Warning] No further splits with positive gain, best gain: -inf\n",
      "[LightGBM] [Warning] No further splits with positive gain, best gain: -inf\n",
      "[LightGBM] [Warning] No further splits with positive gain, best gain: -inf\n",
      "[LightGBM] [Warning] No further splits with positive gain, best gain: -inf\n",
      "[LightGBM] [Warning] No further splits with positive gain, best gain: -inf\n",
      "[LightGBM] [Warning] No further splits with positive gain, best gain: -inf\n",
      "[LightGBM] [Warning] No further splits with positive gain, best gain: -inf\n",
      "[LightGBM] [Warning] No further splits with positive gain, best gain: -inf\n",
      "[LightGBM] [Warning] No further splits with positive gain, best gain: -inf\n",
      "[LightGBM] [Warning] No further splits with positive gain, best gain: -inf\n",
      "[LightGBM] [Warning] No further splits with positive gain, best gain: -inf\n",
      "[LightGBM] [Warning] No further splits with positive gain, best gain: -inf\n",
      "[LightGBM] [Warning] No further splits with positive gain, best gain: -inf\n",
      "[LightGBM] [Warning] No further splits with positive gain, best gain: -inf\n",
      "[LightGBM] [Warning] No further splits with positive gain, best gain: -inf\n",
      "[LightGBM] [Warning] No further splits with positive gain, best gain: -inf\n",
      "[LightGBM] [Warning] No further splits with positive gain, best gain: -inf\n",
      "[LightGBM] [Warning] No further splits with positive gain, best gain: -inf\n",
      "[LightGBM] [Warning] No further splits with positive gain, best gain: -inf\n",
      "[LightGBM] [Warning] No further splits with positive gain, best gain: -inf\n",
      "[LightGBM] [Warning] No further splits with positive gain, best gain: -inf\n",
      "[LightGBM] [Warning] No further splits with positive gain, best gain: -inf\n",
      "[LightGBM] [Warning] No further splits with positive gain, best gain: -inf\n",
      "[LightGBM] [Warning] No further splits with positive gain, best gain: -inf\n",
      "[LightGBM] [Warning] No further splits with positive gain, best gain: -inf\n",
      "[LightGBM] [Warning] No further splits with positive gain, best gain: -inf\n",
      "[LightGBM] [Warning] No further splits with positive gain, best gain: -inf\n",
      "[LightGBM] [Warning] No further splits with positive gain, best gain: -inf\n",
      "[LightGBM] [Warning] No further splits with positive gain, best gain: -inf\n",
      "[LightGBM] [Warning] No further splits with positive gain, best gain: -inf\n",
      "[LightGBM] [Warning] No further splits with positive gain, best gain: -inf\n",
      "[LightGBM] [Warning] No further splits with positive gain, best gain: -inf\n",
      "[LightGBM] [Warning] No further splits with positive gain, best gain: -inf\n",
      "[LightGBM] [Warning] No further splits with positive gain, best gain: -inf\n",
      "[LightGBM] [Warning] No further splits with positive gain, best gain: -inf\n",
      "[LightGBM] [Warning] No further splits with positive gain, best gain: -inf\n",
      "[LightGBM] [Warning] No further splits with positive gain, best gain: -inf\n",
      "[LightGBM] [Warning] No further splits with positive gain, best gain: -inf\n",
      "Tiempo de entrenamiento de LightGBM: 0.5737 segundos\n",
      "RMSE de LightGBM: 3023.3997\n",
      "R² de LightGBM: 0.5523\n"
     ]
    }
   ],
   "source": [
    "# 2.2. Modelo de LightGBM (RandomizedSearchCV ya está definido)\n",
    "print(\"\\nEvaluación de LightGBM:\")\n",
    "lgb_training_time, lgb_rmse, lgb_r2 = evaluate_model(best_model_lgb, X_train_1, y_train_1, X_valid_1, y_valid_1)\n",
    "print(f\"Tiempo de entrenamiento de LightGBM: {lgb_training_time:.4f} segundos\")\n",
    "print(f\"RMSE de LightGBM: {lgb_rmse:.4f}\")\n",
    "print(f\"R² de LightGBM: {lgb_r2:.4f}\")\n"
   ]
  },
  {
   "cell_type": "code",
   "execution_count": 29,
   "metadata": {},
   "outputs": [
    {
     "name": "stdout",
     "output_type": "stream",
     "text": [
      "\n",
      "Evaluación de CatBoost:\n",
      "Tiempo de entrenamiento de CatBoost: 7.0044 segundos\n",
      "RMSE de CatBoost: 2980.9651\n",
      "R² de CatBoost: 0.5648\n"
     ]
    }
   ],
   "source": [
    "# 2.3. Modelo de CatBoost (GridSearchCV ya está definido)\n",
    "print(\"\\nEvaluación de CatBoost:\")\n",
    "catboost_training_time, catboost_rmse, catboost_r2 = evaluate_model(best_catboost_model, X_train, y_train, X_valid, y_valid)\n",
    "print(f\"Tiempo de entrenamiento de CatBoost: {catboost_training_time:.4f} segundos\")\n",
    "print(f\"RMSE de CatBoost: {catboost_rmse:.4f}\")\n",
    "print(f\"R² de CatBoost: {catboost_r2:.4f}\")"
   ]
  },
  {
   "cell_type": "markdown",
   "metadata": {},
   "source": [
    "## Prueba final"
   ]
  },
  {
   "cell_type": "code",
   "execution_count": 30,
   "metadata": {},
   "outputs": [
    {
     "name": "stdout",
     "output_type": "stream",
     "text": [
      "RMSE con los mejores parámetros de CatBoost en el conjunto de prueba: 3002.642981420752\n"
     ]
    }
   ],
   "source": [
    "# Se hacen las predicciones en el conjunto de prueba y se evalúa el modelo elegido\n",
    "predictions_final_test = best_catboost_model.predict(X_test)\n",
    "rmse_test = np.sqrt(mean_squared_error(y_test, predictions_final_test))\n",
    "\n",
    "print(f'RMSE con los mejores parámetros de CatBoost en el conjunto de prueba: {rmse_test}')\n"
   ]
  },
  {
   "cell_type": "code",
   "execution_count": 31,
   "metadata": {},
   "outputs": [
    {
     "name": "stdout",
     "output_type": "stream",
     "text": [
      "R² con los mejores parámetros de CatBoost en el conjunto de prueba: 0.5639460178225684\n"
     ]
    }
   ],
   "source": [
    "#Se evalúa con r2\n",
    "r2_test = r2_score(y_test, predictions_final_test)\n",
    "\n",
    "print(f'R² con los mejores parámetros de CatBoost en el conjunto de prueba: {r2_test}')"
   ]
  },
  {
   "cell_type": "markdown",
   "metadata": {},
   "source": [
    "CatBoost tiene un rendimiento bastante bueno en este caso. El RMSE está alrededor de 3000, lo que significa que el modelo hace predicciones razonablemente cercanas al precio real, y el R² indica que está capturando una buena parte de la variabilidad. Además, se comporta de manera consistente tanto en los datos de validación como en los de prueba, lo que sugiere que está generalizando bien y no sobreajustando los datos. En general, parece ser una opción sólida para predecir precios de autos."
   ]
  },
  {
   "cell_type": "markdown",
   "metadata": {},
   "source": [
    "## Conclusión"
   ]
  },
  {
   "cell_type": "markdown",
   "metadata": {},
   "source": [
    "Tras analizar los resultados de los modelos, CatBoost destaca como la opción más equilibrada y adecuada para este problema. Aunque Random Forest tiene el mejor desempeño en términos de precisión (RMSE y R²), su tiempo de entrenamiento es significativamente más largo en comparación con CatBoost. Por otro lado, LightGBM ofrece buenos resultados en cuanto a tiempo de entrenamiento, pero CatBoost se destaca por tener un rendimiento superior tanto en precisión como en tiempo de entrenamiento.\n",
    "\n",
    "CatBoost ha demostrado ser más preciso que XGBoost y LightGBM, con un RMSE más bajo y un R² más alto, lo que indica que hace un mejor trabajo al capturar la variabilidad en los precios.\n",
    "\n",
    "En términos de tiempo, aunque CatBoost no es tan rápido como LightGBM, su tiempo de entrenamiento de 10.73 segundos es mucho más razonable que el de Random Forest y XGBoost, lo que lo convierte en una opción más rápida sin sacrificar una alta calidad en las predicciones.\n",
    "\n",
    "Por lo tanto, el modelo que combina buena precisión con tiempos de entrenamiento razonables, CatBoost es la opción más adecuada. Su capacidad para manejar tanto la velocidad como la calidad lo hace una elección ideal para este caso."
   ]
  },
  {
   "cell_type": "markdown",
   "metadata": {},
   "source": [
    "# Lista de control"
   ]
  },
  {
   "cell_type": "markdown",
   "metadata": {},
   "source": [
    "Escribe 'x' para verificar. Luego presiona Shift+Enter"
   ]
  },
  {
   "cell_type": "markdown",
   "metadata": {},
   "source": [
    "- [x]  Jupyter Notebook está abierto\n",
    "- [x]  El código no tiene errores\n",
    "- [x]  Las celdas con el código han sido colocadas en orden de ejecución\n",
    "- [x]  Los datos han sido descargados y preparados\n",
    "- [x]  Los modelos han sido entrenados\n",
    "- [x]  Se realizó el análisis de velocidad y calidad de los modelos"
   ]
  }
 ],
 "metadata": {
  "ExecuteTimeLog": [
   {
    "duration": 872,
    "start_time": "2025-01-22T04:38:00.383Z"
   },
   {
    "duration": 523,
    "start_time": "2025-01-22T04:40:38.838Z"
   },
   {
    "duration": 491,
    "start_time": "2025-01-22T04:41:26.020Z"
   },
   {
    "duration": 148,
    "start_time": "2025-01-22T04:41:43.214Z"
   },
   {
    "duration": 210,
    "start_time": "2025-01-22T05:01:03.535Z"
   },
   {
    "duration": 26,
    "start_time": "2025-01-22T05:01:19.339Z"
   },
   {
    "duration": 217,
    "start_time": "2025-01-22T05:01:28.305Z"
   },
   {
    "duration": 10,
    "start_time": "2025-01-22T05:02:37.216Z"
   },
   {
    "duration": 12,
    "start_time": "2025-01-22T05:09:26.334Z"
   },
   {
    "duration": 15,
    "start_time": "2025-01-22T05:09:36.698Z"
   },
   {
    "duration": 13,
    "start_time": "2025-01-22T05:09:50.680Z"
   },
   {
    "duration": 13,
    "start_time": "2025-01-22T05:10:00.770Z"
   },
   {
    "duration": 17,
    "start_time": "2025-01-22T05:11:04.989Z"
   },
   {
    "duration": 261,
    "start_time": "2025-01-22T05:11:37.656Z"
   },
   {
    "duration": 245,
    "start_time": "2025-01-22T05:11:49.066Z"
   },
   {
    "duration": 75,
    "start_time": "2025-01-22T05:12:46.371Z"
   },
   {
    "duration": 62,
    "start_time": "2025-01-22T05:13:02.377Z"
   },
   {
    "duration": 144,
    "start_time": "2025-01-22T05:13:57.037Z"
   },
   {
    "duration": 158,
    "start_time": "2025-01-25T20:00:15.654Z"
   },
   {
    "duration": 783,
    "start_time": "2025-01-25T20:00:29.837Z"
   },
   {
    "duration": 466,
    "start_time": "2025-01-25T20:00:30.622Z"
   },
   {
    "duration": 199,
    "start_time": "2025-01-25T20:00:31.090Z"
   },
   {
    "duration": 33,
    "start_time": "2025-01-25T20:00:31.292Z"
   },
   {
    "duration": 5,
    "start_time": "2025-01-25T20:00:31.327Z"
   },
   {
    "duration": 240,
    "start_time": "2025-01-25T20:02:44.158Z"
   },
   {
    "duration": 230,
    "start_time": "2025-01-25T20:02:55.384Z"
   },
   {
    "duration": 11,
    "start_time": "2025-01-25T20:08:43.415Z"
   },
   {
    "duration": 229,
    "start_time": "2025-01-25T20:19:15.334Z"
   },
   {
    "duration": 2,
    "start_time": "2025-01-25T20:21:12.070Z"
   },
   {
    "duration": 365,
    "start_time": "2025-01-25T20:21:52.430Z"
   },
   {
    "duration": 310,
    "start_time": "2025-01-25T20:27:21.324Z"
   },
   {
    "duration": 394,
    "start_time": "2025-01-25T20:32:53.692Z"
   },
   {
    "duration": 796,
    "start_time": "2025-01-25T22:13:18.249Z"
   },
   {
    "duration": 471,
    "start_time": "2025-01-25T22:13:19.048Z"
   },
   {
    "duration": 185,
    "start_time": "2025-01-25T22:13:19.521Z"
   },
   {
    "duration": 22,
    "start_time": "2025-01-25T22:13:19.709Z"
   },
   {
    "duration": 237,
    "start_time": "2025-01-25T22:13:19.742Z"
   },
   {
    "duration": 410,
    "start_time": "2025-01-25T22:13:19.982Z"
   },
   {
    "duration": 4,
    "start_time": "2025-01-25T22:13:20.394Z"
   },
   {
    "duration": 785,
    "start_time": "2025-01-25T22:19:25.755Z"
   },
   {
    "duration": 410,
    "start_time": "2025-01-25T22:19:26.542Z"
   },
   {
    "duration": 155,
    "start_time": "2025-01-25T22:19:26.953Z"
   },
   {
    "duration": 23,
    "start_time": "2025-01-25T22:19:27.109Z"
   },
   {
    "duration": 229,
    "start_time": "2025-01-25T22:19:27.142Z"
   },
   {
    "duration": 262,
    "start_time": "2025-01-25T22:19:27.373Z"
   },
   {
    "duration": 231,
    "start_time": "2025-01-25T22:19:27.637Z"
   },
   {
    "duration": 121,
    "start_time": "2025-01-25T22:26:56.046Z"
   },
   {
    "duration": 748,
    "start_time": "2025-01-25T22:28:57.191Z"
   },
   {
    "duration": 397,
    "start_time": "2025-01-25T22:28:57.941Z"
   },
   {
    "duration": 201,
    "start_time": "2025-01-25T22:28:58.343Z"
   },
   {
    "duration": 27,
    "start_time": "2025-01-25T22:28:58.546Z"
   },
   {
    "duration": 256,
    "start_time": "2025-01-25T22:28:58.575Z"
   },
   {
    "duration": 303,
    "start_time": "2025-01-25T22:28:58.833Z"
   },
   {
    "duration": 6,
    "start_time": "2025-01-25T22:28:59.138Z"
   },
   {
    "duration": 117,
    "start_time": "2025-01-25T22:29:08.213Z"
   },
   {
    "duration": 110,
    "start_time": "2025-01-25T22:29:53.050Z"
   },
   {
    "duration": 266,
    "start_time": "2025-01-25T22:31:05.405Z"
   },
   {
    "duration": 266,
    "start_time": "2025-01-25T22:36:23.261Z"
   },
   {
    "duration": 755,
    "start_time": "2025-01-25T22:39:59.485Z"
   },
   {
    "duration": 422,
    "start_time": "2025-01-25T22:40:00.248Z"
   },
   {
    "duration": 209,
    "start_time": "2025-01-25T22:40:00.672Z"
   },
   {
    "duration": 29,
    "start_time": "2025-01-25T22:40:00.883Z"
   },
   {
    "duration": 256,
    "start_time": "2025-01-25T22:40:00.914Z"
   },
   {
    "duration": 398,
    "start_time": "2025-01-25T22:40:01.172Z"
   },
   {
    "duration": 3,
    "start_time": "2025-01-25T22:40:01.572Z"
   },
   {
    "duration": 0,
    "start_time": "2025-01-25T22:40:01.577Z"
   },
   {
    "duration": 255,
    "start_time": "2025-01-25T22:40:54.927Z"
   },
   {
    "duration": 195,
    "start_time": "2025-01-25T22:42:08.901Z"
   },
   {
    "duration": 207,
    "start_time": "2025-01-25T22:43:01.160Z"
   },
   {
    "duration": 547,
    "start_time": "2025-01-25T22:44:55.357Z"
   },
   {
    "duration": 344,
    "start_time": "2025-01-25T22:45:13.798Z"
   },
   {
    "duration": 41,
    "start_time": "2025-01-25T22:45:22.828Z"
   },
   {
    "duration": 758,
    "start_time": "2025-01-25T22:45:38.593Z"
   },
   {
    "duration": 429,
    "start_time": "2025-01-25T22:45:39.354Z"
   },
   {
    "duration": 269,
    "start_time": "2025-01-25T22:45:39.785Z"
   },
   {
    "duration": 30,
    "start_time": "2025-01-25T22:45:40.057Z"
   },
   {
    "duration": 289,
    "start_time": "2025-01-25T22:45:40.090Z"
   },
   {
    "duration": 380,
    "start_time": "2025-01-25T22:45:40.381Z"
   },
   {
    "duration": 228,
    "start_time": "2025-01-25T22:45:40.763Z"
   },
   {
    "duration": 3,
    "start_time": "2025-01-25T22:45:40.993Z"
   },
   {
    "duration": 352,
    "start_time": "2025-01-25T22:45:48.404Z"
   },
   {
    "duration": 714,
    "start_time": "2025-01-25T22:49:01.936Z"
   },
   {
    "duration": 418,
    "start_time": "2025-01-25T22:49:02.652Z"
   },
   {
    "duration": 190,
    "start_time": "2025-01-25T22:49:03.072Z"
   },
   {
    "duration": 25,
    "start_time": "2025-01-25T22:49:03.266Z"
   },
   {
    "duration": 240,
    "start_time": "2025-01-25T22:49:03.293Z"
   },
   {
    "duration": 305,
    "start_time": "2025-01-25T22:49:03.535Z"
   },
   {
    "duration": 207,
    "start_time": "2025-01-25T22:49:03.843Z"
   },
   {
    "duration": 352,
    "start_time": "2025-01-25T22:49:04.052Z"
   },
   {
    "duration": 3,
    "start_time": "2025-01-25T22:49:04.406Z"
   },
   {
    "duration": 513,
    "start_time": "2025-01-25T22:49:12.889Z"
   },
   {
    "duration": 150,
    "start_time": "2025-01-25T22:49:56.142Z"
   },
   {
    "duration": 159,
    "start_time": "2025-01-26T00:44:40.499Z"
   },
   {
    "duration": 771,
    "start_time": "2025-01-26T00:44:53.934Z"
   },
   {
    "duration": 450,
    "start_time": "2025-01-26T00:44:54.707Z"
   },
   {
    "duration": 162,
    "start_time": "2025-01-26T00:44:55.159Z"
   },
   {
    "duration": 25,
    "start_time": "2025-01-26T00:44:55.323Z"
   },
   {
    "duration": 237,
    "start_time": "2025-01-26T00:44:55.350Z"
   },
   {
    "duration": 293,
    "start_time": "2025-01-26T00:44:55.589Z"
   },
   {
    "duration": 204,
    "start_time": "2025-01-26T00:44:55.884Z"
   },
   {
    "duration": 341,
    "start_time": "2025-01-26T00:44:56.090Z"
   },
   {
    "duration": 163,
    "start_time": "2025-01-26T00:44:56.432Z"
   },
   {
    "duration": 8,
    "start_time": "2025-01-26T00:44:56.598Z"
   },
   {
    "duration": 876,
    "start_time": "2025-01-26T00:45:01.469Z"
   },
   {
    "duration": 918,
    "start_time": "2025-01-26T00:45:25.999Z"
   },
   {
    "duration": 13,
    "start_time": "2025-01-26T01:19:13.729Z"
   },
   {
    "duration": 728,
    "start_time": "2025-01-26T01:19:37.098Z"
   },
   {
    "duration": 410,
    "start_time": "2025-01-26T01:19:37.828Z"
   },
   {
    "duration": 190,
    "start_time": "2025-01-26T01:19:38.240Z"
   },
   {
    "duration": 25,
    "start_time": "2025-01-26T01:19:38.432Z"
   },
   {
    "duration": 234,
    "start_time": "2025-01-26T01:19:38.459Z"
   },
   {
    "duration": 305,
    "start_time": "2025-01-26T01:19:38.695Z"
   },
   {
    "duration": 206,
    "start_time": "2025-01-26T01:19:39.002Z"
   },
   {
    "duration": 361,
    "start_time": "2025-01-26T01:19:39.209Z"
   },
   {
    "duration": 176,
    "start_time": "2025-01-26T01:19:39.572Z"
   },
   {
    "duration": 897,
    "start_time": "2025-01-26T01:19:39.750Z"
   },
   {
    "duration": 4,
    "start_time": "2025-01-26T01:19:40.649Z"
   },
   {
    "duration": 210,
    "start_time": "2025-01-26T01:19:45.335Z"
   },
   {
    "duration": 14,
    "start_time": "2025-01-26T01:19:58.458Z"
   },
   {
    "duration": 15,
    "start_time": "2025-01-26T01:20:16.608Z"
   },
   {
    "duration": 86,
    "start_time": "2025-01-26T01:20:48.876Z"
   },
   {
    "duration": 8681,
    "start_time": "2025-01-26T01:21:50.141Z"
   },
   {
    "duration": 758,
    "start_time": "2025-01-26T01:34:28.561Z"
   },
   {
    "duration": 410,
    "start_time": "2025-01-26T01:34:29.321Z"
   },
   {
    "duration": 164,
    "start_time": "2025-01-26T01:34:29.733Z"
   },
   {
    "duration": 27,
    "start_time": "2025-01-26T01:34:29.905Z"
   },
   {
    "duration": 248,
    "start_time": "2025-01-26T01:34:29.934Z"
   },
   {
    "duration": 294,
    "start_time": "2025-01-26T01:34:30.185Z"
   },
   {
    "duration": 210,
    "start_time": "2025-01-26T01:34:30.481Z"
   },
   {
    "duration": 349,
    "start_time": "2025-01-26T01:34:30.693Z"
   },
   {
    "duration": 4,
    "start_time": "2025-01-26T01:34:31.045Z"
   },
   {
    "duration": 0,
    "start_time": "2025-01-26T01:34:31.051Z"
   },
   {
    "duration": 0,
    "start_time": "2025-01-26T01:34:31.054Z"
   },
   {
    "duration": 1326,
    "start_time": "2025-01-26T01:35:24.567Z"
   },
   {
    "duration": 104,
    "start_time": "2025-01-26T01:36:45.229Z"
   },
   {
    "duration": 862,
    "start_time": "2025-01-26T01:36:50.774Z"
   },
   {
    "duration": 12,
    "start_time": "2025-01-26T01:37:31.891Z"
   },
   {
    "duration": 3,
    "start_time": "2025-01-26T01:37:57.116Z"
   },
   {
    "duration": 1187,
    "start_time": "2025-01-26T01:41:03.269Z"
   },
   {
    "duration": 1177,
    "start_time": "2025-01-26T01:44:29.771Z"
   },
   {
    "duration": 754,
    "start_time": "2025-01-26T01:44:52.469Z"
   },
   {
    "duration": 398,
    "start_time": "2025-01-26T01:44:53.225Z"
   },
   {
    "duration": 154,
    "start_time": "2025-01-26T01:44:53.625Z"
   },
   {
    "duration": 32,
    "start_time": "2025-01-26T01:44:53.781Z"
   },
   {
    "duration": 4,
    "start_time": "2025-01-26T01:44:53.815Z"
   },
   {
    "duration": 0,
    "start_time": "2025-01-26T01:44:53.821Z"
   },
   {
    "duration": 0,
    "start_time": "2025-01-26T01:44:53.822Z"
   },
   {
    "duration": 0,
    "start_time": "2025-01-26T01:44:53.824Z"
   },
   {
    "duration": 0,
    "start_time": "2025-01-26T01:44:53.825Z"
   },
   {
    "duration": 0,
    "start_time": "2025-01-26T01:44:53.826Z"
   },
   {
    "duration": 0,
    "start_time": "2025-01-26T01:44:53.828Z"
   },
   {
    "duration": 0,
    "start_time": "2025-01-26T01:44:53.829Z"
   },
   {
    "duration": 33,
    "start_time": "2025-01-26T01:51:13.223Z"
   },
   {
    "duration": 752,
    "start_time": "2025-01-26T01:51:22.762Z"
   },
   {
    "duration": 405,
    "start_time": "2025-01-26T01:51:23.516Z"
   },
   {
    "duration": 185,
    "start_time": "2025-01-26T01:51:23.923Z"
   },
   {
    "duration": 26,
    "start_time": "2025-01-26T01:51:24.109Z"
   },
   {
    "duration": 5,
    "start_time": "2025-01-26T01:51:24.139Z"
   },
   {
    "duration": 0,
    "start_time": "2025-01-26T01:51:24.145Z"
   },
   {
    "duration": 0,
    "start_time": "2025-01-26T01:51:24.147Z"
   },
   {
    "duration": 0,
    "start_time": "2025-01-26T01:51:24.148Z"
   },
   {
    "duration": 0,
    "start_time": "2025-01-26T01:51:24.150Z"
   },
   {
    "duration": 0,
    "start_time": "2025-01-26T01:51:24.151Z"
   },
   {
    "duration": 0,
    "start_time": "2025-01-26T01:51:24.153Z"
   },
   {
    "duration": 0,
    "start_time": "2025-01-26T01:51:24.157Z"
   },
   {
    "duration": 228,
    "start_time": "2025-01-26T01:51:47.053Z"
   },
   {
    "duration": 282,
    "start_time": "2025-01-26T01:51:51.943Z"
   },
   {
    "duration": 47,
    "start_time": "2025-01-26T01:55:19.189Z"
   },
   {
    "duration": 139,
    "start_time": "2025-01-26T01:55:25.922Z"
   },
   {
    "duration": 68,
    "start_time": "2025-01-26T02:00:36.683Z"
   },
   {
    "duration": 105,
    "start_time": "2025-01-26T02:00:56.468Z"
   },
   {
    "duration": 62,
    "start_time": "2025-01-26T02:02:23.181Z"
   },
   {
    "duration": 60,
    "start_time": "2025-01-26T02:02:35.699Z"
   },
   {
    "duration": 62,
    "start_time": "2025-01-26T02:02:43.950Z"
   },
   {
    "duration": 59,
    "start_time": "2025-01-26T02:02:56.621Z"
   },
   {
    "duration": 59,
    "start_time": "2025-01-26T02:03:43.654Z"
   },
   {
    "duration": 61,
    "start_time": "2025-01-26T02:03:52.658Z"
   },
   {
    "duration": 61,
    "start_time": "2025-01-26T02:04:09.329Z"
   },
   {
    "duration": 60,
    "start_time": "2025-01-26T02:04:16.413Z"
   },
   {
    "duration": 108,
    "start_time": "2025-01-26T02:06:20.565Z"
   },
   {
    "duration": 9,
    "start_time": "2025-01-26T02:26:45.811Z"
   },
   {
    "duration": 8,
    "start_time": "2025-01-26T02:27:14.364Z"
   },
   {
    "duration": 10,
    "start_time": "2025-01-26T02:27:23.801Z"
   },
   {
    "duration": 10,
    "start_time": "2025-01-26T02:27:41.106Z"
   },
   {
    "duration": 10,
    "start_time": "2025-01-26T02:28:16.456Z"
   },
   {
    "duration": 9,
    "start_time": "2025-01-26T02:28:25.151Z"
   },
   {
    "duration": 7,
    "start_time": "2025-01-26T02:35:41.642Z"
   },
   {
    "duration": 9,
    "start_time": "2025-01-26T02:36:21.939Z"
   },
   {
    "duration": 10,
    "start_time": "2025-01-26T02:36:45.363Z"
   },
   {
    "duration": 82,
    "start_time": "2025-01-26T02:44:58.619Z"
   },
   {
    "duration": 80,
    "start_time": "2025-01-26T02:46:06.401Z"
   },
   {
    "duration": 50,
    "start_time": "2025-01-26T02:46:26.444Z"
   },
   {
    "duration": 36,
    "start_time": "2025-01-26T02:47:02.464Z"
   },
   {
    "duration": 21,
    "start_time": "2025-01-26T02:49:08.376Z"
   },
   {
    "duration": 16,
    "start_time": "2025-01-26T02:49:46.705Z"
   },
   {
    "duration": 222,
    "start_time": "2025-01-26T02:49:59.798Z"
   },
   {
    "duration": 11,
    "start_time": "2025-01-26T02:50:11.919Z"
   },
   {
    "duration": 9,
    "start_time": "2025-01-26T02:50:34.933Z"
   },
   {
    "duration": 6,
    "start_time": "2025-01-26T02:51:46.084Z"
   },
   {
    "duration": 5,
    "start_time": "2025-01-26T02:52:05.122Z"
   },
   {
    "duration": 20,
    "start_time": "2025-01-26T02:53:02.594Z"
   },
   {
    "duration": 7,
    "start_time": "2025-01-26T02:53:55.335Z"
   },
   {
    "duration": 24,
    "start_time": "2025-01-26T02:57:41.231Z"
   },
   {
    "duration": 734,
    "start_time": "2025-01-26T02:58:00.276Z"
   },
   {
    "duration": 418,
    "start_time": "2025-01-26T02:58:01.012Z"
   },
   {
    "duration": 174,
    "start_time": "2025-01-26T02:58:01.432Z"
   },
   {
    "duration": 24,
    "start_time": "2025-01-26T02:58:01.609Z"
   },
   {
    "duration": 245,
    "start_time": "2025-01-26T02:58:01.634Z"
   },
   {
    "duration": 287,
    "start_time": "2025-01-26T02:58:01.881Z"
   },
   {
    "duration": 4,
    "start_time": "2025-01-26T02:58:02.171Z"
   },
   {
    "duration": 0,
    "start_time": "2025-01-26T02:58:02.177Z"
   },
   {
    "duration": 0,
    "start_time": "2025-01-26T02:58:02.178Z"
   },
   {
    "duration": 0,
    "start_time": "2025-01-26T02:58:02.180Z"
   },
   {
    "duration": 0,
    "start_time": "2025-01-26T02:58:02.181Z"
   },
   {
    "duration": 0,
    "start_time": "2025-01-26T02:58:02.182Z"
   },
   {
    "duration": 87,
    "start_time": "2025-01-26T02:58:15.923Z"
   },
   {
    "duration": 88,
    "start_time": "2025-01-26T02:58:27.597Z"
   },
   {
    "duration": 86,
    "start_time": "2025-01-26T02:58:29.232Z"
   },
   {
    "duration": 70,
    "start_time": "2025-01-26T03:03:48.976Z"
   },
   {
    "duration": 73,
    "start_time": "2025-01-26T03:04:07.558Z"
   },
   {
    "duration": 283,
    "start_time": "2025-01-26T03:04:51.040Z"
   },
   {
    "duration": 14,
    "start_time": "2025-01-26T03:06:00.179Z"
   },
   {
    "duration": 15,
    "start_time": "2025-01-26T03:06:04.494Z"
   },
   {
    "duration": 5,
    "start_time": "2025-01-26T03:08:37.046Z"
   },
   {
    "duration": 27,
    "start_time": "2025-01-26T03:08:53.066Z"
   },
   {
    "duration": 8,
    "start_time": "2025-01-26T03:10:45.626Z"
   },
   {
    "duration": 60,
    "start_time": "2025-01-26T03:12:07.408Z"
   },
   {
    "duration": 18,
    "start_time": "2025-01-26T03:13:44.352Z"
   },
   {
    "duration": 20,
    "start_time": "2025-01-26T03:51:43.345Z"
   },
   {
    "duration": 27,
    "start_time": "2025-01-26T03:52:38.339Z"
   },
   {
    "duration": 14,
    "start_time": "2025-01-26T03:53:22.893Z"
   },
   {
    "duration": 17,
    "start_time": "2025-01-26T03:53:36.883Z"
   },
   {
    "duration": 13,
    "start_time": "2025-01-26T04:00:51.480Z"
   },
   {
    "duration": 749,
    "start_time": "2025-01-26T20:07:03.516Z"
   },
   {
    "duration": 460,
    "start_time": "2025-01-26T20:07:04.267Z"
   },
   {
    "duration": 166,
    "start_time": "2025-01-26T20:07:04.729Z"
   },
   {
    "duration": 31,
    "start_time": "2025-01-26T20:07:04.897Z"
   },
   {
    "duration": 224,
    "start_time": "2025-01-26T20:07:04.932Z"
   },
   {
    "duration": 281,
    "start_time": "2025-01-26T20:07:05.158Z"
   },
   {
    "duration": 5,
    "start_time": "2025-01-26T20:07:05.441Z"
   },
   {
    "duration": 0,
    "start_time": "2025-01-26T20:07:05.448Z"
   },
   {
    "duration": 0,
    "start_time": "2025-01-26T20:07:05.449Z"
   },
   {
    "duration": 0,
    "start_time": "2025-01-26T20:07:05.451Z"
   },
   {
    "duration": 0,
    "start_time": "2025-01-26T20:07:05.452Z"
   },
   {
    "duration": 0,
    "start_time": "2025-01-26T20:07:05.454Z"
   },
   {
    "duration": 0,
    "start_time": "2025-01-26T20:07:05.455Z"
   },
   {
    "duration": 213,
    "start_time": "2025-01-26T20:07:17.227Z"
   },
   {
    "duration": 58,
    "start_time": "2025-01-26T20:07:37.953Z"
   },
   {
    "duration": 771,
    "start_time": "2025-01-26T20:07:48.349Z"
   },
   {
    "duration": 387,
    "start_time": "2025-01-26T20:07:49.122Z"
   },
   {
    "duration": 156,
    "start_time": "2025-01-26T20:07:49.511Z"
   },
   {
    "duration": 22,
    "start_time": "2025-01-26T20:07:49.670Z"
   },
   {
    "duration": 236,
    "start_time": "2025-01-26T20:07:49.694Z"
   },
   {
    "duration": 275,
    "start_time": "2025-01-26T20:07:49.932Z"
   },
   {
    "duration": 4,
    "start_time": "2025-01-26T20:07:50.209Z"
   },
   {
    "duration": 0,
    "start_time": "2025-01-26T20:07:50.214Z"
   },
   {
    "duration": 0,
    "start_time": "2025-01-26T20:07:50.224Z"
   },
   {
    "duration": 0,
    "start_time": "2025-01-26T20:07:50.225Z"
   },
   {
    "duration": 0,
    "start_time": "2025-01-26T20:07:50.227Z"
   },
   {
    "duration": 0,
    "start_time": "2025-01-26T20:07:50.228Z"
   },
   {
    "duration": 0,
    "start_time": "2025-01-26T20:07:50.230Z"
   },
   {
    "duration": 57,
    "start_time": "2025-01-26T20:08:14.400Z"
   },
   {
    "duration": 228,
    "start_time": "2025-01-26T20:16:12.065Z"
   },
   {
    "duration": 98,
    "start_time": "2025-01-26T20:16:48.866Z"
   },
   {
    "duration": 31,
    "start_time": "2025-01-26T20:20:47.772Z"
   },
   {
    "duration": 16,
    "start_time": "2025-01-26T20:21:53.623Z"
   },
   {
    "duration": 13,
    "start_time": "2025-01-26T20:22:00.476Z"
   },
   {
    "duration": 13,
    "start_time": "2025-01-26T20:22:03.705Z"
   },
   {
    "duration": 27,
    "start_time": "2025-01-26T20:28:07.424Z"
   },
   {
    "duration": 51,
    "start_time": "2025-01-26T20:28:15.851Z"
   },
   {
    "duration": 80,
    "start_time": "2025-01-26T20:28:24.049Z"
   },
   {
    "duration": 97,
    "start_time": "2025-01-26T20:29:16.236Z"
   },
   {
    "duration": 116,
    "start_time": "2025-01-26T20:29:38.752Z"
   },
   {
    "duration": 787,
    "start_time": "2025-01-26T20:29:57.847Z"
   },
   {
    "duration": 406,
    "start_time": "2025-01-26T20:29:58.636Z"
   },
   {
    "duration": 198,
    "start_time": "2025-01-26T20:29:59.044Z"
   },
   {
    "duration": 24,
    "start_time": "2025-01-26T20:29:59.244Z"
   },
   {
    "duration": 254,
    "start_time": "2025-01-26T20:29:59.271Z"
   },
   {
    "duration": 265,
    "start_time": "2025-01-26T20:29:59.526Z"
   },
   {
    "duration": 70,
    "start_time": "2025-01-26T20:29:59.793Z"
   },
   {
    "duration": 47,
    "start_time": "2025-01-26T20:29:59.865Z"
   },
   {
    "duration": 22,
    "start_time": "2025-01-26T20:29:59.914Z"
   },
   {
    "duration": 39,
    "start_time": "2025-01-26T20:29:59.938Z"
   },
   {
    "duration": 3,
    "start_time": "2025-01-26T20:29:59.979Z"
   },
   {
    "duration": 0,
    "start_time": "2025-01-26T20:29:59.984Z"
   },
   {
    "duration": 0,
    "start_time": "2025-01-26T20:29:59.985Z"
   },
   {
    "duration": 0,
    "start_time": "2025-01-26T20:29:59.986Z"
   },
   {
    "duration": 0,
    "start_time": "2025-01-26T20:29:59.987Z"
   },
   {
    "duration": 122,
    "start_time": "2025-01-26T20:35:38.187Z"
   },
   {
    "duration": 203,
    "start_time": "2025-01-26T20:35:45.986Z"
   },
   {
    "duration": 93,
    "start_time": "2025-01-26T20:35:52.905Z"
   },
   {
    "duration": 468,
    "start_time": "2025-01-26T20:36:48.599Z"
   },
   {
    "duration": 4551,
    "start_time": "2025-01-26T20:36:51.026Z"
   },
   {
    "duration": 899,
    "start_time": "2025-01-26T20:37:54.588Z"
   },
   {
    "duration": 793,
    "start_time": "2025-01-26T20:38:24.727Z"
   },
   {
    "duration": 411,
    "start_time": "2025-01-26T20:38:25.522Z"
   },
   {
    "duration": 191,
    "start_time": "2025-01-26T20:38:25.935Z"
   },
   {
    "duration": 25,
    "start_time": "2025-01-26T20:38:26.128Z"
   },
   {
    "duration": 244,
    "start_time": "2025-01-26T20:38:26.155Z"
   },
   {
    "duration": 281,
    "start_time": "2025-01-26T20:38:26.401Z"
   },
   {
    "duration": 69,
    "start_time": "2025-01-26T20:38:26.684Z"
   },
   {
    "duration": 43,
    "start_time": "2025-01-26T20:38:26.756Z"
   },
   {
    "duration": 26,
    "start_time": "2025-01-26T20:38:26.801Z"
   },
   {
    "duration": 39,
    "start_time": "2025-01-26T20:38:26.829Z"
   },
   {
    "duration": 188,
    "start_time": "2025-01-26T20:38:26.870Z"
   },
   {
    "duration": 197,
    "start_time": "2025-01-26T20:38:27.060Z"
   },
   {
    "duration": 107,
    "start_time": "2025-01-26T20:38:27.259Z"
   },
   {
    "duration": 508,
    "start_time": "2025-01-26T20:38:27.369Z"
   },
   {
    "duration": 4,
    "start_time": "2025-01-26T20:38:27.879Z"
   },
   {
    "duration": 4599,
    "start_time": "2025-01-26T20:39:04.082Z"
   },
   {
    "duration": 800,
    "start_time": "2025-01-26T20:43:10.325Z"
   },
   {
    "duration": 414,
    "start_time": "2025-01-26T20:43:11.127Z"
   },
   {
    "duration": 203,
    "start_time": "2025-01-26T20:43:11.542Z"
   },
   {
    "duration": 26,
    "start_time": "2025-01-26T20:43:11.747Z"
   },
   {
    "duration": 248,
    "start_time": "2025-01-26T20:43:11.776Z"
   },
   {
    "duration": 270,
    "start_time": "2025-01-26T20:43:12.025Z"
   },
   {
    "duration": 71,
    "start_time": "2025-01-26T20:43:12.296Z"
   },
   {
    "duration": 45,
    "start_time": "2025-01-26T20:43:12.369Z"
   },
   {
    "duration": 19,
    "start_time": "2025-01-26T20:43:12.416Z"
   },
   {
    "duration": 36,
    "start_time": "2025-01-26T20:43:12.436Z"
   },
   {
    "duration": 4,
    "start_time": "2025-01-26T20:43:12.474Z"
   },
   {
    "duration": 0,
    "start_time": "2025-01-26T20:43:12.480Z"
   },
   {
    "duration": 0,
    "start_time": "2025-01-26T20:43:12.481Z"
   },
   {
    "duration": 0,
    "start_time": "2025-01-26T20:43:12.482Z"
   },
   {
    "duration": 0,
    "start_time": "2025-01-26T20:43:12.483Z"
   },
   {
    "duration": 247,
    "start_time": "2025-01-26T20:43:17.134Z"
   },
   {
    "duration": 179,
    "start_time": "2025-01-26T20:43:30.201Z"
   },
   {
    "duration": 98,
    "start_time": "2025-01-26T20:43:32.284Z"
   },
   {
    "duration": 480,
    "start_time": "2025-01-26T20:43:36.875Z"
   },
   {
    "duration": 4274,
    "start_time": "2025-01-26T20:43:39.487Z"
   },
   {
    "duration": 4166,
    "start_time": "2025-01-26T20:46:51.261Z"
   },
   {
    "duration": 4,
    "start_time": "2025-01-26T20:47:28.822Z"
   },
   {
    "duration": 5,
    "start_time": "2025-01-26T20:48:02.294Z"
   },
   {
    "duration": 4061,
    "start_time": "2025-01-26T20:49:04.074Z"
   },
   {
    "duration": 3787,
    "start_time": "2025-01-26T20:49:22.739Z"
   },
   {
    "duration": 698,
    "start_time": "2025-01-26T20:53:25.736Z"
   },
   {
    "duration": 504,
    "start_time": "2025-01-26T20:54:09.339Z"
   },
   {
    "duration": 668,
    "start_time": "2025-01-26T20:54:18.182Z"
   },
   {
    "duration": 472,
    "start_time": "2025-01-26T20:55:14.088Z"
   },
   {
    "duration": 24,
    "start_time": "2025-01-26T20:56:35.058Z"
   },
   {
    "duration": 26,
    "start_time": "2025-01-26T20:56:51.980Z"
   },
   {
    "duration": 13,
    "start_time": "2025-01-26T20:57:48.135Z"
   },
   {
    "duration": 5,
    "start_time": "2025-01-26T21:05:09.791Z"
   },
   {
    "duration": 14,
    "start_time": "2025-01-26T21:05:20.382Z"
   },
   {
    "duration": 10,
    "start_time": "2025-01-26T21:05:33.786Z"
   },
   {
    "duration": 731,
    "start_time": "2025-01-26T23:13:57.966Z"
   },
   {
    "duration": 466,
    "start_time": "2025-01-26T23:13:58.699Z"
   },
   {
    "duration": 189,
    "start_time": "2025-01-26T23:13:59.167Z"
   },
   {
    "duration": 31,
    "start_time": "2025-01-26T23:13:59.359Z"
   },
   {
    "duration": 229,
    "start_time": "2025-01-26T23:13:59.392Z"
   },
   {
    "duration": 265,
    "start_time": "2025-01-26T23:13:59.622Z"
   },
   {
    "duration": 61,
    "start_time": "2025-01-26T23:13:59.888Z"
   },
   {
    "duration": 62,
    "start_time": "2025-01-26T23:13:59.951Z"
   },
   {
    "duration": 16,
    "start_time": "2025-01-26T23:14:00.014Z"
   },
   {
    "duration": 55,
    "start_time": "2025-01-26T23:14:00.034Z"
   },
   {
    "duration": 260,
    "start_time": "2025-01-26T23:14:00.091Z"
   },
   {
    "duration": 187,
    "start_time": "2025-01-26T23:14:00.352Z"
   },
   {
    "duration": 4,
    "start_time": "2025-01-26T23:14:00.541Z"
   },
   {
    "duration": 0,
    "start_time": "2025-01-26T23:14:00.547Z"
   },
   {
    "duration": 0,
    "start_time": "2025-01-26T23:14:00.548Z"
   },
   {
    "duration": 0,
    "start_time": "2025-01-26T23:14:00.549Z"
   },
   {
    "duration": 3,
    "start_time": "2025-01-26T23:15:30.701Z"
   },
   {
    "duration": 522,
    "start_time": "2025-01-26T23:16:00.806Z"
   },
   {
    "duration": 795,
    "start_time": "2025-01-26T23:17:50.110Z"
   },
   {
    "duration": 400,
    "start_time": "2025-01-26T23:17:50.907Z"
   },
   {
    "duration": 190,
    "start_time": "2025-01-26T23:17:51.309Z"
   },
   {
    "duration": 25,
    "start_time": "2025-01-26T23:17:51.501Z"
   },
   {
    "duration": 246,
    "start_time": "2025-01-26T23:17:51.529Z"
   },
   {
    "duration": 272,
    "start_time": "2025-01-26T23:17:51.777Z"
   },
   {
    "duration": 72,
    "start_time": "2025-01-26T23:17:52.051Z"
   },
   {
    "duration": 45,
    "start_time": "2025-01-26T23:17:52.125Z"
   },
   {
    "duration": 22,
    "start_time": "2025-01-26T23:17:52.171Z"
   },
   {
    "duration": 35,
    "start_time": "2025-01-26T23:17:52.194Z"
   },
   {
    "duration": 275,
    "start_time": "2025-01-26T23:17:52.231Z"
   },
   {
    "duration": 183,
    "start_time": "2025-01-26T23:17:52.508Z"
   },
   {
    "duration": 2,
    "start_time": "2025-01-26T23:17:52.693Z"
   },
   {
    "duration": 4,
    "start_time": "2025-01-26T23:17:52.698Z"
   },
   {
    "duration": 0,
    "start_time": "2025-01-26T23:17:52.704Z"
   },
   {
    "duration": 0,
    "start_time": "2025-01-26T23:17:52.706Z"
   },
   {
    "duration": 1116,
    "start_time": "2025-01-26T23:18:19.535Z"
   },
   {
    "duration": 1325,
    "start_time": "2025-01-26T23:18:32.116Z"
   },
   {
    "duration": 4008,
    "start_time": "2025-01-26T23:21:30.941Z"
   },
   {
    "duration": 2022,
    "start_time": "2025-01-26T23:27:24.382Z"
   },
   {
    "duration": 1494,
    "start_time": "2025-01-26T23:30:51.132Z"
   },
   {
    "duration": 762,
    "start_time": "2025-01-26T23:31:41.879Z"
   },
   {
    "duration": 959,
    "start_time": "2025-01-26T23:33:53.390Z"
   },
   {
    "duration": 82580,
    "start_time": "2025-01-26T23:34:43.007Z"
   },
   {
    "duration": 733,
    "start_time": "2025-01-26T23:44:18.882Z"
   },
   {
    "duration": 400,
    "start_time": "2025-01-26T23:44:19.617Z"
   },
   {
    "duration": 191,
    "start_time": "2025-01-26T23:44:20.019Z"
   },
   {
    "duration": 23,
    "start_time": "2025-01-26T23:44:20.212Z"
   },
   {
    "duration": 243,
    "start_time": "2025-01-26T23:44:20.238Z"
   },
   {
    "duration": 270,
    "start_time": "2025-01-26T23:44:20.483Z"
   },
   {
    "duration": 72,
    "start_time": "2025-01-26T23:44:20.754Z"
   },
   {
    "duration": 44,
    "start_time": "2025-01-26T23:44:20.828Z"
   },
   {
    "duration": 22,
    "start_time": "2025-01-26T23:44:20.874Z"
   },
   {
    "duration": 36,
    "start_time": "2025-01-26T23:44:20.897Z"
   },
   {
    "duration": 4,
    "start_time": "2025-01-26T23:44:20.935Z"
   },
   {
    "duration": 0,
    "start_time": "2025-01-26T23:44:20.941Z"
   },
   {
    "duration": 0,
    "start_time": "2025-01-26T23:44:20.942Z"
   },
   {
    "duration": 0,
    "start_time": "2025-01-26T23:44:20.943Z"
   },
   {
    "duration": 0,
    "start_time": "2025-01-26T23:44:20.944Z"
   },
   {
    "duration": 249,
    "start_time": "2025-01-26T23:45:25.875Z"
   },
   {
    "duration": 190,
    "start_time": "2025-01-26T23:59:09.594Z"
   },
   {
    "duration": 79,
    "start_time": "2025-01-27T00:11:59.177Z"
   },
   {
    "duration": 3,
    "start_time": "2025-01-27T00:12:17.908Z"
   },
   {
    "duration": 53,
    "start_time": "2025-01-27T00:15:38.377Z"
   },
   {
    "duration": 2,
    "start_time": "2025-01-27T00:15:40.532Z"
   },
   {
    "duration": 214,
    "start_time": "2025-01-27T00:16:18.263Z"
   },
   {
    "duration": 777,
    "start_time": "2025-01-27T00:18:17.723Z"
   },
   {
    "duration": 405,
    "start_time": "2025-01-27T00:18:18.502Z"
   },
   {
    "duration": 208,
    "start_time": "2025-01-27T00:18:18.909Z"
   },
   {
    "duration": 25,
    "start_time": "2025-01-27T00:18:19.118Z"
   },
   {
    "duration": 239,
    "start_time": "2025-01-27T00:18:19.146Z"
   },
   {
    "duration": 268,
    "start_time": "2025-01-27T00:18:19.387Z"
   },
   {
    "duration": 69,
    "start_time": "2025-01-27T00:18:19.657Z"
   },
   {
    "duration": 44,
    "start_time": "2025-01-27T00:18:19.728Z"
   },
   {
    "duration": 21,
    "start_time": "2025-01-27T00:18:19.774Z"
   },
   {
    "duration": 35,
    "start_time": "2025-01-27T00:18:19.797Z"
   },
   {
    "duration": 266,
    "start_time": "2025-01-27T00:18:19.834Z"
   },
   {
    "duration": 8,
    "start_time": "2025-01-27T00:18:20.102Z"
   },
   {
    "duration": 3,
    "start_time": "2025-01-27T00:18:20.112Z"
   },
   {
    "duration": 4,
    "start_time": "2025-01-27T00:18:20.117Z"
   },
   {
    "duration": 0,
    "start_time": "2025-01-27T00:18:20.123Z"
   },
   {
    "duration": 0,
    "start_time": "2025-01-27T00:18:20.125Z"
   },
   {
    "duration": 2,
    "start_time": "2025-01-27T00:41:23.092Z"
   },
   {
    "duration": 208,
    "start_time": "2025-01-27T00:41:53.891Z"
   },
   {
    "duration": 764,
    "start_time": "2025-01-27T00:42:31.532Z"
   },
   {
    "duration": 414,
    "start_time": "2025-01-27T00:42:32.298Z"
   },
   {
    "duration": 163,
    "start_time": "2025-01-27T00:42:32.714Z"
   },
   {
    "duration": 30,
    "start_time": "2025-01-27T00:42:32.879Z"
   },
   {
    "duration": 247,
    "start_time": "2025-01-27T00:42:32.911Z"
   },
   {
    "duration": 271,
    "start_time": "2025-01-27T00:42:33.160Z"
   },
   {
    "duration": 80,
    "start_time": "2025-01-27T00:42:33.432Z"
   },
   {
    "duration": 45,
    "start_time": "2025-01-27T00:42:33.514Z"
   },
   {
    "duration": 13,
    "start_time": "2025-01-27T00:42:33.560Z"
   },
   {
    "duration": 37,
    "start_time": "2025-01-27T00:42:33.590Z"
   },
   {
    "duration": 258,
    "start_time": "2025-01-27T00:42:33.628Z"
   },
   {
    "duration": 8,
    "start_time": "2025-01-27T00:42:33.888Z"
   },
   {
    "duration": 2,
    "start_time": "2025-01-27T00:42:33.898Z"
   },
   {
    "duration": 7,
    "start_time": "2025-01-27T00:42:33.902Z"
   },
   {
    "duration": 4,
    "start_time": "2025-01-27T00:42:33.912Z"
   },
   {
    "duration": 0,
    "start_time": "2025-01-27T00:42:33.917Z"
   },
   {
    "duration": 0,
    "start_time": "2025-01-27T00:42:33.919Z"
   },
   {
    "duration": 3,
    "start_time": "2025-01-27T00:42:41.514Z"
   },
   {
    "duration": 214,
    "start_time": "2025-01-27T00:43:10.343Z"
   },
   {
    "duration": 14,
    "start_time": "2025-01-27T00:43:57.983Z"
   },
   {
    "duration": 788,
    "start_time": "2025-01-27T00:44:06.604Z"
   },
   {
    "duration": 409,
    "start_time": "2025-01-27T00:44:07.394Z"
   },
   {
    "duration": 163,
    "start_time": "2025-01-27T00:44:07.805Z"
   },
   {
    "duration": 29,
    "start_time": "2025-01-27T00:44:07.971Z"
   },
   {
    "duration": 240,
    "start_time": "2025-01-27T00:44:08.002Z"
   },
   {
    "duration": 260,
    "start_time": "2025-01-27T00:44:08.244Z"
   },
   {
    "duration": 61,
    "start_time": "2025-01-27T00:44:08.506Z"
   },
   {
    "duration": 53,
    "start_time": "2025-01-27T00:44:08.569Z"
   },
   {
    "duration": 14,
    "start_time": "2025-01-27T00:44:08.623Z"
   },
   {
    "duration": 48,
    "start_time": "2025-01-27T00:44:08.640Z"
   },
   {
    "duration": 246,
    "start_time": "2025-01-27T00:44:08.690Z"
   },
   {
    "duration": 7,
    "start_time": "2025-01-27T00:44:08.937Z"
   },
   {
    "duration": 4,
    "start_time": "2025-01-27T00:44:08.946Z"
   },
   {
    "duration": 2,
    "start_time": "2025-01-27T00:44:08.952Z"
   },
   {
    "duration": 3,
    "start_time": "2025-01-27T00:44:08.956Z"
   },
   {
    "duration": 27,
    "start_time": "2025-01-27T00:44:08.960Z"
   },
   {
    "duration": 0,
    "start_time": "2025-01-27T00:44:08.989Z"
   },
   {
    "duration": 0,
    "start_time": "2025-01-27T00:44:08.990Z"
   },
   {
    "duration": 3,
    "start_time": "2025-01-27T00:44:44.966Z"
   },
   {
    "duration": 59,
    "start_time": "2025-01-27T00:47:25.668Z"
   },
   {
    "duration": 4650,
    "start_time": "2025-01-27T00:48:06.833Z"
   },
   {
    "duration": 4516,
    "start_time": "2025-01-27T00:52:11.171Z"
   },
   {
    "duration": 4355,
    "start_time": "2025-01-27T00:56:08.686Z"
   },
   {
    "duration": 4334,
    "start_time": "2025-01-27T00:56:49.104Z"
   },
   {
    "duration": 4325,
    "start_time": "2025-01-27T00:57:41.307Z"
   },
   {
    "duration": 4566,
    "start_time": "2025-01-27T00:58:31.336Z"
   },
   {
    "duration": 734,
    "start_time": "2025-01-27T14:37:19.685Z"
   },
   {
    "duration": 461,
    "start_time": "2025-01-27T14:37:20.421Z"
   },
   {
    "duration": 162,
    "start_time": "2025-01-27T14:37:20.884Z"
   },
   {
    "duration": 26,
    "start_time": "2025-01-27T14:37:21.049Z"
   },
   {
    "duration": 236,
    "start_time": "2025-01-27T14:37:21.076Z"
   },
   {
    "duration": 276,
    "start_time": "2025-01-27T14:37:21.314Z"
   },
   {
    "duration": 80,
    "start_time": "2025-01-27T14:37:21.592Z"
   },
   {
    "duration": 59,
    "start_time": "2025-01-27T14:37:21.674Z"
   },
   {
    "duration": 15,
    "start_time": "2025-01-27T14:37:21.735Z"
   },
   {
    "duration": 67,
    "start_time": "2025-01-27T14:37:21.753Z"
   },
   {
    "duration": 265,
    "start_time": "2025-01-27T14:37:21.823Z"
   },
   {
    "duration": 9,
    "start_time": "2025-01-27T14:37:22.090Z"
   },
   {
    "duration": 10,
    "start_time": "2025-01-27T14:37:22.100Z"
   },
   {
    "duration": 3,
    "start_time": "2025-01-27T14:37:22.112Z"
   },
   {
    "duration": 4,
    "start_time": "2025-01-27T14:37:22.116Z"
   },
   {
    "duration": 2,
    "start_time": "2025-01-27T14:37:22.122Z"
   },
   {
    "duration": 87,
    "start_time": "2025-01-27T14:37:22.126Z"
   },
   {
    "duration": 4421,
    "start_time": "2025-01-27T14:37:22.214Z"
   },
   {
    "duration": 274,
    "start_time": "2025-01-27T14:37:26.636Z"
   },
   {
    "duration": 0,
    "start_time": "2025-01-27T14:37:26.911Z"
   },
   {
    "duration": 0,
    "start_time": "2025-01-27T14:37:26.912Z"
   },
   {
    "duration": 710,
    "start_time": "2025-01-27T14:51:45.193Z"
   },
   {
    "duration": 403,
    "start_time": "2025-01-27T14:51:45.905Z"
   },
   {
    "duration": 159,
    "start_time": "2025-01-27T14:51:46.309Z"
   },
   {
    "duration": 42,
    "start_time": "2025-01-27T14:51:46.470Z"
   },
   {
    "duration": 230,
    "start_time": "2025-01-27T14:51:46.514Z"
   },
   {
    "duration": 264,
    "start_time": "2025-01-27T14:51:46.746Z"
   },
   {
    "duration": 68,
    "start_time": "2025-01-27T14:51:47.012Z"
   },
   {
    "duration": 58,
    "start_time": "2025-01-27T14:51:47.083Z"
   },
   {
    "duration": 14,
    "start_time": "2025-01-27T14:51:47.143Z"
   },
   {
    "duration": 52,
    "start_time": "2025-01-27T14:51:47.160Z"
   },
   {
    "duration": 274,
    "start_time": "2025-01-27T14:51:47.217Z"
   },
   {
    "duration": 16,
    "start_time": "2025-01-27T14:51:47.494Z"
   },
   {
    "duration": 269,
    "start_time": "2025-01-27T14:51:47.512Z"
   },
   {
    "duration": 0,
    "start_time": "2025-01-27T14:51:47.783Z"
   },
   {
    "duration": 0,
    "start_time": "2025-01-27T14:51:47.784Z"
   },
   {
    "duration": 0,
    "start_time": "2025-01-27T14:51:47.785Z"
   },
   {
    "duration": 0,
    "start_time": "2025-01-27T14:51:47.786Z"
   },
   {
    "duration": 0,
    "start_time": "2025-01-27T14:51:47.787Z"
   },
   {
    "duration": 0,
    "start_time": "2025-01-27T14:51:47.789Z"
   },
   {
    "duration": 0,
    "start_time": "2025-01-27T14:51:47.790Z"
   },
   {
    "duration": 0,
    "start_time": "2025-01-27T14:51:47.791Z"
   },
   {
    "duration": 6,
    "start_time": "2025-01-27T14:52:25.330Z"
   },
   {
    "duration": 54,
    "start_time": "2025-01-27T14:52:30.380Z"
   },
   {
    "duration": 2,
    "start_time": "2025-01-27T14:52:32.425Z"
   },
   {
    "duration": 2,
    "start_time": "2025-01-27T14:52:34.899Z"
   },
   {
    "duration": 3,
    "start_time": "2025-01-27T14:52:35.580Z"
   },
   {
    "duration": 3,
    "start_time": "2025-01-27T14:52:36.502Z"
   },
   {
    "duration": 4934,
    "start_time": "2025-01-27T14:52:37.717Z"
   },
   {
    "duration": 69,
    "start_time": "2025-01-27T14:52:42.710Z"
   },
   {
    "duration": 5281,
    "start_time": "2025-01-27T15:30:13.575Z"
   },
   {
    "duration": 5178,
    "start_time": "2025-01-27T15:31:37.775Z"
   },
   {
    "duration": 789,
    "start_time": "2025-01-27T16:17:17.326Z"
   },
   {
    "duration": 415,
    "start_time": "2025-01-27T16:17:18.117Z"
   },
   {
    "duration": 161,
    "start_time": "2025-01-27T16:17:18.534Z"
   },
   {
    "duration": 31,
    "start_time": "2025-01-27T16:17:18.698Z"
   },
   {
    "duration": 233,
    "start_time": "2025-01-27T16:17:18.730Z"
   },
   {
    "duration": 259,
    "start_time": "2025-01-27T16:17:18.964Z"
   },
   {
    "duration": 62,
    "start_time": "2025-01-27T16:17:19.225Z"
   },
   {
    "duration": 58,
    "start_time": "2025-01-27T16:17:19.289Z"
   },
   {
    "duration": 15,
    "start_time": "2025-01-27T16:17:19.349Z"
   },
   {
    "duration": 50,
    "start_time": "2025-01-27T16:17:19.368Z"
   },
   {
    "duration": 264,
    "start_time": "2025-01-27T16:17:19.420Z"
   },
   {
    "duration": 6,
    "start_time": "2025-01-27T16:17:19.688Z"
   },
   {
    "duration": 58,
    "start_time": "2025-01-27T16:17:19.696Z"
   },
   {
    "duration": 5,
    "start_time": "2025-01-27T16:17:19.756Z"
   },
   {
    "duration": 5,
    "start_time": "2025-01-27T16:17:19.763Z"
   },
   {
    "duration": 3,
    "start_time": "2025-01-27T16:17:19.769Z"
   },
   {
    "duration": 3,
    "start_time": "2025-01-27T16:17:19.774Z"
   },
   {
    "duration": 5261,
    "start_time": "2025-01-27T16:17:19.779Z"
   },
   {
    "duration": 281,
    "start_time": "2025-01-27T16:17:25.042Z"
   },
   {
    "duration": 0,
    "start_time": "2025-01-27T16:17:25.325Z"
   },
   {
    "duration": 0,
    "start_time": "2025-01-27T16:17:25.327Z"
   },
   {
    "duration": 741,
    "start_time": "2025-01-27T16:44:20.591Z"
   },
   {
    "duration": 429,
    "start_time": "2025-01-27T16:44:21.334Z"
   },
   {
    "duration": 171,
    "start_time": "2025-01-27T16:44:21.766Z"
   },
   {
    "duration": 27,
    "start_time": "2025-01-27T16:44:21.939Z"
   },
   {
    "duration": 228,
    "start_time": "2025-01-27T16:44:21.969Z"
   },
   {
    "duration": 257,
    "start_time": "2025-01-27T16:44:22.200Z"
   },
   {
    "duration": 72,
    "start_time": "2025-01-27T16:44:22.459Z"
   },
   {
    "duration": 48,
    "start_time": "2025-01-27T16:44:22.533Z"
   },
   {
    "duration": 28,
    "start_time": "2025-01-27T16:44:22.584Z"
   },
   {
    "duration": 37,
    "start_time": "2025-01-27T16:44:22.614Z"
   },
   {
    "duration": 270,
    "start_time": "2025-01-27T16:44:22.654Z"
   },
   {
    "duration": 6,
    "start_time": "2025-01-27T16:44:22.926Z"
   },
   {
    "duration": 56,
    "start_time": "2025-01-27T16:44:22.934Z"
   },
   {
    "duration": 16,
    "start_time": "2025-01-27T16:44:22.993Z"
   },
   {
    "duration": 3,
    "start_time": "2025-01-27T16:44:23.011Z"
   },
   {
    "duration": 3,
    "start_time": "2025-01-27T16:44:23.016Z"
   },
   {
    "duration": 3,
    "start_time": "2025-01-27T16:44:23.020Z"
   },
   {
    "duration": 5318,
    "start_time": "2025-01-27T16:44:23.024Z"
   },
   {
    "duration": 5,
    "start_time": "2025-01-27T16:44:28.344Z"
   },
   {
    "duration": 0,
    "start_time": "2025-01-27T16:44:28.351Z"
   },
   {
    "duration": 0,
    "start_time": "2025-01-27T16:44:28.352Z"
   },
   {
    "duration": 728,
    "start_time": "2025-01-27T16:45:29.399Z"
   },
   {
    "duration": 416,
    "start_time": "2025-01-27T16:45:30.129Z"
   },
   {
    "duration": 171,
    "start_time": "2025-01-27T16:45:30.547Z"
   },
   {
    "duration": 31,
    "start_time": "2025-01-27T16:45:30.721Z"
   },
   {
    "duration": 239,
    "start_time": "2025-01-27T16:45:30.754Z"
   },
   {
    "duration": 259,
    "start_time": "2025-01-27T16:45:30.995Z"
   },
   {
    "duration": 72,
    "start_time": "2025-01-27T16:45:31.256Z"
   },
   {
    "duration": 51,
    "start_time": "2025-01-27T16:45:31.329Z"
   },
   {
    "duration": 27,
    "start_time": "2025-01-27T16:45:31.382Z"
   },
   {
    "duration": 38,
    "start_time": "2025-01-27T16:45:31.412Z"
   },
   {
    "duration": 268,
    "start_time": "2025-01-27T16:45:31.451Z"
   },
   {
    "duration": 7,
    "start_time": "2025-01-27T16:45:31.720Z"
   },
   {
    "duration": 41,
    "start_time": "2025-01-27T16:45:31.729Z"
   },
   {
    "duration": 3,
    "start_time": "2025-01-27T16:45:31.772Z"
   },
   {
    "duration": 3,
    "start_time": "2025-01-27T16:45:31.777Z"
   },
   {
    "duration": 28,
    "start_time": "2025-01-27T16:45:31.782Z"
   },
   {
    "duration": 3,
    "start_time": "2025-01-27T16:45:31.812Z"
   },
   {
    "duration": 5125,
    "start_time": "2025-01-27T16:45:31.817Z"
   },
   {
    "duration": 4,
    "start_time": "2025-01-27T16:45:36.943Z"
   },
   {
    "duration": 0,
    "start_time": "2025-01-27T16:45:36.949Z"
   },
   {
    "duration": 1,
    "start_time": "2025-01-27T16:45:36.950Z"
   },
   {
    "duration": 739,
    "start_time": "2025-01-27T16:46:23.774Z"
   },
   {
    "duration": 418,
    "start_time": "2025-01-27T16:46:24.515Z"
   },
   {
    "duration": 162,
    "start_time": "2025-01-27T16:46:24.935Z"
   },
   {
    "duration": 29,
    "start_time": "2025-01-27T16:46:25.100Z"
   },
   {
    "duration": 219,
    "start_time": "2025-01-27T16:46:25.131Z"
   },
   {
    "duration": 257,
    "start_time": "2025-01-27T16:46:25.352Z"
   },
   {
    "duration": 63,
    "start_time": "2025-01-27T16:46:25.611Z"
   },
   {
    "duration": 58,
    "start_time": "2025-01-27T16:46:25.676Z"
   },
   {
    "duration": 15,
    "start_time": "2025-01-27T16:46:25.735Z"
   },
   {
    "duration": 37,
    "start_time": "2025-01-27T16:46:25.753Z"
   },
   {
    "duration": 278,
    "start_time": "2025-01-27T16:46:25.792Z"
   },
   {
    "duration": 7,
    "start_time": "2025-01-27T16:46:26.072Z"
   },
   {
    "duration": 51,
    "start_time": "2025-01-27T16:46:26.081Z"
   },
   {
    "duration": 4,
    "start_time": "2025-01-27T16:46:26.134Z"
   },
   {
    "duration": 6,
    "start_time": "2025-01-27T16:46:26.140Z"
   },
   {
    "duration": 4,
    "start_time": "2025-01-27T16:46:26.148Z"
   },
   {
    "duration": 3,
    "start_time": "2025-01-27T16:46:26.153Z"
   },
   {
    "duration": 605,
    "start_time": "2025-01-27T16:46:26.157Z"
   },
   {
    "duration": 0,
    "start_time": "2025-01-27T16:46:26.763Z"
   },
   {
    "duration": 0,
    "start_time": "2025-01-27T16:46:26.764Z"
   },
   {
    "duration": 0,
    "start_time": "2025-01-27T16:46:26.766Z"
   },
   {
    "duration": 764,
    "start_time": "2025-01-27T16:48:40.457Z"
   },
   {
    "duration": 419,
    "start_time": "2025-01-27T16:48:41.223Z"
   },
   {
    "duration": 156,
    "start_time": "2025-01-27T16:48:41.643Z"
   },
   {
    "duration": 32,
    "start_time": "2025-01-27T16:48:41.808Z"
   },
   {
    "duration": 235,
    "start_time": "2025-01-27T16:48:41.842Z"
   },
   {
    "duration": 306,
    "start_time": "2025-01-27T16:48:42.079Z"
   },
   {
    "duration": 67,
    "start_time": "2025-01-27T16:48:42.387Z"
   },
   {
    "duration": 69,
    "start_time": "2025-01-27T16:48:42.456Z"
   },
   {
    "duration": 19,
    "start_time": "2025-01-27T16:48:42.527Z"
   },
   {
    "duration": 39,
    "start_time": "2025-01-27T16:48:42.548Z"
   },
   {
    "duration": 296,
    "start_time": "2025-01-27T16:48:42.589Z"
   },
   {
    "duration": 8,
    "start_time": "2025-01-27T16:48:42.887Z"
   },
   {
    "duration": 65,
    "start_time": "2025-01-27T16:48:42.897Z"
   },
   {
    "duration": 3,
    "start_time": "2025-01-27T16:48:42.965Z"
   },
   {
    "duration": 3,
    "start_time": "2025-01-27T16:48:42.970Z"
   },
   {
    "duration": 3,
    "start_time": "2025-01-27T16:48:42.975Z"
   },
   {
    "duration": 3,
    "start_time": "2025-01-27T16:48:42.980Z"
   },
   {
    "duration": 4260,
    "start_time": "2025-01-27T16:48:42.984Z"
   },
   {
    "duration": 5,
    "start_time": "2025-01-27T16:48:47.246Z"
   },
   {
    "duration": 0,
    "start_time": "2025-01-27T16:48:47.253Z"
   },
   {
    "duration": 0,
    "start_time": "2025-01-27T16:48:47.254Z"
   },
   {
    "duration": 780,
    "start_time": "2025-01-27T17:01:08.929Z"
   },
   {
    "duration": 408,
    "start_time": "2025-01-27T17:01:09.711Z"
   },
   {
    "duration": 159,
    "start_time": "2025-01-27T17:01:10.120Z"
   },
   {
    "duration": 35,
    "start_time": "2025-01-27T17:01:10.281Z"
   },
   {
    "duration": 232,
    "start_time": "2025-01-27T17:01:10.318Z"
   },
   {
    "duration": 269,
    "start_time": "2025-01-27T17:01:10.552Z"
   },
   {
    "duration": 66,
    "start_time": "2025-01-27T17:01:10.824Z"
   },
   {
    "duration": 55,
    "start_time": "2025-01-27T17:01:10.892Z"
   },
   {
    "duration": 15,
    "start_time": "2025-01-27T17:01:10.949Z"
   },
   {
    "duration": 59,
    "start_time": "2025-01-27T17:01:10.966Z"
   },
   {
    "duration": 259,
    "start_time": "2025-01-27T17:01:11.027Z"
   },
   {
    "duration": 221,
    "start_time": "2025-01-27T17:01:11.288Z"
   },
   {
    "duration": 0,
    "start_time": "2025-01-27T17:01:11.511Z"
   },
   {
    "duration": 0,
    "start_time": "2025-01-27T17:01:11.513Z"
   },
   {
    "duration": 0,
    "start_time": "2025-01-27T17:01:11.514Z"
   },
   {
    "duration": 0,
    "start_time": "2025-01-27T17:01:11.515Z"
   },
   {
    "duration": 0,
    "start_time": "2025-01-27T17:01:11.516Z"
   },
   {
    "duration": 0,
    "start_time": "2025-01-27T17:01:11.517Z"
   },
   {
    "duration": 0,
    "start_time": "2025-01-27T17:01:11.518Z"
   },
   {
    "duration": 0,
    "start_time": "2025-01-27T17:01:11.519Z"
   },
   {
    "duration": 0,
    "start_time": "2025-01-27T17:01:11.521Z"
   },
   {
    "duration": 15,
    "start_time": "2025-01-27T17:03:26.349Z"
   },
   {
    "duration": 7,
    "start_time": "2025-01-27T17:04:29.114Z"
   },
   {
    "duration": 42,
    "start_time": "2025-01-27T17:04:32.706Z"
   },
   {
    "duration": 2,
    "start_time": "2025-01-27T17:04:33.922Z"
   },
   {
    "duration": 3,
    "start_time": "2025-01-27T17:04:34.717Z"
   },
   {
    "duration": 3,
    "start_time": "2025-01-27T17:04:36.723Z"
   },
   {
    "duration": 3,
    "start_time": "2025-01-27T17:04:40.488Z"
   },
   {
    "duration": 4419,
    "start_time": "2025-01-27T17:04:42.230Z"
   },
   {
    "duration": 4379,
    "start_time": "2025-01-27T17:05:38.946Z"
   },
   {
    "duration": 4258,
    "start_time": "2025-01-27T17:05:58.392Z"
   },
   {
    "duration": 8,
    "start_time": "2025-01-27T17:06:31.277Z"
   },
   {
    "duration": 789,
    "start_time": "2025-01-27T17:07:18.403Z"
   },
   {
    "duration": 415,
    "start_time": "2025-01-27T17:07:19.195Z"
   },
   {
    "duration": 169,
    "start_time": "2025-01-27T17:07:19.611Z"
   },
   {
    "duration": 31,
    "start_time": "2025-01-27T17:07:19.783Z"
   },
   {
    "duration": 228,
    "start_time": "2025-01-27T17:07:19.817Z"
   },
   {
    "duration": 262,
    "start_time": "2025-01-27T17:07:20.047Z"
   },
   {
    "duration": 65,
    "start_time": "2025-01-27T17:07:20.310Z"
   },
   {
    "duration": 63,
    "start_time": "2025-01-27T17:07:20.377Z"
   },
   {
    "duration": 14,
    "start_time": "2025-01-27T17:07:20.442Z"
   },
   {
    "duration": 54,
    "start_time": "2025-01-27T17:07:20.457Z"
   },
   {
    "duration": 228,
    "start_time": "2025-01-27T17:07:20.513Z"
   },
   {
    "duration": 6,
    "start_time": "2025-01-27T17:07:20.743Z"
   },
   {
    "duration": 38,
    "start_time": "2025-01-27T17:07:20.751Z"
   },
   {
    "duration": 18,
    "start_time": "2025-01-27T17:07:20.792Z"
   },
   {
    "duration": 3,
    "start_time": "2025-01-27T17:07:20.811Z"
   },
   {
    "duration": 2,
    "start_time": "2025-01-27T17:07:20.816Z"
   },
   {
    "duration": 3,
    "start_time": "2025-01-27T17:07:20.820Z"
   },
   {
    "duration": 3815,
    "start_time": "2025-01-27T17:07:20.825Z"
   },
   {
    "duration": 4,
    "start_time": "2025-01-27T17:07:24.642Z"
   },
   {
    "duration": 0,
    "start_time": "2025-01-27T17:07:24.648Z"
   },
   {
    "duration": 0,
    "start_time": "2025-01-27T17:07:24.649Z"
   },
   {
    "duration": 721,
    "start_time": "2025-01-27T17:09:40.193Z"
   },
   {
    "duration": 406,
    "start_time": "2025-01-27T17:09:40.917Z"
   },
   {
    "duration": 163,
    "start_time": "2025-01-27T17:09:41.325Z"
   },
   {
    "duration": 35,
    "start_time": "2025-01-27T17:09:41.490Z"
   },
   {
    "duration": 228,
    "start_time": "2025-01-27T17:09:41.527Z"
   },
   {
    "duration": 264,
    "start_time": "2025-01-27T17:09:41.756Z"
   },
   {
    "duration": 64,
    "start_time": "2025-01-27T17:09:42.021Z"
   },
   {
    "duration": 63,
    "start_time": "2025-01-27T17:09:42.086Z"
   },
   {
    "duration": 14,
    "start_time": "2025-01-27T17:09:42.151Z"
   },
   {
    "duration": 59,
    "start_time": "2025-01-27T17:09:42.167Z"
   },
   {
    "duration": 222,
    "start_time": "2025-01-27T17:09:42.228Z"
   },
   {
    "duration": 6,
    "start_time": "2025-01-27T17:09:42.452Z"
   },
   {
    "duration": 50,
    "start_time": "2025-01-27T17:09:42.460Z"
   },
   {
    "duration": 2,
    "start_time": "2025-01-27T17:09:42.514Z"
   },
   {
    "duration": 3,
    "start_time": "2025-01-27T17:09:42.518Z"
   },
   {
    "duration": 3,
    "start_time": "2025-01-27T17:09:42.522Z"
   },
   {
    "duration": 3,
    "start_time": "2025-01-27T17:09:42.527Z"
   },
   {
    "duration": 4410,
    "start_time": "2025-01-27T17:09:42.532Z"
   },
   {
    "duration": 65,
    "start_time": "2025-01-27T17:09:46.944Z"
   },
   {
    "duration": 0,
    "start_time": "2025-01-27T17:09:47.011Z"
   },
   {
    "duration": 0,
    "start_time": "2025-01-27T17:09:47.012Z"
   },
   {
    "duration": 790,
    "start_time": "2025-01-27T17:10:38.826Z"
   },
   {
    "duration": 428,
    "start_time": "2025-01-27T17:10:39.619Z"
   },
   {
    "duration": 161,
    "start_time": "2025-01-27T17:10:40.049Z"
   },
   {
    "duration": 27,
    "start_time": "2025-01-27T17:10:40.213Z"
   },
   {
    "duration": 240,
    "start_time": "2025-01-27T17:10:40.242Z"
   },
   {
    "duration": 265,
    "start_time": "2025-01-27T17:10:40.484Z"
   },
   {
    "duration": 72,
    "start_time": "2025-01-27T17:10:40.750Z"
   },
   {
    "duration": 46,
    "start_time": "2025-01-27T17:10:40.824Z"
   },
   {
    "duration": 13,
    "start_time": "2025-01-27T17:10:40.872Z"
   },
   {
    "duration": 52,
    "start_time": "2025-01-27T17:10:40.887Z"
   },
   {
    "duration": 232,
    "start_time": "2025-01-27T17:10:40.941Z"
   },
   {
    "duration": 6,
    "start_time": "2025-01-27T17:10:41.175Z"
   },
   {
    "duration": 45,
    "start_time": "2025-01-27T17:10:41.184Z"
   },
   {
    "duration": 3,
    "start_time": "2025-01-27T17:10:41.232Z"
   },
   {
    "duration": 2,
    "start_time": "2025-01-27T17:10:41.237Z"
   },
   {
    "duration": 3,
    "start_time": "2025-01-27T17:10:41.241Z"
   },
   {
    "duration": 3,
    "start_time": "2025-01-27T17:10:41.246Z"
   },
   {
    "duration": 4376,
    "start_time": "2025-01-27T17:10:41.250Z"
   },
   {
    "duration": 4,
    "start_time": "2025-01-27T17:10:45.628Z"
   },
   {
    "duration": 0,
    "start_time": "2025-01-27T17:10:45.633Z"
   },
   {
    "duration": 0,
    "start_time": "2025-01-27T17:10:45.637Z"
   },
   {
    "duration": 751,
    "start_time": "2025-01-27T17:12:47.376Z"
   },
   {
    "duration": 418,
    "start_time": "2025-01-27T17:12:48.129Z"
   },
   {
    "duration": 162,
    "start_time": "2025-01-27T17:12:48.549Z"
   },
   {
    "duration": 26,
    "start_time": "2025-01-27T17:12:48.713Z"
   },
   {
    "duration": 238,
    "start_time": "2025-01-27T17:12:48.741Z"
   },
   {
    "duration": 260,
    "start_time": "2025-01-27T17:12:48.981Z"
   },
   {
    "duration": 71,
    "start_time": "2025-01-27T17:12:49.242Z"
   },
   {
    "duration": 58,
    "start_time": "2025-01-27T17:12:49.315Z"
   },
   {
    "duration": 15,
    "start_time": "2025-01-27T17:12:49.375Z"
   },
   {
    "duration": 50,
    "start_time": "2025-01-27T17:12:49.392Z"
   },
   {
    "duration": 226,
    "start_time": "2025-01-27T17:12:49.444Z"
   },
   {
    "duration": 6,
    "start_time": "2025-01-27T17:12:49.672Z"
   },
   {
    "duration": 43,
    "start_time": "2025-01-27T17:12:49.679Z"
   },
   {
    "duration": 3,
    "start_time": "2025-01-27T17:12:49.726Z"
   },
   {
    "duration": 3,
    "start_time": "2025-01-27T17:12:49.731Z"
   },
   {
    "duration": 3,
    "start_time": "2025-01-27T17:12:49.735Z"
   },
   {
    "duration": 2,
    "start_time": "2025-01-27T17:12:49.740Z"
   },
   {
    "duration": 621,
    "start_time": "2025-01-27T17:12:49.744Z"
   },
   {
    "duration": 0,
    "start_time": "2025-01-27T17:12:50.366Z"
   },
   {
    "duration": 0,
    "start_time": "2025-01-27T17:12:50.368Z"
   },
   {
    "duration": 0,
    "start_time": "2025-01-27T17:12:50.369Z"
   },
   {
    "duration": 780,
    "start_time": "2025-01-27T17:13:17.729Z"
   },
   {
    "duration": 411,
    "start_time": "2025-01-27T17:13:18.511Z"
   },
   {
    "duration": 177,
    "start_time": "2025-01-27T17:13:18.924Z"
   },
   {
    "duration": 37,
    "start_time": "2025-01-27T17:13:19.103Z"
   },
   {
    "duration": 232,
    "start_time": "2025-01-27T17:13:19.144Z"
   },
   {
    "duration": 267,
    "start_time": "2025-01-27T17:13:19.378Z"
   },
   {
    "duration": 72,
    "start_time": "2025-01-27T17:13:19.647Z"
   },
   {
    "duration": 50,
    "start_time": "2025-01-27T17:13:19.721Z"
   },
   {
    "duration": 16,
    "start_time": "2025-01-27T17:13:19.773Z"
   },
   {
    "duration": 58,
    "start_time": "2025-01-27T17:13:19.791Z"
   },
   {
    "duration": 227,
    "start_time": "2025-01-27T17:13:19.851Z"
   },
   {
    "duration": 6,
    "start_time": "2025-01-27T17:13:20.080Z"
   },
   {
    "duration": 48,
    "start_time": "2025-01-27T17:13:20.088Z"
   },
   {
    "duration": 3,
    "start_time": "2025-01-27T17:13:20.139Z"
   },
   {
    "duration": 3,
    "start_time": "2025-01-27T17:13:20.144Z"
   },
   {
    "duration": 4,
    "start_time": "2025-01-27T17:13:20.149Z"
   },
   {
    "duration": 3,
    "start_time": "2025-01-27T17:13:20.154Z"
   },
   {
    "duration": 617,
    "start_time": "2025-01-27T17:13:20.159Z"
   },
   {
    "duration": 0,
    "start_time": "2025-01-27T17:13:20.778Z"
   },
   {
    "duration": 0,
    "start_time": "2025-01-27T17:13:20.779Z"
   },
   {
    "duration": 0,
    "start_time": "2025-01-27T17:13:20.780Z"
   },
   {
    "duration": 736,
    "start_time": "2025-01-27T17:13:44.590Z"
   },
   {
    "duration": 417,
    "start_time": "2025-01-27T17:13:45.329Z"
   },
   {
    "duration": 169,
    "start_time": "2025-01-27T17:13:45.748Z"
   },
   {
    "duration": 28,
    "start_time": "2025-01-27T17:13:45.918Z"
   },
   {
    "duration": 241,
    "start_time": "2025-01-27T17:13:45.948Z"
   },
   {
    "duration": 268,
    "start_time": "2025-01-27T17:13:46.191Z"
   },
   {
    "duration": 72,
    "start_time": "2025-01-27T17:13:46.461Z"
   },
   {
    "duration": 46,
    "start_time": "2025-01-27T17:13:46.535Z"
   },
   {
    "duration": 29,
    "start_time": "2025-01-27T17:13:46.583Z"
   },
   {
    "duration": 47,
    "start_time": "2025-01-27T17:13:46.615Z"
   },
   {
    "duration": 233,
    "start_time": "2025-01-27T17:13:46.664Z"
   },
   {
    "duration": 14,
    "start_time": "2025-01-27T17:13:46.899Z"
   },
   {
    "duration": 30,
    "start_time": "2025-01-27T17:13:46.915Z"
   },
   {
    "duration": 3,
    "start_time": "2025-01-27T17:13:46.947Z"
   },
   {
    "duration": 3,
    "start_time": "2025-01-27T17:13:46.951Z"
   },
   {
    "duration": 3,
    "start_time": "2025-01-27T17:13:46.956Z"
   },
   {
    "duration": 4,
    "start_time": "2025-01-27T17:13:46.960Z"
   },
   {
    "duration": 3466,
    "start_time": "2025-01-27T17:13:46.966Z"
   },
   {
    "duration": 4,
    "start_time": "2025-01-27T17:13:50.433Z"
   },
   {
    "duration": 0,
    "start_time": "2025-01-27T17:13:50.439Z"
   },
   {
    "duration": 0,
    "start_time": "2025-01-27T17:13:50.441Z"
   },
   {
    "duration": 599,
    "start_time": "2025-01-27T17:16:20.445Z"
   },
   {
    "duration": 787,
    "start_time": "2025-01-27T17:16:33.721Z"
   },
   {
    "duration": 402,
    "start_time": "2025-01-27T17:16:34.511Z"
   },
   {
    "duration": 160,
    "start_time": "2025-01-27T17:16:34.915Z"
   },
   {
    "duration": 182,
    "start_time": "2025-01-27T17:16:35.077Z"
   },
   {
    "duration": 5,
    "start_time": "2025-01-27T17:16:35.262Z"
   },
   {
    "duration": 0,
    "start_time": "2025-01-27T17:16:35.269Z"
   },
   {
    "duration": 0,
    "start_time": "2025-01-27T17:16:35.270Z"
   },
   {
    "duration": 0,
    "start_time": "2025-01-27T17:16:35.271Z"
   },
   {
    "duration": 0,
    "start_time": "2025-01-27T17:16:35.273Z"
   },
   {
    "duration": 0,
    "start_time": "2025-01-27T17:16:35.274Z"
   },
   {
    "duration": 0,
    "start_time": "2025-01-27T17:16:35.275Z"
   },
   {
    "duration": 0,
    "start_time": "2025-01-27T17:16:35.277Z"
   },
   {
    "duration": 0,
    "start_time": "2025-01-27T17:16:35.278Z"
   },
   {
    "duration": 0,
    "start_time": "2025-01-27T17:16:35.279Z"
   },
   {
    "duration": 0,
    "start_time": "2025-01-27T17:16:35.280Z"
   },
   {
    "duration": 0,
    "start_time": "2025-01-27T17:16:35.309Z"
   },
   {
    "duration": 0,
    "start_time": "2025-01-27T17:16:35.310Z"
   },
   {
    "duration": 0,
    "start_time": "2025-01-27T17:16:35.311Z"
   },
   {
    "duration": 0,
    "start_time": "2025-01-27T17:16:35.312Z"
   },
   {
    "duration": 0,
    "start_time": "2025-01-27T17:16:35.313Z"
   },
   {
    "duration": 0,
    "start_time": "2025-01-27T17:16:35.315Z"
   },
   {
    "duration": 0,
    "start_time": "2025-01-27T17:16:35.316Z"
   },
   {
    "duration": 26,
    "start_time": "2025-01-27T17:39:19.160Z"
   },
   {
    "duration": 220,
    "start_time": "2025-01-27T17:39:20.899Z"
   },
   {
    "duration": 253,
    "start_time": "2025-01-27T17:39:21.892Z"
   },
   {
    "duration": 68,
    "start_time": "2025-01-27T17:39:26.983Z"
   },
   {
    "duration": 48,
    "start_time": "2025-01-27T17:39:27.997Z"
   },
   {
    "duration": 14,
    "start_time": "2025-01-27T17:39:53.053Z"
   },
   {
    "duration": 49,
    "start_time": "2025-01-27T17:39:55.769Z"
   },
   {
    "duration": 224,
    "start_time": "2025-01-27T17:40:03.737Z"
   },
   {
    "duration": 92,
    "start_time": "2025-01-27T17:42:11.520Z"
   },
   {
    "duration": 231,
    "start_time": "2025-01-27T17:49:54.562Z"
   },
   {
    "duration": 43,
    "start_time": "2025-01-27T17:50:23.697Z"
   },
   {
    "duration": 42,
    "start_time": "2025-01-27T17:50:28.358Z"
   },
   {
    "duration": 25,
    "start_time": "2025-01-27T17:50:35.444Z"
   },
   {
    "duration": 47,
    "start_time": "2025-01-27T17:50:40.641Z"
   },
   {
    "duration": 47,
    "start_time": "2025-01-27T17:51:09.911Z"
   },
   {
    "duration": 769,
    "start_time": "2025-01-27T17:51:18.847Z"
   },
   {
    "duration": 412,
    "start_time": "2025-01-27T17:51:19.618Z"
   },
   {
    "duration": 161,
    "start_time": "2025-01-27T17:51:20.032Z"
   },
   {
    "duration": 34,
    "start_time": "2025-01-27T17:51:20.195Z"
   },
   {
    "duration": 228,
    "start_time": "2025-01-27T17:51:20.231Z"
   },
   {
    "duration": 263,
    "start_time": "2025-01-27T17:51:20.461Z"
   },
   {
    "duration": 63,
    "start_time": "2025-01-27T17:51:20.726Z"
   },
   {
    "duration": 55,
    "start_time": "2025-01-27T17:51:20.791Z"
   },
   {
    "duration": 14,
    "start_time": "2025-01-27T17:51:20.848Z"
   },
   {
    "duration": 61,
    "start_time": "2025-01-27T17:51:20.867Z"
   },
   {
    "duration": 232,
    "start_time": "2025-01-27T17:51:20.930Z"
   },
   {
    "duration": 99,
    "start_time": "2025-01-27T17:51:21.165Z"
   },
   {
    "duration": 4,
    "start_time": "2025-01-27T17:51:21.266Z"
   },
   {
    "duration": 0,
    "start_time": "2025-01-27T17:51:21.271Z"
   },
   {
    "duration": 0,
    "start_time": "2025-01-27T17:51:21.272Z"
   },
   {
    "duration": 0,
    "start_time": "2025-01-27T17:51:21.274Z"
   },
   {
    "duration": 0,
    "start_time": "2025-01-27T17:51:21.275Z"
   },
   {
    "duration": 0,
    "start_time": "2025-01-27T17:51:21.275Z"
   },
   {
    "duration": 0,
    "start_time": "2025-01-27T17:51:21.277Z"
   },
   {
    "duration": 0,
    "start_time": "2025-01-27T17:51:21.279Z"
   },
   {
    "duration": 0,
    "start_time": "2025-01-27T17:51:21.280Z"
   },
   {
    "duration": 0,
    "start_time": "2025-01-27T17:51:21.282Z"
   },
   {
    "duration": 0,
    "start_time": "2025-01-27T17:51:21.308Z"
   },
   {
    "duration": 75,
    "start_time": "2025-01-27T18:16:43.440Z"
   },
   {
    "duration": 6,
    "start_time": "2025-01-27T18:17:09.029Z"
   },
   {
    "duration": 18,
    "start_time": "2025-01-27T18:17:11.013Z"
   },
   {
    "duration": 5,
    "start_time": "2025-01-27T18:17:11.974Z"
   },
   {
    "duration": 3,
    "start_time": "2025-01-27T18:17:12.691Z"
   },
   {
    "duration": 2,
    "start_time": "2025-01-27T18:17:14.606Z"
   },
   {
    "duration": 3,
    "start_time": "2025-01-27T18:17:15.404Z"
   },
   {
    "duration": 1574,
    "start_time": "2025-01-27T18:17:17.652Z"
   },
   {
    "duration": 4,
    "start_time": "2025-01-27T18:17:19.228Z"
   },
   {
    "duration": 777,
    "start_time": "2025-01-27T18:26:42.374Z"
   },
   {
    "duration": 410,
    "start_time": "2025-01-27T18:26:43.153Z"
   },
   {
    "duration": 162,
    "start_time": "2025-01-27T18:26:43.565Z"
   },
   {
    "duration": 30,
    "start_time": "2025-01-27T18:26:43.728Z"
   },
   {
    "duration": 244,
    "start_time": "2025-01-27T18:26:43.760Z"
   },
   {
    "duration": 253,
    "start_time": "2025-01-27T18:26:44.009Z"
   },
   {
    "duration": 67,
    "start_time": "2025-01-27T18:26:44.264Z"
   },
   {
    "duration": 46,
    "start_time": "2025-01-27T18:26:44.333Z"
   },
   {
    "duration": 31,
    "start_time": "2025-01-27T18:26:44.381Z"
   },
   {
    "duration": 44,
    "start_time": "2025-01-27T18:26:44.413Z"
   },
   {
    "duration": 98,
    "start_time": "2025-01-27T18:26:44.459Z"
   },
   {
    "duration": 56,
    "start_time": "2025-01-27T18:26:44.559Z"
   },
   {
    "duration": 4,
    "start_time": "2025-01-27T18:26:44.617Z"
   },
   {
    "duration": 0,
    "start_time": "2025-01-27T18:26:44.623Z"
   },
   {
    "duration": 0,
    "start_time": "2025-01-27T18:26:44.624Z"
   },
   {
    "duration": 0,
    "start_time": "2025-01-27T18:26:44.625Z"
   },
   {
    "duration": 0,
    "start_time": "2025-01-27T18:26:44.629Z"
   },
   {
    "duration": 0,
    "start_time": "2025-01-27T18:26:44.630Z"
   },
   {
    "duration": 0,
    "start_time": "2025-01-27T18:26:44.631Z"
   },
   {
    "duration": 0,
    "start_time": "2025-01-27T18:26:44.632Z"
   },
   {
    "duration": 0,
    "start_time": "2025-01-27T18:26:44.633Z"
   },
   {
    "duration": 0,
    "start_time": "2025-01-27T18:26:44.634Z"
   },
   {
    "duration": 0,
    "start_time": "2025-01-27T18:26:44.635Z"
   },
   {
    "duration": 134,
    "start_time": "2025-01-27T18:27:19.266Z"
   },
   {
    "duration": 20,
    "start_time": "2025-01-27T18:28:05.991Z"
   },
   {
    "duration": 137,
    "start_time": "2025-01-27T18:28:08.136Z"
   },
   {
    "duration": 128,
    "start_time": "2025-01-27T18:28:19.559Z"
   },
   {
    "duration": 790,
    "start_time": "2025-01-27T18:28:32.340Z"
   },
   {
    "duration": 416,
    "start_time": "2025-01-27T18:28:33.132Z"
   },
   {
    "duration": 160,
    "start_time": "2025-01-27T18:28:33.550Z"
   },
   {
    "duration": 27,
    "start_time": "2025-01-27T18:28:33.712Z"
   },
   {
    "duration": 237,
    "start_time": "2025-01-27T18:28:33.741Z"
   },
   {
    "duration": 269,
    "start_time": "2025-01-27T18:28:33.980Z"
   },
   {
    "duration": 68,
    "start_time": "2025-01-27T18:28:34.251Z"
   },
   {
    "duration": 45,
    "start_time": "2025-01-27T18:28:34.320Z"
   },
   {
    "duration": 15,
    "start_time": "2025-01-27T18:28:34.367Z"
   },
   {
    "duration": 60,
    "start_time": "2025-01-27T18:28:34.385Z"
   },
   {
    "duration": 99,
    "start_time": "2025-01-27T18:28:34.446Z"
   },
   {
    "duration": 46,
    "start_time": "2025-01-27T18:28:34.547Z"
   },
   {
    "duration": 15,
    "start_time": "2025-01-27T18:28:34.595Z"
   },
   {
    "duration": 0,
    "start_time": "2025-01-27T18:28:34.612Z"
   },
   {
    "duration": 0,
    "start_time": "2025-01-27T18:28:34.614Z"
   },
   {
    "duration": 0,
    "start_time": "2025-01-27T18:28:34.615Z"
   },
   {
    "duration": 0,
    "start_time": "2025-01-27T18:28:34.616Z"
   },
   {
    "duration": 0,
    "start_time": "2025-01-27T18:28:34.618Z"
   },
   {
    "duration": 0,
    "start_time": "2025-01-27T18:28:34.619Z"
   },
   {
    "duration": 0,
    "start_time": "2025-01-27T18:28:34.620Z"
   },
   {
    "duration": 0,
    "start_time": "2025-01-27T18:28:34.621Z"
   },
   {
    "duration": 0,
    "start_time": "2025-01-27T18:28:34.622Z"
   },
   {
    "duration": 0,
    "start_time": "2025-01-27T18:28:34.623Z"
   },
   {
    "duration": 135,
    "start_time": "2025-01-27T18:29:22.180Z"
   },
   {
    "duration": 6,
    "start_time": "2025-01-27T18:30:02.941Z"
   },
   {
    "duration": 20,
    "start_time": "2025-01-27T18:30:03.965Z"
   },
   {
    "duration": 3,
    "start_time": "2025-01-27T18:30:05.022Z"
   },
   {
    "duration": 3,
    "start_time": "2025-01-27T18:30:05.834Z"
   },
   {
    "duration": 3,
    "start_time": "2025-01-27T18:30:06.767Z"
   },
   {
    "duration": 3,
    "start_time": "2025-01-27T18:30:08.800Z"
   },
   {
    "duration": 2122,
    "start_time": "2025-01-27T18:30:09.504Z"
   },
   {
    "duration": 822,
    "start_time": "2025-01-27T18:30:50.805Z"
   },
   {
    "duration": 421,
    "start_time": "2025-01-27T18:30:51.630Z"
   },
   {
    "duration": 163,
    "start_time": "2025-01-27T18:30:52.052Z"
   },
   {
    "duration": 29,
    "start_time": "2025-01-27T18:30:52.217Z"
   },
   {
    "duration": 245,
    "start_time": "2025-01-27T18:30:52.248Z"
   },
   {
    "duration": 273,
    "start_time": "2025-01-27T18:30:52.494Z"
   },
   {
    "duration": 74,
    "start_time": "2025-01-27T18:30:52.770Z"
   },
   {
    "duration": 48,
    "start_time": "2025-01-27T18:30:52.846Z"
   },
   {
    "duration": 25,
    "start_time": "2025-01-27T18:30:52.896Z"
   },
   {
    "duration": 44,
    "start_time": "2025-01-27T18:30:52.924Z"
   },
   {
    "duration": 111,
    "start_time": "2025-01-27T18:30:52.971Z"
   },
   {
    "duration": 50,
    "start_time": "2025-01-27T18:30:53.085Z"
   },
   {
    "duration": 4,
    "start_time": "2025-01-27T18:30:53.138Z"
   },
   {
    "duration": 0,
    "start_time": "2025-01-27T18:30:53.144Z"
   },
   {
    "duration": 0,
    "start_time": "2025-01-27T18:30:53.146Z"
   },
   {
    "duration": 0,
    "start_time": "2025-01-27T18:30:53.147Z"
   },
   {
    "duration": 0,
    "start_time": "2025-01-27T18:30:53.149Z"
   },
   {
    "duration": 0,
    "start_time": "2025-01-27T18:30:53.151Z"
   },
   {
    "duration": 0,
    "start_time": "2025-01-27T18:30:53.152Z"
   },
   {
    "duration": 0,
    "start_time": "2025-01-27T18:30:53.154Z"
   },
   {
    "duration": 0,
    "start_time": "2025-01-27T18:30:53.156Z"
   },
   {
    "duration": 0,
    "start_time": "2025-01-27T18:30:53.157Z"
   },
   {
    "duration": 0,
    "start_time": "2025-01-27T18:30:53.159Z"
   },
   {
    "duration": 144,
    "start_time": "2025-01-27T18:30:59.046Z"
   },
   {
    "duration": 2698,
    "start_time": "2025-01-27T18:37:47.440Z"
   },
   {
    "duration": 401,
    "start_time": "2025-01-27T18:37:50.140Z"
   },
   {
    "duration": 162,
    "start_time": "2025-01-27T18:37:50.543Z"
   },
   {
    "duration": 80,
    "start_time": "2025-01-27T18:37:50.709Z"
   },
   {
    "duration": 244,
    "start_time": "2025-01-27T18:37:50.792Z"
   },
   {
    "duration": 266,
    "start_time": "2025-01-27T18:37:51.038Z"
   },
   {
    "duration": 66,
    "start_time": "2025-01-27T18:37:51.309Z"
   },
   {
    "duration": 59,
    "start_time": "2025-01-27T18:37:51.380Z"
   },
   {
    "duration": 15,
    "start_time": "2025-01-27T18:37:51.441Z"
   },
   {
    "duration": 55,
    "start_time": "2025-01-27T18:37:51.458Z"
   },
   {
    "duration": 95,
    "start_time": "2025-01-27T18:37:51.515Z"
   },
   {
    "duration": 45,
    "start_time": "2025-01-27T18:37:51.611Z"
   },
   {
    "duration": 153,
    "start_time": "2025-01-27T18:37:51.658Z"
   },
   {
    "duration": 1195,
    "start_time": "2025-01-27T18:37:51.814Z"
   },
   {
    "duration": 6,
    "start_time": "2025-01-27T18:37:53.011Z"
   },
   {
    "duration": 18,
    "start_time": "2025-01-27T18:37:53.018Z"
   },
   {
    "duration": 3,
    "start_time": "2025-01-27T18:37:53.037Z"
   },
   {
    "duration": 2,
    "start_time": "2025-01-27T18:37:53.042Z"
   },
   {
    "duration": 3,
    "start_time": "2025-01-27T18:37:53.046Z"
   },
   {
    "duration": 4,
    "start_time": "2025-01-27T18:37:53.050Z"
   },
   {
    "duration": 1771,
    "start_time": "2025-01-27T18:37:53.055Z"
   },
   {
    "duration": 4,
    "start_time": "2025-01-27T18:37:54.828Z"
   },
   {
    "duration": 0,
    "start_time": "2025-01-27T18:37:54.833Z"
   },
   {
    "duration": 0,
    "start_time": "2025-01-27T18:37:54.835Z"
   },
   {
    "duration": 999,
    "start_time": "2025-01-27T18:38:50.143Z"
   },
   {
    "duration": 403,
    "start_time": "2025-01-27T18:38:51.144Z"
   },
   {
    "duration": 166,
    "start_time": "2025-01-27T18:38:51.549Z"
   },
   {
    "duration": 24,
    "start_time": "2025-01-27T18:38:51.716Z"
   },
   {
    "duration": 236,
    "start_time": "2025-01-27T18:38:51.743Z"
   },
   {
    "duration": 285,
    "start_time": "2025-01-27T18:38:51.981Z"
   },
   {
    "duration": 68,
    "start_time": "2025-01-27T18:38:52.268Z"
   },
   {
    "duration": 44,
    "start_time": "2025-01-27T18:38:52.339Z"
   },
   {
    "duration": 26,
    "start_time": "2025-01-27T18:38:52.385Z"
   },
   {
    "duration": 43,
    "start_time": "2025-01-27T18:38:52.414Z"
   },
   {
    "duration": 103,
    "start_time": "2025-01-27T18:38:52.459Z"
   },
   {
    "duration": 48,
    "start_time": "2025-01-27T18:38:52.564Z"
   },
   {
    "duration": 145,
    "start_time": "2025-01-27T18:38:52.614Z"
   },
   {
    "duration": 6,
    "start_time": "2025-01-27T18:40:15.023Z"
   },
   {
    "duration": 0,
    "start_time": "2025-01-27T18:40:15.030Z"
   },
   {
    "duration": 0,
    "start_time": "2025-01-27T18:40:15.032Z"
   },
   {
    "duration": 0,
    "start_time": "2025-01-27T18:40:15.033Z"
   },
   {
    "duration": 0,
    "start_time": "2025-01-27T18:40:15.034Z"
   },
   {
    "duration": 0,
    "start_time": "2025-01-27T18:40:15.035Z"
   },
   {
    "duration": 0,
    "start_time": "2025-01-27T18:40:15.036Z"
   },
   {
    "duration": 0,
    "start_time": "2025-01-27T18:40:15.037Z"
   },
   {
    "duration": 0,
    "start_time": "2025-01-27T18:40:15.039Z"
   },
   {
    "duration": 0,
    "start_time": "2025-01-27T18:40:15.040Z"
   },
   {
    "duration": 0,
    "start_time": "2025-01-27T18:40:15.041Z"
   },
   {
    "duration": 449,
    "start_time": "2025-01-27T18:41:51.850Z"
   },
   {
    "duration": 997,
    "start_time": "2025-01-27T18:42:34.495Z"
   },
   {
    "duration": 399,
    "start_time": "2025-01-27T18:42:35.494Z"
   },
   {
    "duration": 160,
    "start_time": "2025-01-27T18:42:35.894Z"
   },
   {
    "duration": 26,
    "start_time": "2025-01-27T18:42:36.057Z"
   },
   {
    "duration": 238,
    "start_time": "2025-01-27T18:42:36.085Z"
   },
   {
    "duration": 296,
    "start_time": "2025-01-27T18:42:36.324Z"
   },
   {
    "duration": 65,
    "start_time": "2025-01-27T18:42:36.621Z"
   },
   {
    "duration": 58,
    "start_time": "2025-01-27T18:42:36.687Z"
   },
   {
    "duration": 14,
    "start_time": "2025-01-27T18:42:36.747Z"
   },
   {
    "duration": 59,
    "start_time": "2025-01-27T18:42:36.765Z"
   },
   {
    "duration": 96,
    "start_time": "2025-01-27T18:42:36.826Z"
   },
   {
    "duration": 45,
    "start_time": "2025-01-27T18:42:36.924Z"
   },
   {
    "duration": 139,
    "start_time": "2025-01-27T18:42:36.971Z"
   },
   {
    "duration": 462,
    "start_time": "2025-01-27T18:42:37.112Z"
   },
   {
    "duration": 0,
    "start_time": "2025-01-27T18:42:37.575Z"
   },
   {
    "duration": 0,
    "start_time": "2025-01-27T18:42:37.576Z"
   },
   {
    "duration": 0,
    "start_time": "2025-01-27T18:42:37.578Z"
   },
   {
    "duration": 0,
    "start_time": "2025-01-27T18:42:37.579Z"
   },
   {
    "duration": 0,
    "start_time": "2025-01-27T18:42:37.580Z"
   },
   {
    "duration": 0,
    "start_time": "2025-01-27T18:42:37.582Z"
   },
   {
    "duration": 0,
    "start_time": "2025-01-27T18:42:37.583Z"
   },
   {
    "duration": 0,
    "start_time": "2025-01-27T18:42:37.585Z"
   },
   {
    "duration": 0,
    "start_time": "2025-01-27T18:42:37.586Z"
   },
   {
    "duration": 0,
    "start_time": "2025-01-27T18:42:37.609Z"
   },
   {
    "duration": 79,
    "start_time": "2025-01-27T18:44:52.189Z"
   },
   {
    "duration": 130,
    "start_time": "2025-01-27T18:45:02.727Z"
   },
   {
    "duration": 1010,
    "start_time": "2025-01-27T18:47:55.645Z"
   },
   {
    "duration": 409,
    "start_time": "2025-01-27T18:47:56.657Z"
   },
   {
    "duration": 168,
    "start_time": "2025-01-27T18:47:57.068Z"
   },
   {
    "duration": 27,
    "start_time": "2025-01-27T18:47:57.238Z"
   },
   {
    "duration": 241,
    "start_time": "2025-01-27T18:47:57.268Z"
   },
   {
    "duration": 266,
    "start_time": "2025-01-27T18:47:57.511Z"
   },
   {
    "duration": 83,
    "start_time": "2025-01-27T18:47:57.779Z"
   },
   {
    "duration": 51,
    "start_time": "2025-01-27T18:47:57.864Z"
   },
   {
    "duration": 14,
    "start_time": "2025-01-27T18:47:57.918Z"
   },
   {
    "duration": 44,
    "start_time": "2025-01-27T18:47:57.934Z"
   },
   {
    "duration": 111,
    "start_time": "2025-01-27T18:47:57.980Z"
   },
   {
    "duration": 50,
    "start_time": "2025-01-27T18:47:58.092Z"
   },
   {
    "duration": 137,
    "start_time": "2025-01-27T18:47:58.143Z"
   },
   {
    "duration": 32128,
    "start_time": "2025-01-27T18:47:58.283Z"
   },
   {
    "duration": 0,
    "start_time": "2025-01-27T18:48:30.413Z"
   },
   {
    "duration": 0,
    "start_time": "2025-01-27T18:48:30.415Z"
   },
   {
    "duration": 0,
    "start_time": "2025-01-27T18:48:30.416Z"
   },
   {
    "duration": 0,
    "start_time": "2025-01-27T18:48:30.418Z"
   },
   {
    "duration": 0,
    "start_time": "2025-01-27T18:48:30.419Z"
   },
   {
    "duration": 0,
    "start_time": "2025-01-27T18:48:30.421Z"
   },
   {
    "duration": 0,
    "start_time": "2025-01-27T18:48:30.422Z"
   },
   {
    "duration": 0,
    "start_time": "2025-01-27T18:48:30.424Z"
   },
   {
    "duration": 0,
    "start_time": "2025-01-27T18:48:30.425Z"
   },
   {
    "duration": 0,
    "start_time": "2025-01-27T18:48:30.426Z"
   },
   {
    "duration": 250864,
    "start_time": "2025-01-27T18:48:36.364Z"
   },
   {
    "duration": 6,
    "start_time": "2025-01-27T18:53:34.388Z"
   },
   {
    "duration": 1010,
    "start_time": "2025-01-27T18:54:35.009Z"
   },
   {
    "duration": 467,
    "start_time": "2025-01-27T18:54:36.022Z"
   },
   {
    "duration": 155,
    "start_time": "2025-01-27T18:54:36.490Z"
   },
   {
    "duration": 25,
    "start_time": "2025-01-27T18:54:36.647Z"
   },
   {
    "duration": 257,
    "start_time": "2025-01-27T18:54:36.673Z"
   },
   {
    "duration": 343,
    "start_time": "2025-01-27T18:54:36.932Z"
   },
   {
    "duration": 82,
    "start_time": "2025-01-27T18:54:37.280Z"
   },
   {
    "duration": 62,
    "start_time": "2025-01-27T18:54:37.364Z"
   },
   {
    "duration": 15,
    "start_time": "2025-01-27T18:54:37.428Z"
   },
   {
    "duration": 45,
    "start_time": "2025-01-27T18:54:37.445Z"
   },
   {
    "duration": 131,
    "start_time": "2025-01-27T18:54:37.492Z"
   },
   {
    "duration": 57,
    "start_time": "2025-01-27T18:54:37.626Z"
   },
   {
    "duration": 182,
    "start_time": "2025-01-27T18:54:37.685Z"
   },
   {
    "duration": 7,
    "start_time": "2025-01-27T18:54:37.870Z"
   },
   {
    "duration": 864320,
    "start_time": "2025-01-27T18:54:37.879Z"
   },
   {
    "duration": 245,
    "start_time": "2025-01-27T19:09:02.210Z"
   },
   {
    "duration": 0,
    "start_time": "2025-01-27T19:09:02.457Z"
   },
   {
    "duration": 0,
    "start_time": "2025-01-27T19:09:02.458Z"
   },
   {
    "duration": 0,
    "start_time": "2025-01-27T19:09:02.459Z"
   },
   {
    "duration": 0,
    "start_time": "2025-01-27T19:09:02.460Z"
   },
   {
    "duration": 0,
    "start_time": "2025-01-27T19:09:02.461Z"
   },
   {
    "duration": 0,
    "start_time": "2025-01-27T19:09:02.464Z"
   },
   {
    "duration": 0,
    "start_time": "2025-01-27T19:09:02.465Z"
   },
   {
    "duration": 0,
    "start_time": "2025-01-27T19:09:02.466Z"
   },
   {
    "duration": 0,
    "start_time": "2025-01-27T19:09:02.468Z"
   },
   {
    "duration": 0,
    "start_time": "2025-01-27T19:09:02.470Z"
   },
   {
    "duration": 119,
    "start_time": "2025-01-27T19:23:15.225Z"
   },
   {
    "duration": 447,
    "start_time": "2025-01-27T19:24:49.054Z"
   },
   {
    "duration": 980,
    "start_time": "2025-01-27T19:31:13.247Z"
   },
   {
    "duration": 412,
    "start_time": "2025-01-27T19:31:14.229Z"
   },
   {
    "duration": 168,
    "start_time": "2025-01-27T19:31:14.643Z"
   },
   {
    "duration": 29,
    "start_time": "2025-01-27T19:31:14.813Z"
   },
   {
    "duration": 243,
    "start_time": "2025-01-27T19:31:14.845Z"
   },
   {
    "duration": 266,
    "start_time": "2025-01-27T19:31:15.090Z"
   },
   {
    "duration": 524,
    "start_time": "2025-01-27T19:31:15.358Z"
   },
   {
    "duration": 6,
    "start_time": "2025-01-27T19:31:15.885Z"
   },
   {
    "duration": 0,
    "start_time": "2025-01-27T19:31:15.894Z"
   },
   {
    "duration": 0,
    "start_time": "2025-01-27T19:31:15.895Z"
   },
   {
    "duration": 0,
    "start_time": "2025-01-27T19:31:15.896Z"
   },
   {
    "duration": 0,
    "start_time": "2025-01-27T19:31:15.898Z"
   },
   {
    "duration": 0,
    "start_time": "2025-01-27T19:31:15.900Z"
   },
   {
    "duration": 0,
    "start_time": "2025-01-27T19:31:15.901Z"
   },
   {
    "duration": 0,
    "start_time": "2025-01-27T19:31:15.903Z"
   },
   {
    "duration": 0,
    "start_time": "2025-01-27T19:31:15.908Z"
   },
   {
    "duration": 0,
    "start_time": "2025-01-27T19:31:15.910Z"
   },
   {
    "duration": 0,
    "start_time": "2025-01-27T19:31:15.911Z"
   },
   {
    "duration": 0,
    "start_time": "2025-01-27T19:31:15.912Z"
   },
   {
    "duration": 0,
    "start_time": "2025-01-27T19:31:15.913Z"
   },
   {
    "duration": 0,
    "start_time": "2025-01-27T19:31:15.914Z"
   },
   {
    "duration": 0,
    "start_time": "2025-01-27T19:31:15.915Z"
   },
   {
    "duration": 1,
    "start_time": "2025-01-27T19:31:15.916Z"
   },
   {
    "duration": 0,
    "start_time": "2025-01-27T19:31:15.918Z"
   },
   {
    "duration": 0,
    "start_time": "2025-01-27T19:31:15.920Z"
   },
   {
    "duration": 0,
    "start_time": "2025-01-27T19:31:15.922Z"
   },
   {
    "duration": 0,
    "start_time": "2025-01-27T19:31:15.923Z"
   },
   {
    "duration": 64,
    "start_time": "2025-01-27T19:35:55.436Z"
   },
   {
    "duration": 135,
    "start_time": "2025-01-27T19:37:16.269Z"
   },
   {
    "duration": 67,
    "start_time": "2025-01-27T19:37:19.586Z"
   },
   {
    "duration": 154,
    "start_time": "2025-01-27T19:37:24.248Z"
   },
   {
    "duration": 7,
    "start_time": "2025-01-27T19:39:16.057Z"
   },
   {
    "duration": 129,
    "start_time": "2025-01-27T19:39:37.650Z"
   },
   {
    "duration": 6,
    "start_time": "2025-01-27T19:40:31.984Z"
   },
   {
    "duration": 5,
    "start_time": "2025-01-27T19:40:37.229Z"
   },
   {
    "duration": 26,
    "start_time": "2025-01-27T19:40:39.009Z"
   },
   {
    "duration": 3,
    "start_time": "2025-01-27T19:40:42.332Z"
   },
   {
    "duration": 2,
    "start_time": "2025-01-27T19:40:44.959Z"
   },
   {
    "duration": 8,
    "start_time": "2025-01-27T19:40:47.922Z"
   },
   {
    "duration": 3,
    "start_time": "2025-01-27T19:40:49.657Z"
   },
   {
    "duration": 653,
    "start_time": "2025-01-27T19:40:52.428Z"
   },
   {
    "duration": 1048,
    "start_time": "2025-01-27T19:41:27.598Z"
   },
   {
    "duration": 407,
    "start_time": "2025-01-27T19:41:28.648Z"
   },
   {
    "duration": 163,
    "start_time": "2025-01-27T19:41:29.057Z"
   },
   {
    "duration": 25,
    "start_time": "2025-01-27T19:41:29.222Z"
   },
   {
    "duration": 245,
    "start_time": "2025-01-27T19:41:29.248Z"
   },
   {
    "duration": 287,
    "start_time": "2025-01-27T19:41:29.495Z"
   },
   {
    "duration": 505,
    "start_time": "2025-01-27T19:41:29.784Z"
   },
   {
    "duration": 67,
    "start_time": "2025-01-27T19:41:30.291Z"
   },
   {
    "duration": 145,
    "start_time": "2025-01-27T19:41:30.361Z"
   },
   {
    "duration": 72,
    "start_time": "2025-01-27T19:41:30.509Z"
   },
   {
    "duration": 180,
    "start_time": "2025-01-27T19:41:30.582Z"
   },
   {
    "duration": 6,
    "start_time": "2025-01-27T19:41:30.764Z"
   },
   {
    "duration": 21,
    "start_time": "2025-01-27T19:41:30.771Z"
   },
   {
    "duration": 17,
    "start_time": "2025-01-27T19:41:30.793Z"
   },
   {
    "duration": 0,
    "start_time": "2025-01-27T19:41:30.812Z"
   },
   {
    "duration": 0,
    "start_time": "2025-01-27T19:41:30.813Z"
   },
   {
    "duration": 0,
    "start_time": "2025-01-27T19:41:30.814Z"
   },
   {
    "duration": 0,
    "start_time": "2025-01-27T19:41:30.815Z"
   },
   {
    "duration": 0,
    "start_time": "2025-01-27T19:41:30.816Z"
   },
   {
    "duration": 0,
    "start_time": "2025-01-27T19:41:30.817Z"
   },
   {
    "duration": 0,
    "start_time": "2025-01-27T19:41:30.818Z"
   },
   {
    "duration": 3,
    "start_time": "2025-01-27T19:41:45.081Z"
   },
   {
    "duration": 3,
    "start_time": "2025-01-27T19:41:47.969Z"
   },
   {
    "duration": 3,
    "start_time": "2025-01-27T19:41:48.944Z"
   },
   {
    "duration": 3,
    "start_time": "2025-01-27T19:41:50.296Z"
   },
   {
    "duration": 1820,
    "start_time": "2025-01-27T19:41:54.398Z"
   },
   {
    "duration": 10,
    "start_time": "2025-01-27T19:44:58.035Z"
   },
   {
    "duration": 987,
    "start_time": "2025-01-27T19:49:54.351Z"
   },
   {
    "duration": 420,
    "start_time": "2025-01-27T19:49:55.340Z"
   },
   {
    "duration": 159,
    "start_time": "2025-01-27T19:49:55.762Z"
   },
   {
    "duration": 24,
    "start_time": "2025-01-27T19:49:55.923Z"
   },
   {
    "duration": 250,
    "start_time": "2025-01-27T19:49:55.949Z"
   },
   {
    "duration": 268,
    "start_time": "2025-01-27T19:49:56.201Z"
   },
   {
    "duration": 506,
    "start_time": "2025-01-27T19:49:56.471Z"
   },
   {
    "duration": 61,
    "start_time": "2025-01-27T19:49:56.980Z"
   },
   {
    "duration": 18,
    "start_time": "2025-01-27T19:49:57.042Z"
   },
   {
    "duration": 678,
    "start_time": "2025-01-27T19:49:57.063Z"
   },
   {
    "duration": 0,
    "start_time": "2025-01-27T19:49:57.742Z"
   },
   {
    "duration": 0,
    "start_time": "2025-01-27T19:49:57.744Z"
   },
   {
    "duration": 0,
    "start_time": "2025-01-27T19:49:57.745Z"
   },
   {
    "duration": 0,
    "start_time": "2025-01-27T19:49:57.747Z"
   },
   {
    "duration": 0,
    "start_time": "2025-01-27T19:49:57.748Z"
   },
   {
    "duration": 0,
    "start_time": "2025-01-27T19:49:57.750Z"
   },
   {
    "duration": 0,
    "start_time": "2025-01-27T19:49:57.751Z"
   },
   {
    "duration": 0,
    "start_time": "2025-01-27T19:49:57.753Z"
   },
   {
    "duration": 0,
    "start_time": "2025-01-27T19:49:57.754Z"
   },
   {
    "duration": 0,
    "start_time": "2025-01-27T19:49:57.756Z"
   },
   {
    "duration": 0,
    "start_time": "2025-01-27T19:49:57.757Z"
   },
   {
    "duration": 0,
    "start_time": "2025-01-27T19:49:57.759Z"
   },
   {
    "duration": 0,
    "start_time": "2025-01-27T19:49:57.760Z"
   },
   {
    "duration": 46,
    "start_time": "2025-01-27T19:50:49.054Z"
   },
   {
    "duration": 101,
    "start_time": "2025-01-27T19:50:51.895Z"
   },
   {
    "duration": 63,
    "start_time": "2025-01-27T19:50:54.066Z"
   },
   {
    "duration": 143,
    "start_time": "2025-01-27T19:50:56.287Z"
   },
   {
    "duration": 5,
    "start_time": "2025-01-27T19:51:16.730Z"
   },
   {
    "duration": 5,
    "start_time": "2025-01-27T19:51:19.863Z"
   },
   {
    "duration": 21,
    "start_time": "2025-01-27T19:51:20.853Z"
   },
   {
    "duration": 3,
    "start_time": "2025-01-27T19:51:21.617Z"
   },
   {
    "duration": 3,
    "start_time": "2025-01-27T19:51:22.700Z"
   },
   {
    "duration": 3,
    "start_time": "2025-01-27T19:51:23.580Z"
   },
   {
    "duration": 4,
    "start_time": "2025-01-27T19:51:24.380Z"
   },
   {
    "duration": 1787,
    "start_time": "2025-01-27T19:51:24.938Z"
   },
   {
    "duration": 21,
    "start_time": "2025-01-27T19:52:25.507Z"
   },
   {
    "duration": 124,
    "start_time": "2025-01-27T20:00:53.890Z"
   },
   {
    "duration": 95,
    "start_time": "2025-01-27T20:01:24.635Z"
   },
   {
    "duration": 2437,
    "start_time": "2025-01-27T20:01:44.322Z"
   },
   {
    "duration": 7,
    "start_time": "2025-01-27T20:02:43.177Z"
   },
   {
    "duration": 101,
    "start_time": "2025-01-27T20:03:28.458Z"
   },
   {
    "duration": 6,
    "start_time": "2025-01-27T20:04:01.699Z"
   },
   {
    "duration": 257,
    "start_time": "2025-01-27T20:04:10.438Z"
   },
   {
    "duration": 104,
    "start_time": "2025-01-27T20:04:56.667Z"
   },
   {
    "duration": 1006,
    "start_time": "2025-01-27T20:06:22.127Z"
   },
   {
    "duration": 408,
    "start_time": "2025-01-27T20:06:23.134Z"
   },
   {
    "duration": 180,
    "start_time": "2025-01-27T20:06:23.544Z"
   },
   {
    "duration": 25,
    "start_time": "2025-01-27T20:06:23.726Z"
   },
   {
    "duration": 246,
    "start_time": "2025-01-27T20:06:23.755Z"
   },
   {
    "duration": 262,
    "start_time": "2025-01-27T20:06:24.003Z"
   },
   {
    "duration": 518,
    "start_time": "2025-01-27T20:06:24.267Z"
   },
   {
    "duration": 65,
    "start_time": "2025-01-27T20:06:24.788Z"
   },
   {
    "duration": 17,
    "start_time": "2025-01-27T20:06:24.855Z"
   },
   {
    "duration": 54,
    "start_time": "2025-01-27T20:06:24.874Z"
   },
   {
    "duration": 111,
    "start_time": "2025-01-27T20:06:24.930Z"
   },
   {
    "duration": 67,
    "start_time": "2025-01-27T20:06:25.042Z"
   },
   {
    "duration": 149,
    "start_time": "2025-01-27T20:06:25.111Z"
   },
   {
    "duration": 7,
    "start_time": "2025-01-27T20:06:25.263Z"
   },
   {
    "duration": 2,
    "start_time": "2025-01-27T20:06:25.272Z"
   },
   {
    "duration": 6,
    "start_time": "2025-01-27T20:06:25.275Z"
   },
   {
    "duration": 39,
    "start_time": "2025-01-27T20:06:25.283Z"
   },
   {
    "duration": 3,
    "start_time": "2025-01-27T20:06:25.324Z"
   },
   {
    "duration": 3,
    "start_time": "2025-01-27T20:06:25.329Z"
   },
   {
    "duration": 2,
    "start_time": "2025-01-27T20:06:25.334Z"
   },
   {
    "duration": 3,
    "start_time": "2025-01-27T20:06:25.338Z"
   },
   {
    "duration": 4,
    "start_time": "2025-01-27T20:06:25.343Z"
   },
   {
    "duration": 0,
    "start_time": "2025-01-27T20:06:25.348Z"
   },
   {
    "duration": 0,
    "start_time": "2025-01-27T20:06:25.350Z"
   },
   {
    "duration": 0,
    "start_time": "2025-01-27T20:06:25.351Z"
   },
   {
    "duration": 573,
    "start_time": "2025-01-27T20:06:32.736Z"
   },
   {
    "duration": 128,
    "start_time": "2025-01-27T20:07:30.692Z"
   },
   {
    "duration": 954,
    "start_time": "2025-01-27T20:07:51.664Z"
   },
   {
    "duration": 408,
    "start_time": "2025-01-27T20:07:52.621Z"
   },
   {
    "duration": 157,
    "start_time": "2025-01-27T20:07:53.031Z"
   },
   {
    "duration": 44,
    "start_time": "2025-01-27T20:07:53.191Z"
   },
   {
    "duration": 232,
    "start_time": "2025-01-27T20:07:53.238Z"
   },
   {
    "duration": 263,
    "start_time": "2025-01-27T20:07:53.471Z"
   },
   {
    "duration": 471,
    "start_time": "2025-01-27T20:07:53.735Z"
   },
   {
    "duration": 75,
    "start_time": "2025-01-27T20:07:54.208Z"
   },
   {
    "duration": 28,
    "start_time": "2025-01-27T20:07:54.288Z"
   },
   {
    "duration": 61,
    "start_time": "2025-01-27T20:07:54.318Z"
   },
   {
    "duration": 119,
    "start_time": "2025-01-27T20:07:54.381Z"
   },
   {
    "duration": 82,
    "start_time": "2025-01-27T20:07:54.503Z"
   },
   {
    "duration": 144,
    "start_time": "2025-01-27T20:07:54.587Z"
   },
   {
    "duration": 7,
    "start_time": "2025-01-27T20:07:54.735Z"
   },
   {
    "duration": 132,
    "start_time": "2025-01-27T20:07:54.744Z"
   },
   {
    "duration": 5,
    "start_time": "2025-01-27T20:07:54.878Z"
   },
   {
    "duration": 31,
    "start_time": "2025-01-27T20:07:54.884Z"
   },
   {
    "duration": 3,
    "start_time": "2025-01-27T20:07:54.917Z"
   },
   {
    "duration": 3,
    "start_time": "2025-01-27T20:07:54.921Z"
   },
   {
    "duration": 3,
    "start_time": "2025-01-27T20:07:54.926Z"
   },
   {
    "duration": 3,
    "start_time": "2025-01-27T20:07:54.930Z"
   },
   {
    "duration": 1789,
    "start_time": "2025-01-27T20:07:54.935Z"
   },
   {
    "duration": 3,
    "start_time": "2025-01-27T20:07:56.726Z"
   },
   {
    "duration": 0,
    "start_time": "2025-01-27T20:07:56.731Z"
   },
   {
    "duration": 0,
    "start_time": "2025-01-27T20:07:56.732Z"
   },
   {
    "duration": 957,
    "start_time": "2025-01-27T20:08:22.594Z"
   },
   {
    "duration": 402,
    "start_time": "2025-01-27T20:08:23.555Z"
   },
   {
    "duration": 155,
    "start_time": "2025-01-27T20:08:23.959Z"
   },
   {
    "duration": 24,
    "start_time": "2025-01-27T20:08:24.116Z"
   },
   {
    "duration": 242,
    "start_time": "2025-01-27T20:08:24.142Z"
   },
   {
    "duration": 283,
    "start_time": "2025-01-27T20:08:24.385Z"
   },
   {
    "duration": 505,
    "start_time": "2025-01-27T20:08:24.670Z"
   },
   {
    "duration": 61,
    "start_time": "2025-01-27T20:08:25.176Z"
   },
   {
    "duration": 18,
    "start_time": "2025-01-27T20:08:25.239Z"
   },
   {
    "duration": 52,
    "start_time": "2025-01-27T20:08:25.258Z"
   },
   {
    "duration": 112,
    "start_time": "2025-01-27T20:08:25.312Z"
   },
   {
    "duration": 57,
    "start_time": "2025-01-27T20:08:25.425Z"
   },
   {
    "duration": 172,
    "start_time": "2025-01-27T20:08:25.483Z"
   },
   {
    "duration": 7,
    "start_time": "2025-01-27T20:08:25.659Z"
   },
   {
    "duration": 132,
    "start_time": "2025-01-27T20:08:25.668Z"
   },
   {
    "duration": 9,
    "start_time": "2025-01-27T20:08:25.802Z"
   },
   {
    "duration": 17,
    "start_time": "2025-01-27T20:08:25.813Z"
   },
   {
    "duration": 2,
    "start_time": "2025-01-27T20:08:25.832Z"
   },
   {
    "duration": 2,
    "start_time": "2025-01-27T20:08:25.836Z"
   },
   {
    "duration": 3,
    "start_time": "2025-01-27T20:08:25.840Z"
   },
   {
    "duration": 2,
    "start_time": "2025-01-27T20:08:25.845Z"
   },
   {
    "duration": 1168,
    "start_time": "2025-01-27T20:08:25.849Z"
   },
   {
    "duration": 4,
    "start_time": "2025-01-27T20:08:27.019Z"
   },
   {
    "duration": 0,
    "start_time": "2025-01-27T20:08:27.025Z"
   },
   {
    "duration": 0,
    "start_time": "2025-01-27T20:08:27.026Z"
   },
   {
    "duration": 242,
    "start_time": "2025-01-27T20:08:50.998Z"
   },
   {
    "duration": 1003,
    "start_time": "2025-01-27T20:09:37.321Z"
   },
   {
    "duration": 407,
    "start_time": "2025-01-27T20:09:38.327Z"
   },
   {
    "duration": 158,
    "start_time": "2025-01-27T20:09:38.735Z"
   },
   {
    "duration": 28,
    "start_time": "2025-01-27T20:09:38.894Z"
   },
   {
    "duration": 232,
    "start_time": "2025-01-27T20:09:38.925Z"
   },
   {
    "duration": 266,
    "start_time": "2025-01-27T20:09:39.159Z"
   },
   {
    "duration": 495,
    "start_time": "2025-01-27T20:09:39.427Z"
   },
   {
    "duration": 64,
    "start_time": "2025-01-27T20:09:39.924Z"
   },
   {
    "duration": 17,
    "start_time": "2025-01-27T20:09:39.990Z"
   },
   {
    "duration": 42,
    "start_time": "2025-01-27T20:09:40.009Z"
   },
   {
    "duration": 107,
    "start_time": "2025-01-27T20:09:40.053Z"
   },
   {
    "duration": 64,
    "start_time": "2025-01-27T20:09:40.162Z"
   },
   {
    "duration": 145,
    "start_time": "2025-01-27T20:09:40.228Z"
   },
   {
    "duration": 6,
    "start_time": "2025-01-27T20:09:40.377Z"
   },
   {
    "duration": 261,
    "start_time": "2025-01-27T20:09:40.386Z"
   },
   {
    "duration": 5,
    "start_time": "2025-01-27T20:09:40.649Z"
   },
   {
    "duration": 18,
    "start_time": "2025-01-27T20:09:40.655Z"
   },
   {
    "duration": 3,
    "start_time": "2025-01-27T20:09:40.674Z"
   },
   {
    "duration": 3,
    "start_time": "2025-01-27T20:09:40.678Z"
   },
   {
    "duration": 27,
    "start_time": "2025-01-27T20:09:40.683Z"
   },
   {
    "duration": 4,
    "start_time": "2025-01-27T20:09:40.711Z"
   },
   {
    "duration": 1791,
    "start_time": "2025-01-27T20:09:40.718Z"
   },
   {
    "duration": 4,
    "start_time": "2025-01-27T20:09:42.511Z"
   },
   {
    "duration": 1,
    "start_time": "2025-01-27T20:09:42.516Z"
   },
   {
    "duration": 0,
    "start_time": "2025-01-27T20:09:42.518Z"
   },
   {
    "duration": 1022,
    "start_time": "2025-01-27T20:17:35.216Z"
   },
   {
    "duration": 432,
    "start_time": "2025-01-27T20:17:36.241Z"
   },
   {
    "duration": 164,
    "start_time": "2025-01-27T20:17:36.675Z"
   },
   {
    "duration": 25,
    "start_time": "2025-01-27T20:17:36.840Z"
   },
   {
    "duration": 251,
    "start_time": "2025-01-27T20:17:36.868Z"
   },
   {
    "duration": 297,
    "start_time": "2025-01-27T20:17:37.120Z"
   },
   {
    "duration": 498,
    "start_time": "2025-01-27T20:17:37.419Z"
   },
   {
    "duration": 59,
    "start_time": "2025-01-27T20:17:37.919Z"
   },
   {
    "duration": 18,
    "start_time": "2025-01-27T20:17:37.980Z"
   },
   {
    "duration": 58,
    "start_time": "2025-01-27T20:17:38.000Z"
   },
   {
    "duration": 72,
    "start_time": "2025-01-27T20:17:38.062Z"
   },
   {
    "duration": 5,
    "start_time": "2025-01-27T20:17:38.136Z"
   },
   {
    "duration": 4,
    "start_time": "2025-01-27T20:17:38.143Z"
   },
   {
    "duration": 34,
    "start_time": "2025-01-27T20:17:38.151Z"
   },
   {
    "duration": 3,
    "start_time": "2025-01-27T20:17:38.208Z"
   },
   {
    "duration": 228,
    "start_time": "2025-01-27T20:17:38.213Z"
   },
   {
    "duration": 4,
    "start_time": "2025-01-27T20:17:38.443Z"
   },
   {
    "duration": 6,
    "start_time": "2025-01-27T20:17:38.448Z"
   },
   {
    "duration": 3,
    "start_time": "2025-01-27T20:17:38.456Z"
   },
   {
    "duration": 3,
    "start_time": "2025-01-27T20:17:38.460Z"
   },
   {
    "duration": 3,
    "start_time": "2025-01-27T20:17:38.464Z"
   },
   {
    "duration": 4,
    "start_time": "2025-01-27T20:17:38.469Z"
   },
   {
    "duration": 55,
    "start_time": "2025-01-27T20:17:38.474Z"
   },
   {
    "duration": 3,
    "start_time": "2025-01-27T20:17:38.531Z"
   },
   {
    "duration": 0,
    "start_time": "2025-01-27T20:17:38.536Z"
   },
   {
    "duration": 0,
    "start_time": "2025-01-27T20:17:38.537Z"
   },
   {
    "duration": 1037,
    "start_time": "2025-01-27T20:19:24.681Z"
   },
   {
    "duration": 414,
    "start_time": "2025-01-27T20:19:25.720Z"
   },
   {
    "duration": 155,
    "start_time": "2025-01-27T20:19:26.136Z"
   },
   {
    "duration": 36,
    "start_time": "2025-01-27T20:19:26.293Z"
   },
   {
    "duration": 231,
    "start_time": "2025-01-27T20:19:26.331Z"
   },
   {
    "duration": 280,
    "start_time": "2025-01-27T20:19:26.564Z"
   },
   {
    "duration": 528,
    "start_time": "2025-01-27T20:19:26.846Z"
   },
   {
    "duration": 62,
    "start_time": "2025-01-27T20:19:27.376Z"
   },
   {
    "duration": 17,
    "start_time": "2025-01-27T20:19:27.440Z"
   },
   {
    "duration": 67,
    "start_time": "2025-01-27T20:19:27.459Z"
   },
   {
    "duration": 107,
    "start_time": "2025-01-27T20:19:27.527Z"
   },
   {
    "duration": 57,
    "start_time": "2025-01-27T20:19:27.637Z"
   },
   {
    "duration": 175,
    "start_time": "2025-01-27T20:19:27.696Z"
   },
   {
    "duration": 7,
    "start_time": "2025-01-27T20:19:27.876Z"
   },
   {
    "duration": 280,
    "start_time": "2025-01-27T20:19:27.884Z"
   },
   {
    "duration": 6,
    "start_time": "2025-01-27T20:19:28.168Z"
   },
   {
    "duration": 20,
    "start_time": "2025-01-27T20:19:28.175Z"
   },
   {
    "duration": 5,
    "start_time": "2025-01-27T20:19:28.208Z"
   },
   {
    "duration": 3,
    "start_time": "2025-01-27T20:19:28.214Z"
   },
   {
    "duration": 3,
    "start_time": "2025-01-27T20:19:28.218Z"
   },
   {
    "duration": 2,
    "start_time": "2025-01-27T20:19:28.223Z"
   },
   {
    "duration": 1801,
    "start_time": "2025-01-27T20:19:28.227Z"
   },
   {
    "duration": 4,
    "start_time": "2025-01-27T20:19:30.030Z"
   },
   {
    "duration": 0,
    "start_time": "2025-01-27T20:19:30.035Z"
   },
   {
    "duration": 0,
    "start_time": "2025-01-27T20:19:30.109Z"
   },
   {
    "duration": 19,
    "start_time": "2025-01-27T20:30:38.292Z"
   },
   {
    "duration": 1028,
    "start_time": "2025-01-27T20:30:44.773Z"
   },
   {
    "duration": 410,
    "start_time": "2025-01-27T20:30:45.803Z"
   },
   {
    "duration": 165,
    "start_time": "2025-01-27T20:30:46.215Z"
   },
   {
    "duration": 42,
    "start_time": "2025-01-27T20:30:46.383Z"
   },
   {
    "duration": 265,
    "start_time": "2025-01-27T20:30:46.428Z"
   },
   {
    "duration": 267,
    "start_time": "2025-01-27T20:30:46.695Z"
   },
   {
    "duration": 560,
    "start_time": "2025-01-27T20:30:46.964Z"
   },
   {
    "duration": 57,
    "start_time": "2025-01-27T20:30:47.526Z"
   },
   {
    "duration": 18,
    "start_time": "2025-01-27T20:30:47.585Z"
   },
   {
    "duration": 60,
    "start_time": "2025-01-27T20:30:47.606Z"
   },
   {
    "duration": 43,
    "start_time": "2025-01-27T20:30:47.670Z"
   },
   {
    "duration": 111,
    "start_time": "2025-01-27T20:30:47.715Z"
   },
   {
    "duration": 55,
    "start_time": "2025-01-27T20:30:47.828Z"
   },
   {
    "duration": 161,
    "start_time": "2025-01-27T20:30:47.885Z"
   },
   {
    "duration": 7,
    "start_time": "2025-01-27T20:30:48.048Z"
   },
   {
    "duration": 265,
    "start_time": "2025-01-27T20:30:48.056Z"
   },
   {
    "duration": 5,
    "start_time": "2025-01-27T20:30:48.323Z"
   },
   {
    "duration": 21,
    "start_time": "2025-01-27T20:30:48.330Z"
   },
   {
    "duration": 3,
    "start_time": "2025-01-27T20:30:48.353Z"
   },
   {
    "duration": 2,
    "start_time": "2025-01-27T20:30:48.358Z"
   },
   {
    "duration": 3,
    "start_time": "2025-01-27T20:30:48.362Z"
   },
   {
    "duration": 4,
    "start_time": "2025-01-27T20:30:48.367Z"
   },
   {
    "duration": 1745,
    "start_time": "2025-01-27T20:30:48.372Z"
   },
   {
    "duration": 3,
    "start_time": "2025-01-27T20:30:50.119Z"
   },
   {
    "duration": 0,
    "start_time": "2025-01-27T20:30:50.124Z"
   },
   {
    "duration": 0,
    "start_time": "2025-01-27T20:30:50.125Z"
   },
   {
    "duration": 18,
    "start_time": "2025-01-27T20:34:12.089Z"
   },
   {
    "duration": 1027,
    "start_time": "2025-01-27T20:34:22.436Z"
   },
   {
    "duration": 417,
    "start_time": "2025-01-27T20:34:23.465Z"
   },
   {
    "duration": 171,
    "start_time": "2025-01-27T20:34:23.885Z"
   },
   {
    "duration": 28,
    "start_time": "2025-01-27T20:34:24.057Z"
   },
   {
    "duration": 258,
    "start_time": "2025-01-27T20:34:24.088Z"
   },
   {
    "duration": 286,
    "start_time": "2025-01-27T20:34:24.348Z"
   },
   {
    "duration": 485,
    "start_time": "2025-01-27T20:34:24.636Z"
   },
   {
    "duration": 66,
    "start_time": "2025-01-27T20:34:25.124Z"
   },
   {
    "duration": 17,
    "start_time": "2025-01-27T20:34:25.193Z"
   },
   {
    "duration": 48,
    "start_time": "2025-01-27T20:34:25.212Z"
   },
   {
    "duration": 56,
    "start_time": "2025-01-27T20:34:25.262Z"
   },
   {
    "duration": 3,
    "start_time": "2025-01-27T20:34:25.320Z"
   },
   {
    "duration": 4,
    "start_time": "2025-01-27T20:34:25.325Z"
   },
   {
    "duration": 359,
    "start_time": "2025-01-27T20:34:25.333Z"
   },
   {
    "duration": 0,
    "start_time": "2025-01-27T20:34:25.694Z"
   },
   {
    "duration": 0,
    "start_time": "2025-01-27T20:34:25.695Z"
   },
   {
    "duration": 0,
    "start_time": "2025-01-27T20:34:25.696Z"
   },
   {
    "duration": 0,
    "start_time": "2025-01-27T20:34:25.697Z"
   },
   {
    "duration": 0,
    "start_time": "2025-01-27T20:34:25.698Z"
   },
   {
    "duration": 0,
    "start_time": "2025-01-27T20:34:25.698Z"
   },
   {
    "duration": 0,
    "start_time": "2025-01-27T20:34:25.699Z"
   },
   {
    "duration": 0,
    "start_time": "2025-01-27T20:34:25.699Z"
   },
   {
    "duration": 0,
    "start_time": "2025-01-27T20:34:25.708Z"
   },
   {
    "duration": 0,
    "start_time": "2025-01-27T20:34:25.710Z"
   },
   {
    "duration": 1,
    "start_time": "2025-01-27T20:34:25.711Z"
   },
   {
    "duration": 0,
    "start_time": "2025-01-27T20:34:25.713Z"
   },
   {
    "duration": 1078,
    "start_time": "2025-01-27T20:35:07.261Z"
   },
   {
    "duration": 413,
    "start_time": "2025-01-27T20:35:08.342Z"
   },
   {
    "duration": 160,
    "start_time": "2025-01-27T20:35:08.757Z"
   },
   {
    "duration": 25,
    "start_time": "2025-01-27T20:35:08.921Z"
   },
   {
    "duration": 253,
    "start_time": "2025-01-27T20:35:08.948Z"
   },
   {
    "duration": 272,
    "start_time": "2025-01-27T20:35:09.203Z"
   },
   {
    "duration": 548,
    "start_time": "2025-01-27T20:35:09.477Z"
   },
   {
    "duration": 59,
    "start_time": "2025-01-27T20:35:10.028Z"
   },
   {
    "duration": 18,
    "start_time": "2025-01-27T20:35:10.089Z"
   },
   {
    "duration": 49,
    "start_time": "2025-01-27T20:35:10.111Z"
   },
   {
    "duration": 74,
    "start_time": "2025-01-27T20:35:10.163Z"
   },
   {
    "duration": 4,
    "start_time": "2025-01-27T20:35:10.239Z"
   },
   {
    "duration": 4,
    "start_time": "2025-01-27T20:35:10.244Z"
   },
   {
    "duration": 32,
    "start_time": "2025-01-27T20:35:10.250Z"
   },
   {
    "duration": 26,
    "start_time": "2025-01-27T20:35:10.283Z"
   },
   {
    "duration": 152,
    "start_time": "2025-01-27T20:35:10.311Z"
   },
   {
    "duration": 3,
    "start_time": "2025-01-27T20:35:10.465Z"
   },
   {
    "duration": 6,
    "start_time": "2025-01-27T20:35:10.470Z"
   },
   {
    "duration": 3,
    "start_time": "2025-01-27T20:35:10.477Z"
   },
   {
    "duration": 3,
    "start_time": "2025-01-27T20:35:10.482Z"
   },
   {
    "duration": 23,
    "start_time": "2025-01-27T20:35:10.487Z"
   },
   {
    "duration": 3,
    "start_time": "2025-01-27T20:35:10.512Z"
   },
   {
    "duration": 18,
    "start_time": "2025-01-27T20:35:10.516Z"
   },
   {
    "duration": 4,
    "start_time": "2025-01-27T20:35:10.535Z"
   },
   {
    "duration": 0,
    "start_time": "2025-01-27T20:35:10.540Z"
   },
   {
    "duration": 0,
    "start_time": "2025-01-27T20:35:10.542Z"
   },
   {
    "duration": 983,
    "start_time": "2025-01-27T20:36:20.791Z"
   },
   {
    "duration": 406,
    "start_time": "2025-01-27T20:36:21.778Z"
   },
   {
    "duration": 160,
    "start_time": "2025-01-27T20:36:22.186Z"
   },
   {
    "duration": 28,
    "start_time": "2025-01-27T20:36:22.348Z"
   },
   {
    "duration": 230,
    "start_time": "2025-01-27T20:36:22.379Z"
   },
   {
    "duration": 273,
    "start_time": "2025-01-27T20:36:22.611Z"
   },
   {
    "duration": 511,
    "start_time": "2025-01-27T20:36:22.886Z"
   },
   {
    "duration": 58,
    "start_time": "2025-01-27T20:36:23.399Z"
   },
   {
    "duration": 17,
    "start_time": "2025-01-27T20:36:23.459Z"
   },
   {
    "duration": 51,
    "start_time": "2025-01-27T20:36:23.478Z"
   },
   {
    "duration": 47,
    "start_time": "2025-01-27T20:36:23.532Z"
   },
   {
    "duration": 87,
    "start_time": "2025-01-27T20:36:23.581Z"
   },
   {
    "duration": 48,
    "start_time": "2025-01-27T20:36:23.670Z"
   },
   {
    "duration": 130,
    "start_time": "2025-01-27T20:36:23.722Z"
   },
   {
    "duration": 6,
    "start_time": "2025-01-27T20:36:23.854Z"
   },
   {
    "duration": 265,
    "start_time": "2025-01-27T20:36:23.862Z"
   },
   {
    "duration": 5,
    "start_time": "2025-01-27T20:36:24.129Z"
   },
   {
    "duration": 16,
    "start_time": "2025-01-27T20:36:24.136Z"
   },
   {
    "duration": 2,
    "start_time": "2025-01-27T20:36:24.154Z"
   },
   {
    "duration": 3,
    "start_time": "2025-01-27T20:36:24.158Z"
   },
   {
    "duration": 3,
    "start_time": "2025-01-27T20:36:24.163Z"
   },
   {
    "duration": 3,
    "start_time": "2025-01-27T20:36:24.168Z"
   },
   {
    "duration": 1555,
    "start_time": "2025-01-27T20:36:24.173Z"
   },
   {
    "duration": 3,
    "start_time": "2025-01-27T20:36:25.731Z"
   },
   {
    "duration": 0,
    "start_time": "2025-01-27T20:36:25.810Z"
   },
   {
    "duration": 0,
    "start_time": "2025-01-27T20:36:25.811Z"
   },
   {
    "duration": 1046,
    "start_time": "2025-01-27T20:43:25.916Z"
   },
   {
    "duration": 430,
    "start_time": "2025-01-27T20:43:26.965Z"
   },
   {
    "duration": 159,
    "start_time": "2025-01-27T20:43:27.397Z"
   },
   {
    "duration": 25,
    "start_time": "2025-01-27T20:43:27.557Z"
   },
   {
    "duration": 259,
    "start_time": "2025-01-27T20:43:27.584Z"
   },
   {
    "duration": 273,
    "start_time": "2025-01-27T20:43:27.845Z"
   },
   {
    "duration": 493,
    "start_time": "2025-01-27T20:43:28.121Z"
   },
   {
    "duration": 71,
    "start_time": "2025-01-27T20:43:28.616Z"
   },
   {
    "duration": 22,
    "start_time": "2025-01-27T20:43:28.689Z"
   },
   {
    "duration": 50,
    "start_time": "2025-01-27T20:43:28.712Z"
   },
   {
    "duration": 68,
    "start_time": "2025-01-27T20:43:28.764Z"
   },
   {
    "duration": 90,
    "start_time": "2025-01-27T20:43:28.834Z"
   },
   {
    "duration": 45,
    "start_time": "2025-01-27T20:43:28.927Z"
   },
   {
    "duration": 140,
    "start_time": "2025-01-27T20:43:28.975Z"
   },
   {
    "duration": 6,
    "start_time": "2025-01-27T20:43:29.117Z"
   },
   {
    "duration": 268,
    "start_time": "2025-01-27T20:43:29.125Z"
   },
   {
    "duration": 5,
    "start_time": "2025-01-27T20:43:29.395Z"
   },
   {
    "duration": 19,
    "start_time": "2025-01-27T20:43:29.410Z"
   },
   {
    "duration": 3,
    "start_time": "2025-01-27T20:43:29.430Z"
   },
   {
    "duration": 3,
    "start_time": "2025-01-27T20:43:29.434Z"
   },
   {
    "duration": 3,
    "start_time": "2025-01-27T20:43:29.439Z"
   },
   {
    "duration": 4,
    "start_time": "2025-01-27T20:43:29.443Z"
   },
   {
    "duration": 1364,
    "start_time": "2025-01-27T20:43:29.449Z"
   },
   {
    "duration": 4,
    "start_time": "2025-01-27T20:43:30.815Z"
   },
   {
    "duration": 0,
    "start_time": "2025-01-27T20:43:30.821Z"
   },
   {
    "duration": 0,
    "start_time": "2025-01-27T20:43:30.822Z"
   },
   {
    "duration": 120,
    "start_time": "2025-01-27T20:47:18.134Z"
   },
   {
    "duration": 91,
    "start_time": "2025-01-27T20:47:33.648Z"
   },
   {
    "duration": 99,
    "start_time": "2025-01-27T20:47:51.055Z"
   },
   {
    "duration": 247,
    "start_time": "2025-01-27T20:48:19.915Z"
   },
   {
    "duration": 998,
    "start_time": "2025-01-27T20:49:07.267Z"
   },
   {
    "duration": 401,
    "start_time": "2025-01-27T20:49:08.267Z"
   },
   {
    "duration": 169,
    "start_time": "2025-01-27T20:49:08.669Z"
   },
   {
    "duration": 24,
    "start_time": "2025-01-27T20:49:08.840Z"
   },
   {
    "duration": 253,
    "start_time": "2025-01-27T20:49:08.867Z"
   },
   {
    "duration": 260,
    "start_time": "2025-01-27T20:49:09.122Z"
   },
   {
    "duration": 501,
    "start_time": "2025-01-27T20:49:09.384Z"
   },
   {
    "duration": 60,
    "start_time": "2025-01-27T20:49:09.887Z"
   },
   {
    "duration": 18,
    "start_time": "2025-01-27T20:49:09.949Z"
   },
   {
    "duration": 63,
    "start_time": "2025-01-27T20:49:09.970Z"
   },
   {
    "duration": 46,
    "start_time": "2025-01-27T20:49:10.035Z"
   },
   {
    "duration": 88,
    "start_time": "2025-01-27T20:49:10.083Z"
   },
   {
    "duration": 47,
    "start_time": "2025-01-27T20:49:10.173Z"
   },
   {
    "duration": 135,
    "start_time": "2025-01-27T20:49:10.224Z"
   },
   {
    "duration": 4,
    "start_time": "2025-01-27T20:49:10.361Z"
   },
   {
    "duration": 271,
    "start_time": "2025-01-27T20:49:10.367Z"
   },
   {
    "duration": 5,
    "start_time": "2025-01-27T20:49:10.640Z"
   },
   {
    "duration": 17,
    "start_time": "2025-01-27T20:49:10.646Z"
   },
   {
    "duration": 2,
    "start_time": "2025-01-27T20:49:10.665Z"
   },
   {
    "duration": 2,
    "start_time": "2025-01-27T20:49:10.669Z"
   },
   {
    "duration": 3,
    "start_time": "2025-01-27T20:49:10.673Z"
   },
   {
    "duration": 3,
    "start_time": "2025-01-27T20:49:10.677Z"
   },
   {
    "duration": 815,
    "start_time": "2025-01-27T20:49:10.708Z"
   },
   {
    "duration": 4,
    "start_time": "2025-01-27T20:49:11.525Z"
   },
   {
    "duration": 0,
    "start_time": "2025-01-27T20:49:11.530Z"
   },
   {
    "duration": 0,
    "start_time": "2025-01-27T20:49:11.532Z"
   },
   {
    "duration": 992,
    "start_time": "2025-01-27T20:50:11.626Z"
   },
   {
    "duration": 411,
    "start_time": "2025-01-27T20:50:12.621Z"
   },
   {
    "duration": 156,
    "start_time": "2025-01-27T20:50:13.033Z"
   },
   {
    "duration": 32,
    "start_time": "2025-01-27T20:50:13.191Z"
   },
   {
    "duration": 254,
    "start_time": "2025-01-27T20:50:13.225Z"
   },
   {
    "duration": 266,
    "start_time": "2025-01-27T20:50:13.481Z"
   },
   {
    "duration": 493,
    "start_time": "2025-01-27T20:50:13.749Z"
   },
   {
    "duration": 61,
    "start_time": "2025-01-27T20:50:14.243Z"
   },
   {
    "duration": 18,
    "start_time": "2025-01-27T20:50:14.306Z"
   },
   {
    "duration": 48,
    "start_time": "2025-01-27T20:50:14.325Z"
   },
   {
    "duration": 68,
    "start_time": "2025-01-27T20:50:14.375Z"
   },
   {
    "duration": 81,
    "start_time": "2025-01-27T20:50:14.445Z"
   },
   {
    "duration": 40,
    "start_time": "2025-01-27T20:50:14.528Z"
   },
   {
    "duration": 137,
    "start_time": "2025-01-27T20:50:14.573Z"
   },
   {
    "duration": 5,
    "start_time": "2025-01-27T20:50:14.711Z"
   },
   {
    "duration": 263,
    "start_time": "2025-01-27T20:50:14.717Z"
   },
   {
    "duration": 4,
    "start_time": "2025-01-27T20:50:14.982Z"
   },
   {
    "duration": 24,
    "start_time": "2025-01-27T20:50:14.988Z"
   },
   {
    "duration": 3,
    "start_time": "2025-01-27T20:50:15.013Z"
   },
   {
    "duration": 3,
    "start_time": "2025-01-27T20:50:15.017Z"
   },
   {
    "duration": 2,
    "start_time": "2025-01-27T20:50:15.022Z"
   },
   {
    "duration": 4,
    "start_time": "2025-01-27T20:50:15.026Z"
   },
   {
    "duration": 582,
    "start_time": "2025-01-27T20:50:15.031Z"
   },
   {
    "duration": 3,
    "start_time": "2025-01-27T20:50:15.615Z"
   },
   {
    "duration": 0,
    "start_time": "2025-01-27T20:50:15.620Z"
   },
   {
    "duration": 0,
    "start_time": "2025-01-27T20:50:15.622Z"
   },
   {
    "duration": 1019,
    "start_time": "2025-01-27T20:50:50.787Z"
   },
   {
    "duration": 410,
    "start_time": "2025-01-27T20:50:51.808Z"
   },
   {
    "duration": 158,
    "start_time": "2025-01-27T20:50:52.219Z"
   },
   {
    "duration": 33,
    "start_time": "2025-01-27T20:50:52.379Z"
   },
   {
    "duration": 244,
    "start_time": "2025-01-27T20:50:52.414Z"
   },
   {
    "duration": 266,
    "start_time": "2025-01-27T20:50:52.660Z"
   },
   {
    "duration": 485,
    "start_time": "2025-01-27T20:50:52.928Z"
   },
   {
    "duration": 61,
    "start_time": "2025-01-27T20:50:53.415Z"
   },
   {
    "duration": 17,
    "start_time": "2025-01-27T20:50:53.478Z"
   },
   {
    "duration": 48,
    "start_time": "2025-01-27T20:50:53.509Z"
   },
   {
    "duration": 58,
    "start_time": "2025-01-27T20:50:53.559Z"
   },
   {
    "duration": 75,
    "start_time": "2025-01-27T20:50:53.619Z"
   },
   {
    "duration": 49,
    "start_time": "2025-01-27T20:50:53.696Z"
   },
   {
    "duration": 136,
    "start_time": "2025-01-27T20:50:53.747Z"
   },
   {
    "duration": 2,
    "start_time": "2025-01-27T20:50:53.885Z"
   },
   {
    "duration": 259,
    "start_time": "2025-01-27T20:50:53.889Z"
   },
   {
    "duration": 4,
    "start_time": "2025-01-27T20:50:54.150Z"
   },
   {
    "duration": 16,
    "start_time": "2025-01-27T20:50:54.156Z"
   },
   {
    "duration": 3,
    "start_time": "2025-01-27T20:50:54.174Z"
   },
   {
    "duration": 3,
    "start_time": "2025-01-27T20:50:54.178Z"
   },
   {
    "duration": 3,
    "start_time": "2025-01-27T20:50:54.183Z"
   },
   {
    "duration": 25,
    "start_time": "2025-01-27T20:50:54.187Z"
   },
   {
    "duration": 504,
    "start_time": "2025-01-27T20:50:54.215Z"
   },
   {
    "duration": 3,
    "start_time": "2025-01-27T20:50:54.722Z"
   },
   {
    "duration": 0,
    "start_time": "2025-01-27T20:50:54.727Z"
   },
   {
    "duration": 0,
    "start_time": "2025-01-27T20:50:54.728Z"
   },
   {
    "duration": 971,
    "start_time": "2025-01-27T20:51:14.696Z"
   },
   {
    "duration": 406,
    "start_time": "2025-01-27T20:51:15.669Z"
   },
   {
    "duration": 164,
    "start_time": "2025-01-27T20:51:16.077Z"
   },
   {
    "duration": 26,
    "start_time": "2025-01-27T20:51:16.242Z"
   },
   {
    "duration": 245,
    "start_time": "2025-01-27T20:51:16.271Z"
   },
   {
    "duration": 266,
    "start_time": "2025-01-27T20:51:16.517Z"
   },
   {
    "duration": 536,
    "start_time": "2025-01-27T20:51:16.785Z"
   },
   {
    "duration": 63,
    "start_time": "2025-01-27T20:51:17.324Z"
   },
   {
    "duration": 18,
    "start_time": "2025-01-27T20:51:17.388Z"
   },
   {
    "duration": 49,
    "start_time": "2025-01-27T20:51:17.407Z"
   },
   {
    "duration": 55,
    "start_time": "2025-01-27T20:51:17.458Z"
   },
   {
    "duration": 79,
    "start_time": "2025-01-27T20:51:17.515Z"
   },
   {
    "duration": 52,
    "start_time": "2025-01-27T20:51:17.596Z"
   },
   {
    "duration": 136,
    "start_time": "2025-01-27T20:51:17.651Z"
   },
   {
    "duration": 2,
    "start_time": "2025-01-27T20:51:17.789Z"
   },
   {
    "duration": 267,
    "start_time": "2025-01-27T20:51:17.793Z"
   },
   {
    "duration": 5,
    "start_time": "2025-01-27T20:51:18.062Z"
   },
   {
    "duration": 16,
    "start_time": "2025-01-27T20:51:18.069Z"
   },
   {
    "duration": 2,
    "start_time": "2025-01-27T20:51:18.086Z"
   },
   {
    "duration": 2,
    "start_time": "2025-01-27T20:51:18.109Z"
   },
   {
    "duration": 2,
    "start_time": "2025-01-27T20:51:18.113Z"
   },
   {
    "duration": 3,
    "start_time": "2025-01-27T20:51:18.117Z"
   },
   {
    "duration": 498,
    "start_time": "2025-01-27T20:51:18.123Z"
   },
   {
    "duration": 3,
    "start_time": "2025-01-27T20:51:18.623Z"
   },
   {
    "duration": 0,
    "start_time": "2025-01-27T20:51:18.627Z"
   },
   {
    "duration": 0,
    "start_time": "2025-01-27T20:51:18.628Z"
   },
   {
    "duration": 496,
    "start_time": "2025-01-27T20:53:19.730Z"
   },
   {
    "duration": 4,
    "start_time": "2025-01-27T20:53:23.619Z"
   },
   {
    "duration": 488,
    "start_time": "2025-01-27T20:53:56.836Z"
   },
   {
    "duration": 993,
    "start_time": "2025-01-27T20:59:52.232Z"
   },
   {
    "duration": 402,
    "start_time": "2025-01-27T20:59:53.227Z"
   },
   {
    "duration": 155,
    "start_time": "2025-01-27T20:59:53.631Z"
   },
   {
    "duration": 39,
    "start_time": "2025-01-27T20:59:53.787Z"
   },
   {
    "duration": 289,
    "start_time": "2025-01-27T20:59:53.829Z"
   },
   {
    "duration": 271,
    "start_time": "2025-01-27T20:59:54.119Z"
   },
   {
    "duration": 498,
    "start_time": "2025-01-27T20:59:54.392Z"
   },
   {
    "duration": 57,
    "start_time": "2025-01-27T20:59:54.891Z"
   },
   {
    "duration": 21,
    "start_time": "2025-01-27T20:59:54.950Z"
   },
   {
    "duration": 65,
    "start_time": "2025-01-27T20:59:54.973Z"
   },
   {
    "duration": 45,
    "start_time": "2025-01-27T20:59:55.040Z"
   },
   {
    "duration": 111,
    "start_time": "2025-01-27T20:59:55.087Z"
   },
   {
    "duration": 42,
    "start_time": "2025-01-27T20:59:55.200Z"
   },
   {
    "duration": 126,
    "start_time": "2025-01-27T20:59:55.247Z"
   },
   {
    "duration": 2,
    "start_time": "2025-01-27T20:59:55.375Z"
   },
   {
    "duration": 256,
    "start_time": "2025-01-27T20:59:55.379Z"
   },
   {
    "duration": 5,
    "start_time": "2025-01-27T20:59:55.637Z"
   },
   {
    "duration": 14,
    "start_time": "2025-01-27T20:59:55.644Z"
   },
   {
    "duration": 3,
    "start_time": "2025-01-27T20:59:55.659Z"
   },
   {
    "duration": 1024,
    "start_time": "2025-01-27T21:00:11.805Z"
   },
   {
    "duration": 448,
    "start_time": "2025-01-27T21:00:12.831Z"
   },
   {
    "duration": 164,
    "start_time": "2025-01-27T21:00:13.281Z"
   },
   {
    "duration": 24,
    "start_time": "2025-01-27T21:00:13.448Z"
   },
   {
    "duration": 237,
    "start_time": "2025-01-27T21:00:13.474Z"
   },
   {
    "duration": 264,
    "start_time": "2025-01-27T21:00:13.713Z"
   },
   {
    "duration": 520,
    "start_time": "2025-01-27T21:00:13.978Z"
   },
   {
    "duration": 62,
    "start_time": "2025-01-27T21:00:14.500Z"
   },
   {
    "duration": 18,
    "start_time": "2025-01-27T21:00:14.563Z"
   },
   {
    "duration": 50,
    "start_time": "2025-01-27T21:00:14.583Z"
   },
   {
    "duration": 44,
    "start_time": "2025-01-27T21:00:14.635Z"
   },
   {
    "duration": 87,
    "start_time": "2025-01-27T21:00:14.681Z"
   },
   {
    "duration": 48,
    "start_time": "2025-01-27T21:00:14.770Z"
   },
   {
    "duration": 135,
    "start_time": "2025-01-27T21:00:14.822Z"
   },
   {
    "duration": 6,
    "start_time": "2025-01-27T21:00:14.959Z"
   },
   {
    "duration": 252,
    "start_time": "2025-01-27T21:00:14.967Z"
   },
   {
    "duration": 5,
    "start_time": "2025-01-27T21:00:15.221Z"
   },
   {
    "duration": 13,
    "start_time": "2025-01-27T21:00:15.227Z"
   },
   {
    "duration": 3,
    "start_time": "2025-01-27T21:00:15.241Z"
   },
   {
    "duration": 986,
    "start_time": "2025-01-27T21:00:39.396Z"
   },
   {
    "duration": 452,
    "start_time": "2025-01-27T21:00:40.384Z"
   },
   {
    "duration": 160,
    "start_time": "2025-01-27T21:00:40.838Z"
   },
   {
    "duration": 29,
    "start_time": "2025-01-27T21:00:41.000Z"
   },
   {
    "duration": 244,
    "start_time": "2025-01-27T21:00:41.031Z"
   },
   {
    "duration": 262,
    "start_time": "2025-01-27T21:00:41.276Z"
   },
   {
    "duration": 486,
    "start_time": "2025-01-27T21:00:41.539Z"
   },
   {
    "duration": 62,
    "start_time": "2025-01-27T21:00:42.028Z"
   },
   {
    "duration": 17,
    "start_time": "2025-01-27T21:00:42.091Z"
   },
   {
    "duration": 46,
    "start_time": "2025-01-27T21:00:42.110Z"
   },
   {
    "duration": 53,
    "start_time": "2025-01-27T21:00:42.157Z"
   },
   {
    "duration": 100,
    "start_time": "2025-01-27T21:00:42.211Z"
   },
   {
    "duration": 41,
    "start_time": "2025-01-27T21:00:42.312Z"
   },
   {
    "duration": 129,
    "start_time": "2025-01-27T21:00:42.356Z"
   },
   {
    "duration": 3,
    "start_time": "2025-01-27T21:00:42.487Z"
   },
   {
    "duration": 254,
    "start_time": "2025-01-27T21:00:42.492Z"
   },
   {
    "duration": 4,
    "start_time": "2025-01-27T21:00:42.748Z"
   },
   {
    "duration": 14,
    "start_time": "2025-01-27T21:00:42.754Z"
   },
   {
    "duration": 2,
    "start_time": "2025-01-27T21:00:42.770Z"
   },
   {
    "duration": 1027,
    "start_time": "2025-01-27T21:04:32.738Z"
   },
   {
    "duration": 470,
    "start_time": "2025-01-27T21:04:33.770Z"
   },
   {
    "duration": 161,
    "start_time": "2025-01-27T21:04:34.242Z"
   },
   {
    "duration": 27,
    "start_time": "2025-01-27T21:04:34.409Z"
   },
   {
    "duration": 238,
    "start_time": "2025-01-27T21:04:34.439Z"
   },
   {
    "duration": 272,
    "start_time": "2025-01-27T21:04:34.679Z"
   },
   {
    "duration": 516,
    "start_time": "2025-01-27T21:04:34.953Z"
   },
   {
    "duration": 61,
    "start_time": "2025-01-27T21:04:35.472Z"
   },
   {
    "duration": 21,
    "start_time": "2025-01-27T21:04:35.535Z"
   },
   {
    "duration": 72,
    "start_time": "2025-01-27T21:04:35.558Z"
   },
   {
    "duration": 79,
    "start_time": "2025-01-27T21:04:35.632Z"
   },
   {
    "duration": 97,
    "start_time": "2025-01-27T21:04:35.713Z"
   },
   {
    "duration": 40,
    "start_time": "2025-01-27T21:04:35.812Z"
   },
   {
    "duration": 136,
    "start_time": "2025-01-27T21:04:35.855Z"
   },
   {
    "duration": 2,
    "start_time": "2025-01-27T21:04:35.993Z"
   },
   {
    "duration": 264,
    "start_time": "2025-01-27T21:04:35.997Z"
   },
   {
    "duration": 5,
    "start_time": "2025-01-27T21:04:36.263Z"
   },
   {
    "duration": 16,
    "start_time": "2025-01-27T21:04:36.270Z"
   },
   {
    "duration": 2,
    "start_time": "2025-01-27T21:04:36.288Z"
   },
   {
    "duration": 3,
    "start_time": "2025-01-27T21:04:36.309Z"
   },
   {
    "duration": 3,
    "start_time": "2025-01-27T21:04:36.314Z"
   },
   {
    "duration": 4,
    "start_time": "2025-01-27T21:04:36.318Z"
   },
   {
    "duration": 587,
    "start_time": "2025-01-27T21:04:36.324Z"
   },
   {
    "duration": 6,
    "start_time": "2025-01-27T21:04:36.913Z"
   },
   {
    "duration": 0,
    "start_time": "2025-01-27T21:04:36.920Z"
   },
   {
    "duration": 0,
    "start_time": "2025-01-27T21:04:36.921Z"
   },
   {
    "duration": 975,
    "start_time": "2025-01-27T21:05:04.553Z"
   },
   {
    "duration": 402,
    "start_time": "2025-01-27T21:05:05.530Z"
   },
   {
    "duration": 162,
    "start_time": "2025-01-27T21:05:05.934Z"
   },
   {
    "duration": 33,
    "start_time": "2025-01-27T21:05:06.098Z"
   },
   {
    "duration": 223,
    "start_time": "2025-01-27T21:05:06.133Z"
   },
   {
    "duration": 263,
    "start_time": "2025-01-27T21:05:06.357Z"
   },
   {
    "duration": 467,
    "start_time": "2025-01-27T21:05:06.622Z"
   },
   {
    "duration": 62,
    "start_time": "2025-01-27T21:05:07.091Z"
   },
   {
    "duration": 18,
    "start_time": "2025-01-27T21:05:07.155Z"
   },
   {
    "duration": 66,
    "start_time": "2025-01-27T21:05:07.175Z"
   },
   {
    "duration": 49,
    "start_time": "2025-01-27T21:05:07.243Z"
   },
   {
    "duration": 92,
    "start_time": "2025-01-27T21:05:07.295Z"
   },
   {
    "duration": 50,
    "start_time": "2025-01-27T21:05:07.389Z"
   },
   {
    "duration": 141,
    "start_time": "2025-01-27T21:05:07.444Z"
   },
   {
    "duration": 2,
    "start_time": "2025-01-27T21:05:07.587Z"
   },
   {
    "duration": 273,
    "start_time": "2025-01-27T21:05:07.591Z"
   },
   {
    "duration": 5,
    "start_time": "2025-01-27T21:05:07.867Z"
   },
   {
    "duration": 16,
    "start_time": "2025-01-27T21:05:07.874Z"
   },
   {
    "duration": 17,
    "start_time": "2025-01-27T21:05:07.892Z"
   },
   {
    "duration": 949,
    "start_time": "2025-01-27T21:06:00.880Z"
   },
   {
    "duration": 458,
    "start_time": "2025-01-27T21:06:01.832Z"
   },
   {
    "duration": 161,
    "start_time": "2025-01-27T21:06:02.292Z"
   },
   {
    "duration": 25,
    "start_time": "2025-01-27T21:06:02.455Z"
   },
   {
    "duration": 240,
    "start_time": "2025-01-27T21:06:02.483Z"
   },
   {
    "duration": 260,
    "start_time": "2025-01-27T21:06:02.725Z"
   },
   {
    "duration": 527,
    "start_time": "2025-01-27T21:06:02.986Z"
   },
   {
    "duration": 64,
    "start_time": "2025-01-27T21:06:03.515Z"
   },
   {
    "duration": 17,
    "start_time": "2025-01-27T21:06:03.581Z"
   },
   {
    "duration": 54,
    "start_time": "2025-01-27T21:06:03.600Z"
   },
   {
    "duration": 57,
    "start_time": "2025-01-27T21:06:03.656Z"
   },
   {
    "duration": 75,
    "start_time": "2025-01-27T21:06:03.716Z"
   },
   {
    "duration": 50,
    "start_time": "2025-01-27T21:06:03.793Z"
   },
   {
    "duration": 124,
    "start_time": "2025-01-27T21:06:03.846Z"
   },
   {
    "duration": 4,
    "start_time": "2025-01-27T21:06:03.971Z"
   },
   {
    "duration": 255,
    "start_time": "2025-01-27T21:06:03.976Z"
   },
   {
    "duration": 5,
    "start_time": "2025-01-27T21:06:04.232Z"
   },
   {
    "duration": 15,
    "start_time": "2025-01-27T21:06:04.238Z"
   },
   {
    "duration": 2,
    "start_time": "2025-01-27T21:06:04.257Z"
   },
   {
    "duration": 3,
    "start_time": "2025-01-27T21:06:04.260Z"
   },
   {
    "duration": 3,
    "start_time": "2025-01-27T21:06:04.264Z"
   },
   {
    "duration": 3,
    "start_time": "2025-01-27T21:06:04.268Z"
   },
   {
    "duration": 551,
    "start_time": "2025-01-27T21:06:04.272Z"
   },
   {
    "duration": 5,
    "start_time": "2025-01-27T21:06:04.825Z"
   },
   {
    "duration": 0,
    "start_time": "2025-01-27T21:06:04.832Z"
   },
   {
    "duration": 0,
    "start_time": "2025-01-27T21:06:04.834Z"
   },
   {
    "duration": 310,
    "start_time": "2025-01-27T23:20:56.228Z"
   },
   {
    "duration": 14,
    "start_time": "2025-01-27T23:23:32.886Z"
   },
   {
    "duration": 1011,
    "start_time": "2025-01-27T23:23:57.214Z"
   },
   {
    "duration": 407,
    "start_time": "2025-01-27T23:23:58.228Z"
   },
   {
    "duration": 158,
    "start_time": "2025-01-27T23:23:58.636Z"
   },
   {
    "duration": 33,
    "start_time": "2025-01-27T23:23:58.796Z"
   },
   {
    "duration": 240,
    "start_time": "2025-01-27T23:23:58.831Z"
   },
   {
    "duration": 264,
    "start_time": "2025-01-27T23:23:59.073Z"
   },
   {
    "duration": 494,
    "start_time": "2025-01-27T23:23:59.339Z"
   },
   {
    "duration": 62,
    "start_time": "2025-01-27T23:23:59.835Z"
   },
   {
    "duration": 21,
    "start_time": "2025-01-27T23:23:59.899Z"
   },
   {
    "duration": 45,
    "start_time": "2025-01-27T23:23:59.922Z"
   },
   {
    "duration": 56,
    "start_time": "2025-01-27T23:23:59.969Z"
   },
   {
    "duration": 74,
    "start_time": "2025-01-27T23:24:00.027Z"
   },
   {
    "duration": 40,
    "start_time": "2025-01-27T23:24:00.109Z"
   },
   {
    "duration": 133,
    "start_time": "2025-01-27T23:24:00.153Z"
   },
   {
    "duration": 2,
    "start_time": "2025-01-27T23:24:00.288Z"
   },
   {
    "duration": 251,
    "start_time": "2025-01-27T23:24:00.292Z"
   },
   {
    "duration": 5,
    "start_time": "2025-01-27T23:24:00.544Z"
   },
   {
    "duration": 13,
    "start_time": "2025-01-27T23:24:00.551Z"
   },
   {
    "duration": 3,
    "start_time": "2025-01-27T23:24:00.567Z"
   },
   {
    "duration": 3,
    "start_time": "2025-01-27T23:24:00.572Z"
   },
   {
    "duration": 31,
    "start_time": "2025-01-27T23:24:00.577Z"
   },
   {
    "duration": 4,
    "start_time": "2025-01-27T23:24:00.609Z"
   },
   {
    "duration": 508,
    "start_time": "2025-01-27T23:24:00.615Z"
   },
   {
    "duration": 4,
    "start_time": "2025-01-27T23:24:01.125Z"
   },
   {
    "duration": 0,
    "start_time": "2025-01-27T23:24:01.130Z"
   },
   {
    "duration": 1,
    "start_time": "2025-01-27T23:24:01.132Z"
   },
   {
    "duration": 4,
    "start_time": "2025-01-27T23:24:05.717Z"
   },
   {
    "duration": 983,
    "start_time": "2025-01-27T23:33:40.835Z"
   },
   {
    "duration": 407,
    "start_time": "2025-01-27T23:33:41.820Z"
   },
   {
    "duration": 154,
    "start_time": "2025-01-27T23:33:42.229Z"
   },
   {
    "duration": 37,
    "start_time": "2025-01-27T23:33:42.386Z"
   },
   {
    "duration": 231,
    "start_time": "2025-01-27T23:33:42.426Z"
   },
   {
    "duration": 266,
    "start_time": "2025-01-27T23:33:42.660Z"
   },
   {
    "duration": 483,
    "start_time": "2025-01-27T23:33:42.930Z"
   },
   {
    "duration": 4,
    "start_time": "2025-01-27T23:33:43.415Z"
   },
   {
    "duration": 0,
    "start_time": "2025-01-27T23:33:43.421Z"
   },
   {
    "duration": 0,
    "start_time": "2025-01-27T23:33:43.423Z"
   },
   {
    "duration": 0,
    "start_time": "2025-01-27T23:33:43.424Z"
   },
   {
    "duration": 0,
    "start_time": "2025-01-27T23:33:43.425Z"
   },
   {
    "duration": 0,
    "start_time": "2025-01-27T23:33:43.426Z"
   },
   {
    "duration": 0,
    "start_time": "2025-01-27T23:33:43.427Z"
   },
   {
    "duration": 0,
    "start_time": "2025-01-27T23:33:43.428Z"
   },
   {
    "duration": 0,
    "start_time": "2025-01-27T23:33:43.430Z"
   },
   {
    "duration": 0,
    "start_time": "2025-01-27T23:33:43.432Z"
   },
   {
    "duration": 0,
    "start_time": "2025-01-27T23:33:43.433Z"
   },
   {
    "duration": 0,
    "start_time": "2025-01-27T23:33:43.434Z"
   },
   {
    "duration": 0,
    "start_time": "2025-01-27T23:33:43.436Z"
   },
   {
    "duration": 0,
    "start_time": "2025-01-27T23:33:43.438Z"
   },
   {
    "duration": 0,
    "start_time": "2025-01-27T23:33:43.439Z"
   },
   {
    "duration": 0,
    "start_time": "2025-01-27T23:33:43.440Z"
   },
   {
    "duration": 0,
    "start_time": "2025-01-27T23:33:43.442Z"
   },
   {
    "duration": 0,
    "start_time": "2025-01-27T23:33:43.443Z"
   },
   {
    "duration": 0,
    "start_time": "2025-01-27T23:33:43.444Z"
   },
   {
    "duration": 6,
    "start_time": "2025-01-27T23:34:33.428Z"
   },
   {
    "duration": 16,
    "start_time": "2025-01-27T23:34:44.163Z"
   },
   {
    "duration": 17,
    "start_time": "2025-01-27T23:34:53.678Z"
   },
   {
    "duration": 23,
    "start_time": "2025-01-27T23:35:01.271Z"
   },
   {
    "duration": 17,
    "start_time": "2025-01-27T23:35:27.844Z"
   },
   {
    "duration": 41,
    "start_time": "2025-01-27T23:35:40.645Z"
   },
   {
    "duration": 63,
    "start_time": "2025-01-28T00:05:29.266Z"
   },
   {
    "duration": 18,
    "start_time": "2025-01-28T00:05:57.626Z"
   },
   {
    "duration": 47,
    "start_time": "2025-01-28T00:06:38.721Z"
   },
   {
    "duration": 101,
    "start_time": "2025-01-28T00:07:52.451Z"
   },
   {
    "duration": 67,
    "start_time": "2025-01-28T00:09:07.142Z"
   },
   {
    "duration": 21,
    "start_time": "2025-01-28T00:09:21.222Z"
   },
   {
    "duration": 177,
    "start_time": "2025-01-28T00:09:29.455Z"
   },
   {
    "duration": 5,
    "start_time": "2025-01-28T00:10:33.422Z"
   },
   {
    "duration": 20,
    "start_time": "2025-01-28T00:10:40.132Z"
   },
   {
    "duration": 5,
    "start_time": "2025-01-28T00:10:41.960Z"
   },
   {
    "duration": 2,
    "start_time": "2025-01-28T00:10:42.405Z"
   },
   {
    "duration": 3,
    "start_time": "2025-01-28T00:10:47.015Z"
   },
   {
    "duration": 3,
    "start_time": "2025-01-28T00:10:47.993Z"
   },
   {
    "duration": 509,
    "start_time": "2025-01-28T00:10:52.600Z"
   },
   {
    "duration": 556,
    "start_time": "2025-01-28T00:11:35.957Z"
   },
   {
    "duration": 4,
    "start_time": "2025-01-28T00:11:41.131Z"
   },
   {
    "duration": 973,
    "start_time": "2025-01-28T00:17:58.765Z"
   },
   {
    "duration": 416,
    "start_time": "2025-01-28T00:17:59.740Z"
   },
   {
    "duration": 158,
    "start_time": "2025-01-28T00:18:00.158Z"
   },
   {
    "duration": 25,
    "start_time": "2025-01-28T00:18:00.318Z"
   },
   {
    "duration": 242,
    "start_time": "2025-01-28T00:18:00.344Z"
   },
   {
    "duration": 271,
    "start_time": "2025-01-28T00:18:00.588Z"
   },
   {
    "duration": 502,
    "start_time": "2025-01-28T00:18:00.861Z"
   },
   {
    "duration": 71,
    "start_time": "2025-01-28T00:18:01.366Z"
   },
   {
    "duration": 145,
    "start_time": "2025-01-28T00:18:01.438Z"
   },
   {
    "duration": 4,
    "start_time": "2025-01-28T00:18:01.587Z"
   },
   {
    "duration": 0,
    "start_time": "2025-01-28T00:18:01.592Z"
   },
   {
    "duration": 0,
    "start_time": "2025-01-28T00:18:01.594Z"
   },
   {
    "duration": 0,
    "start_time": "2025-01-28T00:18:01.595Z"
   },
   {
    "duration": 0,
    "start_time": "2025-01-28T00:18:01.608Z"
   },
   {
    "duration": 0,
    "start_time": "2025-01-28T00:18:01.610Z"
   },
   {
    "duration": 0,
    "start_time": "2025-01-28T00:18:01.611Z"
   },
   {
    "duration": 0,
    "start_time": "2025-01-28T00:18:01.612Z"
   },
   {
    "duration": 0,
    "start_time": "2025-01-28T00:18:01.614Z"
   },
   {
    "duration": 0,
    "start_time": "2025-01-28T00:18:01.615Z"
   },
   {
    "duration": 0,
    "start_time": "2025-01-28T00:18:01.617Z"
   },
   {
    "duration": 0,
    "start_time": "2025-01-28T00:18:01.618Z"
   },
   {
    "duration": 0,
    "start_time": "2025-01-28T00:18:01.619Z"
   },
   {
    "duration": 0,
    "start_time": "2025-01-28T00:18:01.621Z"
   },
   {
    "duration": 133,
    "start_time": "2025-01-28T00:18:12.226Z"
   },
   {
    "duration": 77,
    "start_time": "2025-01-28T00:19:47.002Z"
   },
   {
    "duration": 71,
    "start_time": "2025-01-28T00:20:02.321Z"
   },
   {
    "duration": 25,
    "start_time": "2025-01-28T00:22:13.546Z"
   },
   {
    "duration": 1128,
    "start_time": "2025-01-28T00:22:47.015Z"
   },
   {
    "duration": 411,
    "start_time": "2025-01-28T00:22:48.145Z"
   },
   {
    "duration": 161,
    "start_time": "2025-01-28T00:22:48.558Z"
   },
   {
    "duration": 26,
    "start_time": "2025-01-28T00:22:48.721Z"
   },
   {
    "duration": 247,
    "start_time": "2025-01-28T00:22:48.750Z"
   },
   {
    "duration": 254,
    "start_time": "2025-01-28T00:22:48.999Z"
   },
   {
    "duration": 489,
    "start_time": "2025-01-28T00:22:49.255Z"
   },
   {
    "duration": 68,
    "start_time": "2025-01-28T00:22:49.746Z"
   },
   {
    "duration": 144,
    "start_time": "2025-01-28T00:22:49.816Z"
   },
   {
    "duration": 76,
    "start_time": "2025-01-28T00:22:49.962Z"
   },
   {
    "duration": 75,
    "start_time": "2025-01-28T00:22:50.040Z"
   },
   {
    "duration": 169,
    "start_time": "2025-01-28T00:22:50.117Z"
   },
   {
    "duration": 2,
    "start_time": "2025-01-28T00:22:50.288Z"
   },
   {
    "duration": 263,
    "start_time": "2025-01-28T00:22:50.294Z"
   },
   {
    "duration": 5,
    "start_time": "2025-01-28T00:22:50.559Z"
   },
   {
    "duration": 40,
    "start_time": "2025-01-28T00:22:50.569Z"
   },
   {
    "duration": 3,
    "start_time": "2025-01-28T00:22:50.611Z"
   },
   {
    "duration": 4,
    "start_time": "2025-01-28T00:22:50.615Z"
   },
   {
    "duration": 2,
    "start_time": "2025-01-28T00:22:50.622Z"
   },
   {
    "duration": 3,
    "start_time": "2025-01-28T00:22:50.626Z"
   },
   {
    "duration": 501,
    "start_time": "2025-01-28T00:22:50.630Z"
   },
   {
    "duration": 76,
    "start_time": "2025-01-28T00:22:51.133Z"
   },
   {
    "duration": 4,
    "start_time": "2025-01-28T00:22:51.212Z"
   },
   {
    "duration": 0,
    "start_time": "2025-01-28T00:22:51.218Z"
   },
   {
    "duration": 406,
    "start_time": "2025-01-28T00:23:32.917Z"
   },
   {
    "duration": 1057,
    "start_time": "2025-01-28T00:24:25.117Z"
   },
   {
    "duration": 409,
    "start_time": "2025-01-28T00:24:26.176Z"
   },
   {
    "duration": 160,
    "start_time": "2025-01-28T00:24:26.587Z"
   },
   {
    "duration": 25,
    "start_time": "2025-01-28T00:24:26.750Z"
   },
   {
    "duration": 248,
    "start_time": "2025-01-28T00:24:26.779Z"
   },
   {
    "duration": 274,
    "start_time": "2025-01-28T00:24:27.029Z"
   },
   {
    "duration": 488,
    "start_time": "2025-01-28T00:24:27.304Z"
   },
   {
    "duration": 16,
    "start_time": "2025-01-28T00:24:27.793Z"
   },
   {
    "duration": 0,
    "start_time": "2025-01-28T00:24:27.811Z"
   },
   {
    "duration": 0,
    "start_time": "2025-01-28T00:24:27.812Z"
   },
   {
    "duration": 0,
    "start_time": "2025-01-28T00:24:27.813Z"
   },
   {
    "duration": 0,
    "start_time": "2025-01-28T00:24:27.814Z"
   },
   {
    "duration": 0,
    "start_time": "2025-01-28T00:24:27.816Z"
   },
   {
    "duration": 0,
    "start_time": "2025-01-28T00:24:27.817Z"
   },
   {
    "duration": 0,
    "start_time": "2025-01-28T00:24:27.818Z"
   },
   {
    "duration": 0,
    "start_time": "2025-01-28T00:24:27.819Z"
   },
   {
    "duration": 0,
    "start_time": "2025-01-28T00:24:27.821Z"
   },
   {
    "duration": 0,
    "start_time": "2025-01-28T00:24:27.822Z"
   },
   {
    "duration": 0,
    "start_time": "2025-01-28T00:24:27.823Z"
   },
   {
    "duration": 0,
    "start_time": "2025-01-28T00:24:27.824Z"
   },
   {
    "duration": 0,
    "start_time": "2025-01-28T00:24:27.825Z"
   },
   {
    "duration": 0,
    "start_time": "2025-01-28T00:24:27.826Z"
   },
   {
    "duration": 58,
    "start_time": "2025-01-28T00:24:35.353Z"
   },
   {
    "duration": 123,
    "start_time": "2025-01-28T00:24:36.999Z"
   },
   {
    "duration": 5,
    "start_time": "2025-01-28T00:26:09.790Z"
   },
   {
    "duration": 299,
    "start_time": "2025-01-28T00:26:13.254Z"
   },
   {
    "duration": 73,
    "start_time": "2025-01-28T00:31:22.256Z"
   },
   {
    "duration": 3,
    "start_time": "2025-01-28T00:32:42.961Z"
   },
   {
    "duration": 322,
    "start_time": "2025-01-28T00:32:45.836Z"
   },
   {
    "duration": 1032,
    "start_time": "2025-01-28T00:32:58.330Z"
   },
   {
    "duration": 423,
    "start_time": "2025-01-28T00:32:59.365Z"
   },
   {
    "duration": 157,
    "start_time": "2025-01-28T00:32:59.790Z"
   },
   {
    "duration": 27,
    "start_time": "2025-01-28T00:32:59.949Z"
   },
   {
    "duration": 231,
    "start_time": "2025-01-28T00:32:59.978Z"
   },
   {
    "duration": 269,
    "start_time": "2025-01-28T00:33:00.211Z"
   },
   {
    "duration": 491,
    "start_time": "2025-01-28T00:33:00.482Z"
   },
   {
    "duration": 64,
    "start_time": "2025-01-28T00:33:00.975Z"
   },
   {
    "duration": 77,
    "start_time": "2025-01-28T00:33:01.041Z"
   },
   {
    "duration": 3,
    "start_time": "2025-01-28T00:33:01.121Z"
   },
   {
    "duration": 0,
    "start_time": "2025-01-28T00:33:01.126Z"
   },
   {
    "duration": 0,
    "start_time": "2025-01-28T00:33:01.127Z"
   },
   {
    "duration": 0,
    "start_time": "2025-01-28T00:33:01.129Z"
   },
   {
    "duration": 0,
    "start_time": "2025-01-28T00:33:01.130Z"
   },
   {
    "duration": 0,
    "start_time": "2025-01-28T00:33:01.131Z"
   },
   {
    "duration": 0,
    "start_time": "2025-01-28T00:33:01.132Z"
   },
   {
    "duration": 0,
    "start_time": "2025-01-28T00:33:01.133Z"
   },
   {
    "duration": 0,
    "start_time": "2025-01-28T00:33:01.134Z"
   },
   {
    "duration": 0,
    "start_time": "2025-01-28T00:33:01.135Z"
   },
   {
    "duration": 0,
    "start_time": "2025-01-28T00:33:01.136Z"
   },
   {
    "duration": 0,
    "start_time": "2025-01-28T00:33:01.137Z"
   },
   {
    "duration": 0,
    "start_time": "2025-01-28T00:33:01.138Z"
   },
   {
    "duration": 441,
    "start_time": "2025-01-28T00:44:47.294Z"
   },
   {
    "duration": 13,
    "start_time": "2025-01-28T00:51:07.276Z"
   },
   {
    "duration": 66,
    "start_time": "2025-01-28T00:51:09.601Z"
   },
   {
    "duration": 3,
    "start_time": "2025-01-28T00:51:13.208Z"
   },
   {
    "duration": 2,
    "start_time": "2025-01-28T00:51:14.741Z"
   },
   {
    "duration": 3,
    "start_time": "2025-01-28T00:51:15.739Z"
   },
   {
    "duration": 2,
    "start_time": "2025-01-28T00:51:16.854Z"
   },
   {
    "duration": 4778,
    "start_time": "2025-01-28T00:51:17.868Z"
   },
   {
    "duration": 3,
    "start_time": "2025-01-28T00:51:25.415Z"
   },
   {
    "duration": 2823,
    "start_time": "2025-01-28T02:50:01.414Z"
   },
   {
    "duration": 464,
    "start_time": "2025-01-28T02:50:04.239Z"
   },
   {
    "duration": 166,
    "start_time": "2025-01-28T02:50:04.705Z"
   },
   {
    "duration": 27,
    "start_time": "2025-01-28T02:50:04.873Z"
   },
   {
    "duration": 248,
    "start_time": "2025-01-28T02:50:04.903Z"
   },
   {
    "duration": 299,
    "start_time": "2025-01-28T02:50:05.153Z"
   },
   {
    "duration": 572,
    "start_time": "2025-01-28T02:50:05.454Z"
   },
   {
    "duration": 59,
    "start_time": "2025-01-28T02:50:06.028Z"
   },
   {
    "duration": 82,
    "start_time": "2025-01-28T02:50:06.089Z"
   },
   {
    "duration": 470,
    "start_time": "2025-01-28T02:50:06.172Z"
   },
   {
    "duration": 2,
    "start_time": "2025-01-28T02:50:06.644Z"
   },
   {
    "duration": 288,
    "start_time": "2025-01-28T02:50:06.648Z"
   },
   {
    "duration": 8,
    "start_time": "2025-01-28T02:50:06.939Z"
   },
   {
    "duration": 78,
    "start_time": "2025-01-28T02:50:06.950Z"
   },
   {
    "duration": 3,
    "start_time": "2025-01-28T02:50:07.030Z"
   },
   {
    "duration": 3,
    "start_time": "2025-01-28T02:50:07.035Z"
   },
   {
    "duration": 4,
    "start_time": "2025-01-28T02:50:07.039Z"
   },
   {
    "duration": 3,
    "start_time": "2025-01-28T02:50:07.045Z"
   },
   {
    "duration": 4718,
    "start_time": "2025-01-28T02:50:07.070Z"
   },
   {
    "duration": 224,
    "start_time": "2025-01-28T02:53:19.826Z"
   },
   {
    "duration": 1078,
    "start_time": "2025-01-28T02:53:30.156Z"
   },
   {
    "duration": 535,
    "start_time": "2025-01-28T02:53:31.236Z"
   },
   {
    "duration": 162,
    "start_time": "2025-01-28T02:53:31.773Z"
   },
   {
    "duration": 36,
    "start_time": "2025-01-28T02:53:31.937Z"
   },
   {
    "duration": 236,
    "start_time": "2025-01-28T02:53:31.976Z"
   },
   {
    "duration": 303,
    "start_time": "2025-01-28T02:53:32.214Z"
   },
   {
    "duration": 559,
    "start_time": "2025-01-28T02:53:32.519Z"
   },
   {
    "duration": 56,
    "start_time": "2025-01-28T02:53:33.080Z"
   },
   {
    "duration": 76,
    "start_time": "2025-01-28T02:53:33.138Z"
   },
   {
    "duration": 427,
    "start_time": "2025-01-28T02:53:33.219Z"
   },
   {
    "duration": 3,
    "start_time": "2025-01-28T02:53:33.648Z"
   },
   {
    "duration": 286,
    "start_time": "2025-01-28T02:53:33.652Z"
   },
   {
    "duration": 8,
    "start_time": "2025-01-28T02:53:33.941Z"
   },
   {
    "duration": 77,
    "start_time": "2025-01-28T02:53:33.951Z"
   },
   {
    "duration": 3,
    "start_time": "2025-01-28T02:53:34.030Z"
   },
   {
    "duration": 3,
    "start_time": "2025-01-28T02:53:34.034Z"
   },
   {
    "duration": 3,
    "start_time": "2025-01-28T02:53:34.039Z"
   },
   {
    "duration": 4,
    "start_time": "2025-01-28T02:53:34.043Z"
   },
   {
    "duration": 4774,
    "start_time": "2025-01-28T02:53:34.048Z"
   },
   {
    "duration": 212,
    "start_time": "2025-01-28T02:53:38.824Z"
   },
   {
    "duration": 1003,
    "start_time": "2025-01-28T03:02:57.532Z"
   },
   {
    "duration": 410,
    "start_time": "2025-01-28T03:02:58.537Z"
   },
   {
    "duration": 185,
    "start_time": "2025-01-28T03:02:58.949Z"
   },
   {
    "duration": 38,
    "start_time": "2025-01-28T03:02:59.136Z"
   },
   {
    "duration": 235,
    "start_time": "2025-01-28T03:02:59.176Z"
   },
   {
    "duration": 295,
    "start_time": "2025-01-28T03:02:59.413Z"
   },
   {
    "duration": 492,
    "start_time": "2025-01-28T03:02:59.710Z"
   },
   {
    "duration": 56,
    "start_time": "2025-01-28T03:03:00.204Z"
   },
   {
    "duration": 73,
    "start_time": "2025-01-28T03:03:00.262Z"
   },
   {
    "duration": 436,
    "start_time": "2025-01-28T03:03:00.337Z"
   },
   {
    "duration": 602,
    "start_time": "2025-01-28T03:03:00.776Z"
   },
   {
    "duration": 0,
    "start_time": "2025-01-28T03:03:01.380Z"
   },
   {
    "duration": 0,
    "start_time": "2025-01-28T03:03:01.382Z"
   },
   {
    "duration": 0,
    "start_time": "2025-01-28T03:03:01.383Z"
   },
   {
    "duration": 0,
    "start_time": "2025-01-28T03:03:01.384Z"
   },
   {
    "duration": 0,
    "start_time": "2025-01-28T03:03:01.385Z"
   },
   {
    "duration": 233,
    "start_time": "2025-01-28T03:03:21.520Z"
   },
   {
    "duration": 5,
    "start_time": "2025-01-28T03:03:24.655Z"
   },
   {
    "duration": 194,
    "start_time": "2025-01-28T03:03:28.940Z"
   },
   {
    "duration": 42,
    "start_time": "2025-01-28T03:04:36.347Z"
   },
   {
    "duration": 35,
    "start_time": "2025-01-28T03:04:52.710Z"
   },
   {
    "duration": 33,
    "start_time": "2025-01-28T03:05:13.635Z"
   },
   {
    "duration": 9,
    "start_time": "2025-01-28T03:07:33.611Z"
   },
   {
    "duration": 1003,
    "start_time": "2025-01-28T03:07:42.312Z"
   },
   {
    "duration": 430,
    "start_time": "2025-01-28T03:07:43.317Z"
   },
   {
    "duration": 154,
    "start_time": "2025-01-28T03:07:43.749Z"
   },
   {
    "duration": 25,
    "start_time": "2025-01-28T03:07:43.905Z"
   },
   {
    "duration": 255,
    "start_time": "2025-01-28T03:07:43.933Z"
   },
   {
    "duration": 264,
    "start_time": "2025-01-28T03:07:44.189Z"
   },
   {
    "duration": 504,
    "start_time": "2025-01-28T03:07:44.455Z"
   },
   {
    "duration": 70,
    "start_time": "2025-01-28T03:07:44.961Z"
   },
   {
    "duration": 74,
    "start_time": "2025-01-28T03:07:45.033Z"
   },
   {
    "duration": 436,
    "start_time": "2025-01-28T03:07:45.109Z"
   },
   {
    "duration": 232,
    "start_time": "2025-01-28T03:07:45.547Z"
   },
   {
    "duration": 46,
    "start_time": "2025-01-28T03:07:45.781Z"
   },
   {
    "duration": 609,
    "start_time": "2025-01-28T03:07:45.828Z"
   },
   {
    "duration": 0,
    "start_time": "2025-01-28T03:07:46.439Z"
   },
   {
    "duration": 0,
    "start_time": "2025-01-28T03:07:46.440Z"
   },
   {
    "duration": 0,
    "start_time": "2025-01-28T03:07:46.441Z"
   },
   {
    "duration": 27,
    "start_time": "2025-01-28T03:08:31.291Z"
   },
   {
    "duration": 25,
    "start_time": "2025-01-28T03:08:37.021Z"
   },
   {
    "duration": 19,
    "start_time": "2025-01-28T03:08:42.282Z"
   },
   {
    "duration": 8,
    "start_time": "2025-01-28T03:09:18.867Z"
   },
   {
    "duration": 42,
    "start_time": "2025-01-28T03:09:24.794Z"
   },
   {
    "duration": 972,
    "start_time": "2025-01-28T03:09:45.325Z"
   },
   {
    "duration": 455,
    "start_time": "2025-01-28T03:09:46.299Z"
   },
   {
    "duration": 176,
    "start_time": "2025-01-28T03:09:46.756Z"
   },
   {
    "duration": 24,
    "start_time": "2025-01-28T03:09:46.935Z"
   },
   {
    "duration": 250,
    "start_time": "2025-01-28T03:09:46.960Z"
   },
   {
    "duration": 262,
    "start_time": "2025-01-28T03:09:47.212Z"
   },
   {
    "duration": 494,
    "start_time": "2025-01-28T03:09:47.476Z"
   },
   {
    "duration": 71,
    "start_time": "2025-01-28T03:09:47.973Z"
   },
   {
    "duration": 79,
    "start_time": "2025-01-28T03:09:48.046Z"
   },
   {
    "duration": 432,
    "start_time": "2025-01-28T03:09:48.128Z"
   },
   {
    "duration": 232,
    "start_time": "2025-01-28T03:09:48.562Z"
   },
   {
    "duration": 4,
    "start_time": "2025-01-28T03:09:48.796Z"
   },
   {
    "duration": 0,
    "start_time": "2025-01-28T03:09:48.802Z"
   },
   {
    "duration": 0,
    "start_time": "2025-01-28T03:09:48.803Z"
   },
   {
    "duration": 0,
    "start_time": "2025-01-28T03:09:48.804Z"
   },
   {
    "duration": 0,
    "start_time": "2025-01-28T03:09:48.805Z"
   },
   {
    "duration": 46,
    "start_time": "2025-01-28T03:10:13.404Z"
   },
   {
    "duration": 627,
    "start_time": "2025-01-28T03:10:16.191Z"
   },
   {
    "duration": 965,
    "start_time": "2025-01-28T03:10:32.049Z"
   },
   {
    "duration": 411,
    "start_time": "2025-01-28T03:10:33.016Z"
   },
   {
    "duration": 161,
    "start_time": "2025-01-28T03:10:33.428Z"
   },
   {
    "duration": 28,
    "start_time": "2025-01-28T03:10:33.590Z"
   },
   {
    "duration": 250,
    "start_time": "2025-01-28T03:10:33.621Z"
   },
   {
    "duration": 260,
    "start_time": "2025-01-28T03:10:33.872Z"
   },
   {
    "duration": 520,
    "start_time": "2025-01-28T03:10:34.134Z"
   },
   {
    "duration": 52,
    "start_time": "2025-01-28T03:10:34.656Z"
   },
   {
    "duration": 76,
    "start_time": "2025-01-28T03:10:34.712Z"
   },
   {
    "duration": 440,
    "start_time": "2025-01-28T03:10:34.790Z"
   },
   {
    "duration": 230,
    "start_time": "2025-01-28T03:10:35.232Z"
   },
   {
    "duration": 43,
    "start_time": "2025-01-28T03:10:35.464Z"
   },
   {
    "duration": 562,
    "start_time": "2025-01-28T03:10:35.508Z"
   },
   {
    "duration": 0,
    "start_time": "2025-01-28T03:10:36.072Z"
   },
   {
    "duration": 0,
    "start_time": "2025-01-28T03:10:36.073Z"
   },
   {
    "duration": 0,
    "start_time": "2025-01-28T03:10:36.074Z"
   },
   {
    "duration": 41,
    "start_time": "2025-01-28T03:10:44.035Z"
   },
   {
    "duration": 19,
    "start_time": "2025-01-28T03:10:51.155Z"
   },
   {
    "duration": 11,
    "start_time": "2025-01-28T03:11:19.141Z"
   },
   {
    "duration": 20,
    "start_time": "2025-01-28T03:11:38.730Z"
   },
   {
    "duration": 15,
    "start_time": "2025-01-28T03:11:44.738Z"
   },
   {
    "duration": 15,
    "start_time": "2025-01-28T03:11:56.570Z"
   },
   {
    "duration": 1087,
    "start_time": "2025-01-28T03:23:18.068Z"
   },
   {
    "duration": 416,
    "start_time": "2025-01-28T03:23:19.158Z"
   },
   {
    "duration": 207,
    "start_time": "2025-01-28T03:23:19.575Z"
   },
   {
    "duration": 27,
    "start_time": "2025-01-28T03:23:19.784Z"
   },
   {
    "duration": 250,
    "start_time": "2025-01-28T03:23:19.813Z"
   },
   {
    "duration": 274,
    "start_time": "2025-01-28T03:23:20.065Z"
   },
   {
    "duration": 523,
    "start_time": "2025-01-28T03:23:20.344Z"
   },
   {
    "duration": 57,
    "start_time": "2025-01-28T03:23:20.869Z"
   },
   {
    "duration": 80,
    "start_time": "2025-01-28T03:23:20.928Z"
   },
   {
    "duration": 445,
    "start_time": "2025-01-28T03:23:21.013Z"
   },
   {
    "duration": 254,
    "start_time": "2025-01-28T03:23:21.460Z"
   },
   {
    "duration": 4,
    "start_time": "2025-01-28T03:23:21.717Z"
   },
   {
    "duration": 0,
    "start_time": "2025-01-28T03:23:21.723Z"
   },
   {
    "duration": 0,
    "start_time": "2025-01-28T03:23:21.724Z"
   },
   {
    "duration": 0,
    "start_time": "2025-01-28T03:23:21.726Z"
   },
   {
    "duration": 563,
    "start_time": "2025-01-28T03:23:30.555Z"
   },
   {
    "duration": 78,
    "start_time": "2025-01-28T03:24:07.569Z"
   },
   {
    "duration": 1014,
    "start_time": "2025-01-28T03:24:16.817Z"
   },
   {
    "duration": 405,
    "start_time": "2025-01-28T03:24:17.833Z"
   },
   {
    "duration": 161,
    "start_time": "2025-01-28T03:24:18.240Z"
   },
   {
    "duration": 24,
    "start_time": "2025-01-28T03:24:18.404Z"
   },
   {
    "duration": 254,
    "start_time": "2025-01-28T03:24:18.430Z"
   },
   {
    "duration": 264,
    "start_time": "2025-01-28T03:24:18.685Z"
   },
   {
    "duration": 508,
    "start_time": "2025-01-28T03:24:18.951Z"
   },
   {
    "duration": 56,
    "start_time": "2025-01-28T03:24:19.461Z"
   },
   {
    "duration": 73,
    "start_time": "2025-01-28T03:24:19.519Z"
   },
   {
    "duration": 433,
    "start_time": "2025-01-28T03:24:19.594Z"
   },
   {
    "duration": 4,
    "start_time": "2025-01-28T03:24:20.029Z"
   },
   {
    "duration": 0,
    "start_time": "2025-01-28T03:24:20.034Z"
   },
   {
    "duration": 0,
    "start_time": "2025-01-28T03:24:20.035Z"
   },
   {
    "duration": 0,
    "start_time": "2025-01-28T03:24:20.036Z"
   },
   {
    "duration": 0,
    "start_time": "2025-01-28T03:24:20.037Z"
   },
   {
    "duration": 77,
    "start_time": "2025-01-28T03:24:51.844Z"
   },
   {
    "duration": 223,
    "start_time": "2025-01-28T03:24:55.282Z"
   },
   {
    "duration": 19,
    "start_time": "2025-01-28T03:24:56.985Z"
   },
   {
    "duration": 539,
    "start_time": "2025-01-28T03:25:45.101Z"
   },
   {
    "duration": 16,
    "start_time": "2025-01-28T03:26:56.573Z"
   },
   {
    "duration": 15,
    "start_time": "2025-01-28T03:28:31.076Z"
   },
   {
    "duration": 491,
    "start_time": "2025-01-28T03:31:38.817Z"
   },
   {
    "duration": 993,
    "start_time": "2025-01-28T03:33:35.207Z"
   },
   {
    "duration": 415,
    "start_time": "2025-01-28T03:33:36.202Z"
   },
   {
    "duration": 164,
    "start_time": "2025-01-28T03:33:36.619Z"
   },
   {
    "duration": 25,
    "start_time": "2025-01-28T03:33:36.784Z"
   },
   {
    "duration": 233,
    "start_time": "2025-01-28T03:33:36.812Z"
   },
   {
    "duration": 274,
    "start_time": "2025-01-28T03:33:37.047Z"
   },
   {
    "duration": 523,
    "start_time": "2025-01-28T03:33:37.323Z"
   },
   {
    "duration": 52,
    "start_time": "2025-01-28T03:33:37.848Z"
   },
   {
    "duration": 75,
    "start_time": "2025-01-28T03:33:37.901Z"
   },
   {
    "duration": 441,
    "start_time": "2025-01-28T03:33:37.978Z"
   },
   {
    "duration": 75,
    "start_time": "2025-01-28T03:33:38.421Z"
   },
   {
    "duration": 231,
    "start_time": "2025-01-28T03:33:38.498Z"
   },
   {
    "duration": 105,
    "start_time": "2025-01-28T03:33:38.731Z"
   },
   {
    "duration": 578,
    "start_time": "2025-01-28T03:33:38.839Z"
   },
   {
    "duration": 5605,
    "start_time": "2025-01-28T03:33:39.419Z"
   },
   {
    "duration": 0,
    "start_time": "2025-01-28T03:33:45.025Z"
   },
   {
    "duration": 5416,
    "start_time": "2025-01-28T03:34:22.556Z"
   },
   {
    "duration": 213225,
    "start_time": "2025-01-28T03:34:37.390Z"
   },
   {
    "duration": 218024,
    "start_time": "2025-01-28T03:42:52.556Z"
   },
   {
    "duration": 213298,
    "start_time": "2025-01-28T03:48:15.838Z"
   },
   {
    "duration": 2836,
    "start_time": "2025-01-28T18:35:08.976Z"
   },
   {
    "duration": 472,
    "start_time": "2025-01-28T18:35:11.815Z"
   },
   {
    "duration": 148,
    "start_time": "2025-01-28T18:35:12.288Z"
   },
   {
    "duration": 28,
    "start_time": "2025-01-28T18:35:12.442Z"
   },
   {
    "duration": 246,
    "start_time": "2025-01-28T18:35:12.472Z"
   },
   {
    "duration": 268,
    "start_time": "2025-01-28T18:35:12.719Z"
   },
   {
    "duration": 538,
    "start_time": "2025-01-28T18:35:12.989Z"
   },
   {
    "duration": 56,
    "start_time": "2025-01-28T18:35:13.529Z"
   },
   {
    "duration": 72,
    "start_time": "2025-01-28T18:35:13.586Z"
   },
   {
    "duration": 441,
    "start_time": "2025-01-28T18:35:13.660Z"
   },
   {
    "duration": 76,
    "start_time": "2025-01-28T18:35:14.103Z"
   },
   {
    "duration": 246,
    "start_time": "2025-01-28T18:35:14.180Z"
   },
   {
    "duration": 103,
    "start_time": "2025-01-28T18:35:14.428Z"
   },
   {
    "duration": 596,
    "start_time": "2025-01-28T18:35:14.533Z"
   },
   {
    "duration": 5250,
    "start_time": "2025-01-28T18:35:15.130Z"
   },
   {
    "duration": 207994,
    "start_time": "2025-01-28T18:35:20.382Z"
   },
   {
    "duration": 3193,
    "start_time": "2025-01-28T18:55:18.864Z"
   },
   {
    "duration": 3197,
    "start_time": "2025-01-28T18:57:54.749Z"
   },
   {
    "duration": 1011,
    "start_time": "2025-01-28T18:58:13.189Z"
   },
   {
    "duration": 420,
    "start_time": "2025-01-28T18:58:14.202Z"
   },
   {
    "duration": 163,
    "start_time": "2025-01-28T18:58:14.624Z"
   },
   {
    "duration": 28,
    "start_time": "2025-01-28T18:58:14.789Z"
   },
   {
    "duration": 240,
    "start_time": "2025-01-28T18:58:14.820Z"
   },
   {
    "duration": 270,
    "start_time": "2025-01-28T18:58:15.061Z"
   },
   {
    "duration": 486,
    "start_time": "2025-01-28T18:58:15.333Z"
   },
   {
    "duration": 56,
    "start_time": "2025-01-28T18:58:15.821Z"
   },
   {
    "duration": 73,
    "start_time": "2025-01-28T18:58:15.879Z"
   },
   {
    "duration": 430,
    "start_time": "2025-01-28T18:58:15.954Z"
   },
   {
    "duration": 79,
    "start_time": "2025-01-28T18:58:16.386Z"
   },
   {
    "duration": 233,
    "start_time": "2025-01-28T18:58:16.466Z"
   },
   {
    "duration": 102,
    "start_time": "2025-01-28T18:58:16.701Z"
   },
   {
    "duration": 592,
    "start_time": "2025-01-28T18:58:16.805Z"
   },
   {
    "duration": 5549,
    "start_time": "2025-01-28T18:58:17.399Z"
   },
   {
    "duration": 223441,
    "start_time": "2025-01-28T18:58:22.951Z"
   },
   {
    "duration": 3163,
    "start_time": "2025-01-28T19:02:06.394Z"
   },
   {
    "duration": 243,
    "start_time": "2025-01-28T19:13:50.980Z"
   },
   {
    "duration": 1041,
    "start_time": "2025-01-28T19:14:07.890Z"
   },
   {
    "duration": 429,
    "start_time": "2025-01-28T19:14:08.933Z"
   },
   {
    "duration": 166,
    "start_time": "2025-01-28T19:14:09.364Z"
   },
   {
    "duration": 37,
    "start_time": "2025-01-28T19:14:09.531Z"
   },
   {
    "duration": 227,
    "start_time": "2025-01-28T19:14:09.571Z"
   },
   {
    "duration": 259,
    "start_time": "2025-01-28T19:14:09.800Z"
   },
   {
    "duration": 514,
    "start_time": "2025-01-28T19:14:10.061Z"
   },
   {
    "duration": 54,
    "start_time": "2025-01-28T19:14:10.578Z"
   },
   {
    "duration": 79,
    "start_time": "2025-01-28T19:14:10.634Z"
   },
   {
    "duration": 454,
    "start_time": "2025-01-28T19:14:10.715Z"
   },
   {
    "duration": 82,
    "start_time": "2025-01-28T19:14:11.172Z"
   },
   {
    "duration": 243,
    "start_time": "2025-01-28T19:14:11.256Z"
   },
   {
    "duration": 128,
    "start_time": "2025-01-28T19:14:11.501Z"
   },
   {
    "duration": 561,
    "start_time": "2025-01-28T19:14:11.632Z"
   },
   {
    "duration": 6486,
    "start_time": "2025-01-28T19:14:12.195Z"
   },
   {
    "duration": 230621,
    "start_time": "2025-01-28T19:14:18.687Z"
   },
   {
    "duration": 3137,
    "start_time": "2025-01-28T19:18:09.310Z"
   },
   {
    "duration": 271,
    "start_time": "2025-01-28T19:18:12.448Z"
   },
   {
    "duration": 17,
    "start_time": "2025-01-28T19:18:24.524Z"
   },
   {
    "duration": 1052,
    "start_time": "2025-01-28T19:23:45.379Z"
   },
   {
    "duration": 416,
    "start_time": "2025-01-28T19:23:46.433Z"
   },
   {
    "duration": 200,
    "start_time": "2025-01-28T19:23:46.851Z"
   },
   {
    "duration": 26,
    "start_time": "2025-01-28T19:23:47.053Z"
   },
   {
    "duration": 255,
    "start_time": "2025-01-28T19:23:47.083Z"
   },
   {
    "duration": 284,
    "start_time": "2025-01-28T19:23:47.339Z"
   },
   {
    "duration": 506,
    "start_time": "2025-01-28T19:23:47.625Z"
   },
   {
    "duration": 61,
    "start_time": "2025-01-28T19:23:48.133Z"
   },
   {
    "duration": 79,
    "start_time": "2025-01-28T19:23:48.196Z"
   },
   {
    "duration": 20,
    "start_time": "2025-01-28T19:23:48.277Z"
   },
   {
    "duration": 7,
    "start_time": "2025-01-28T19:23:48.299Z"
   },
   {
    "duration": 0,
    "start_time": "2025-01-28T19:23:48.308Z"
   },
   {
    "duration": 0,
    "start_time": "2025-01-28T19:23:48.309Z"
   },
   {
    "duration": 0,
    "start_time": "2025-01-28T19:23:48.311Z"
   },
   {
    "duration": 0,
    "start_time": "2025-01-28T19:23:48.313Z"
   },
   {
    "duration": 0,
    "start_time": "2025-01-28T19:23:48.314Z"
   },
   {
    "duration": 0,
    "start_time": "2025-01-28T19:23:48.316Z"
   },
   {
    "duration": 0,
    "start_time": "2025-01-28T19:23:48.317Z"
   },
   {
    "duration": 0,
    "start_time": "2025-01-28T19:23:48.342Z"
   },
   {
    "duration": 437,
    "start_time": "2025-01-28T19:24:03.696Z"
   },
   {
    "duration": 221,
    "start_time": "2025-01-28T19:24:51.720Z"
   },
   {
    "duration": 95,
    "start_time": "2025-01-28T19:24:57.620Z"
   },
   {
    "duration": 581,
    "start_time": "2025-01-28T19:30:08.952Z"
   },
   {
    "duration": 5711,
    "start_time": "2025-01-28T19:30:09.535Z"
   },
   {
    "duration": 219708,
    "start_time": "2025-01-28T19:30:17.861Z"
   },
   {
    "duration": 3082,
    "start_time": "2025-01-28T19:34:06.583Z"
   },
   {
    "duration": 243,
    "start_time": "2025-01-28T19:44:23.832Z"
   },
   {
    "duration": 729,
    "start_time": "2025-01-28T19:46:49.182Z"
   },
   {
    "duration": 167,
    "start_time": "2025-01-28T19:47:36.511Z"
   },
   {
    "duration": 73,
    "start_time": "2025-01-28T19:56:26.349Z"
   },
   {
    "duration": 274,
    "start_time": "2025-01-28T19:58:23.854Z"
   },
   {
    "duration": 758,
    "start_time": "2025-01-28T19:59:59.495Z"
   },
   {
    "duration": 57,
    "start_time": "2025-01-28T20:04:27.653Z"
   },
   {
    "duration": 58,
    "start_time": "2025-01-28T20:05:07.410Z"
   },
   {
    "duration": 1043,
    "start_time": "2025-01-28T20:08:46.587Z"
   },
   {
    "duration": 414,
    "start_time": "2025-01-28T20:08:47.632Z"
   },
   {
    "duration": 169,
    "start_time": "2025-01-28T20:08:48.048Z"
   },
   {
    "duration": 38,
    "start_time": "2025-01-28T20:08:48.220Z"
   },
   {
    "duration": 233,
    "start_time": "2025-01-28T20:08:48.260Z"
   },
   {
    "duration": 265,
    "start_time": "2025-01-28T20:08:48.495Z"
   },
   {
    "duration": 492,
    "start_time": "2025-01-28T20:08:48.761Z"
   },
   {
    "duration": 61,
    "start_time": "2025-01-28T20:08:49.255Z"
   },
   {
    "duration": 232,
    "start_time": "2025-01-28T20:08:49.318Z"
   },
   {
    "duration": 0,
    "start_time": "2025-01-28T20:08:49.552Z"
   },
   {
    "duration": 0,
    "start_time": "2025-01-28T20:08:49.552Z"
   },
   {
    "duration": 0,
    "start_time": "2025-01-28T20:08:49.553Z"
   },
   {
    "duration": 0,
    "start_time": "2025-01-28T20:08:49.555Z"
   },
   {
    "duration": 0,
    "start_time": "2025-01-28T20:08:49.556Z"
   },
   {
    "duration": 0,
    "start_time": "2025-01-28T20:08:49.556Z"
   },
   {
    "duration": 0,
    "start_time": "2025-01-28T20:08:49.558Z"
   },
   {
    "duration": 0,
    "start_time": "2025-01-28T20:08:49.559Z"
   },
   {
    "duration": 0,
    "start_time": "2025-01-28T20:08:49.559Z"
   },
   {
    "duration": 0,
    "start_time": "2025-01-28T20:08:49.561Z"
   },
   {
    "duration": 85,
    "start_time": "2025-01-28T20:10:31.534Z"
   },
   {
    "duration": 10,
    "start_time": "2025-01-28T20:10:37.708Z"
   },
   {
    "duration": 409,
    "start_time": "2025-01-28T20:10:39.823Z"
   },
   {
    "duration": 235,
    "start_time": "2025-01-28T20:10:46.693Z"
   },
   {
    "duration": 101,
    "start_time": "2025-01-28T20:10:47.655Z"
   },
   {
    "duration": 573,
    "start_time": "2025-01-28T20:10:48.436Z"
   },
   {
    "duration": 5789,
    "start_time": "2025-01-28T20:10:49.292Z"
   },
   {
    "duration": 221739,
    "start_time": "2025-01-28T20:10:55.084Z"
   },
   {
    "duration": 2934,
    "start_time": "2025-01-28T20:14:36.825Z"
   },
   {
    "duration": 142,
    "start_time": "2025-01-28T20:30:00.264Z"
   },
   {
    "duration": 665,
    "start_time": "2025-01-28T20:30:04.931Z"
   },
   {
    "duration": 1051,
    "start_time": "2025-01-28T20:37:06.751Z"
   },
   {
    "duration": 423,
    "start_time": "2025-01-28T20:37:07.805Z"
   },
   {
    "duration": 169,
    "start_time": "2025-01-28T20:37:08.229Z"
   },
   {
    "duration": 27,
    "start_time": "2025-01-28T20:37:08.401Z"
   },
   {
    "duration": 257,
    "start_time": "2025-01-28T20:37:08.444Z"
   },
   {
    "duration": 278,
    "start_time": "2025-01-28T20:37:08.703Z"
   },
   {
    "duration": 504,
    "start_time": "2025-01-28T20:37:08.983Z"
   },
   {
    "duration": 57,
    "start_time": "2025-01-28T20:37:09.490Z"
   },
   {
    "duration": 93,
    "start_time": "2025-01-28T20:37:09.549Z"
   },
   {
    "duration": 9,
    "start_time": "2025-01-28T20:37:09.644Z"
   },
   {
    "duration": 414,
    "start_time": "2025-01-28T20:37:09.654Z"
   },
   {
    "duration": 249,
    "start_time": "2025-01-28T20:37:10.070Z"
   },
   {
    "duration": 102,
    "start_time": "2025-01-28T20:37:10.321Z"
   },
   {
    "duration": 583,
    "start_time": "2025-01-28T20:37:10.427Z"
   },
   {
    "duration": 5535,
    "start_time": "2025-01-28T20:37:11.011Z"
   },
   {
    "duration": 220550,
    "start_time": "2025-01-28T20:37:16.549Z"
   },
   {
    "duration": 3040,
    "start_time": "2025-01-28T20:40:57.102Z"
   },
   {
    "duration": 825,
    "start_time": "2025-01-28T20:41:00.146Z"
   },
   {
    "duration": 139,
    "start_time": "2025-01-28T20:53:22.591Z"
   },
   {
    "duration": 10217,
    "start_time": "2025-01-28T20:53:29.171Z"
   },
   {
    "duration": 10217,
    "start_time": "2025-01-28T20:55:31.440Z"
   },
   {
    "duration": 10214,
    "start_time": "2025-01-28T20:55:55.829Z"
   },
   {
    "duration": 10184,
    "start_time": "2025-01-28T21:01:56.768Z"
   },
   {
    "duration": 77,
    "start_time": "2025-01-28T21:18:00.471Z"
   },
   {
    "duration": 1063,
    "start_time": "2025-01-28T21:18:06.842Z"
   },
   {
    "duration": 427,
    "start_time": "2025-01-28T21:18:07.910Z"
   },
   {
    "duration": 194,
    "start_time": "2025-01-28T21:18:08.339Z"
   },
   {
    "duration": 33,
    "start_time": "2025-01-28T21:18:08.534Z"
   },
   {
    "duration": 259,
    "start_time": "2025-01-28T21:18:08.570Z"
   },
   {
    "duration": 274,
    "start_time": "2025-01-28T21:18:08.830Z"
   },
   {
    "duration": 547,
    "start_time": "2025-01-28T21:18:09.105Z"
   },
   {
    "duration": 57,
    "start_time": "2025-01-28T21:18:09.653Z"
   },
   {
    "duration": 92,
    "start_time": "2025-01-28T21:18:09.712Z"
   },
   {
    "duration": 8,
    "start_time": "2025-01-28T21:18:09.806Z"
   },
   {
    "duration": 414,
    "start_time": "2025-01-28T21:18:09.816Z"
   },
   {
    "duration": 252,
    "start_time": "2025-01-28T21:18:10.232Z"
   },
   {
    "duration": 111,
    "start_time": "2025-01-28T21:18:10.487Z"
   },
   {
    "duration": 565,
    "start_time": "2025-01-28T21:18:10.600Z"
   },
   {
    "duration": 5577,
    "start_time": "2025-01-28T21:18:11.167Z"
   },
   {
    "duration": 218914,
    "start_time": "2025-01-28T21:18:16.745Z"
   },
   {
    "duration": 3009,
    "start_time": "2025-01-28T21:21:55.661Z"
   },
   {
    "duration": 70,
    "start_time": "2025-01-28T21:21:58.742Z"
   },
   {
    "duration": 10324,
    "start_time": "2025-01-28T21:21:58.814Z"
   },
   {
    "duration": 811,
    "start_time": "2025-01-28T21:26:31.281Z"
   },
   {
    "duration": 18,
    "start_time": "2025-01-28T21:50:32.762Z"
   },
   {
    "duration": 10333,
    "start_time": "2025-01-28T21:51:17.270Z"
   },
   {
    "duration": 10182,
    "start_time": "2025-01-28T21:52:30.254Z"
   },
   {
    "duration": 6,
    "start_time": "2025-01-28T21:55:40.854Z"
   },
   {
    "duration": 10162,
    "start_time": "2025-01-28T21:56:19.728Z"
   },
   {
    "duration": 9494,
    "start_time": "2025-01-28T21:57:39.907Z"
   },
   {
    "duration": 5,
    "start_time": "2025-01-28T22:04:33.797Z"
   },
   {
    "duration": 9508,
    "start_time": "2025-01-28T22:04:53.826Z"
   },
   {
    "duration": 9563,
    "start_time": "2025-01-28T22:05:18.360Z"
   },
   {
    "duration": 9452,
    "start_time": "2025-01-28T22:05:51.314Z"
   },
   {
    "duration": 14,
    "start_time": "2025-01-28T22:12:44.578Z"
   },
   {
    "duration": 1056,
    "start_time": "2025-01-28T22:12:59.298Z"
   },
   {
    "duration": 425,
    "start_time": "2025-01-28T22:13:00.356Z"
   },
   {
    "duration": 163,
    "start_time": "2025-01-28T22:13:00.783Z"
   },
   {
    "duration": 32,
    "start_time": "2025-01-28T22:13:00.949Z"
   },
   {
    "duration": 285,
    "start_time": "2025-01-28T22:13:00.985Z"
   },
   {
    "duration": 272,
    "start_time": "2025-01-28T22:13:01.271Z"
   },
   {
    "duration": 507,
    "start_time": "2025-01-28T22:13:01.544Z"
   },
   {
    "duration": 52,
    "start_time": "2025-01-28T22:13:02.054Z"
   },
   {
    "duration": 91,
    "start_time": "2025-01-28T22:13:02.108Z"
   },
   {
    "duration": 8,
    "start_time": "2025-01-28T22:13:02.202Z"
   },
   {
    "duration": 437,
    "start_time": "2025-01-28T22:13:02.212Z"
   },
   {
    "duration": 244,
    "start_time": "2025-01-28T22:13:02.652Z"
   },
   {
    "duration": 105,
    "start_time": "2025-01-28T22:13:02.898Z"
   },
   {
    "duration": 553,
    "start_time": "2025-01-28T22:13:03.005Z"
   },
   {
    "duration": 6586,
    "start_time": "2025-01-28T22:13:03.559Z"
   },
   {
    "duration": 262404,
    "start_time": "2025-01-28T22:13:10.148Z"
   },
   {
    "duration": 3399,
    "start_time": "2025-01-28T22:17:32.554Z"
   },
   {
    "duration": 796,
    "start_time": "2025-01-28T22:17:35.956Z"
   },
   {
    "duration": 0,
    "start_time": "2025-01-28T22:17:36.754Z"
   },
   {
    "duration": 14,
    "start_time": "2025-01-28T22:18:36.794Z"
   },
   {
    "duration": 1068,
    "start_time": "2025-01-28T22:21:25.758Z"
   },
   {
    "duration": 414,
    "start_time": "2025-01-28T22:21:26.829Z"
   },
   {
    "duration": 162,
    "start_time": "2025-01-28T22:21:27.245Z"
   },
   {
    "duration": 40,
    "start_time": "2025-01-28T22:21:27.408Z"
   },
   {
    "duration": 225,
    "start_time": "2025-01-28T22:21:27.450Z"
   },
   {
    "duration": 260,
    "start_time": "2025-01-28T22:21:27.677Z"
   },
   {
    "duration": 512,
    "start_time": "2025-01-28T22:21:27.939Z"
   },
   {
    "duration": 53,
    "start_time": "2025-01-28T22:21:28.453Z"
   },
   {
    "duration": 94,
    "start_time": "2025-01-28T22:21:28.508Z"
   },
   {
    "duration": 8,
    "start_time": "2025-01-28T22:21:28.604Z"
   },
   {
    "duration": 414,
    "start_time": "2025-01-28T22:21:28.614Z"
   },
   {
    "duration": 2,
    "start_time": "2025-01-28T22:21:29.042Z"
   },
   {
    "duration": 9,
    "start_time": "2025-01-28T22:21:29.046Z"
   },
   {
    "duration": 248,
    "start_time": "2025-01-28T22:21:29.058Z"
   },
   {
    "duration": 81,
    "start_time": "2025-01-28T22:21:29.308Z"
   },
   {
    "duration": 177,
    "start_time": "2025-01-28T22:21:29.391Z"
   },
   {
    "duration": 0,
    "start_time": "2025-01-28T22:21:29.569Z"
   },
   {
    "duration": 0,
    "start_time": "2025-01-28T22:21:29.570Z"
   },
   {
    "duration": 0,
    "start_time": "2025-01-28T22:21:29.572Z"
   },
   {
    "duration": 0,
    "start_time": "2025-01-28T22:21:29.573Z"
   },
   {
    "duration": 0,
    "start_time": "2025-01-28T22:21:29.574Z"
   },
   {
    "duration": 1118,
    "start_time": "2025-01-28T22:22:05.148Z"
   },
   {
    "duration": 435,
    "start_time": "2025-01-28T22:22:06.268Z"
   },
   {
    "duration": 157,
    "start_time": "2025-01-28T22:22:06.705Z"
   },
   {
    "duration": 27,
    "start_time": "2025-01-28T22:22:06.865Z"
   },
   {
    "duration": 268,
    "start_time": "2025-01-28T22:22:06.894Z"
   },
   {
    "duration": 284,
    "start_time": "2025-01-28T22:22:07.164Z"
   },
   {
    "duration": 502,
    "start_time": "2025-01-28T22:22:07.449Z"
   },
   {
    "duration": 60,
    "start_time": "2025-01-28T22:22:07.953Z"
   },
   {
    "duration": 94,
    "start_time": "2025-01-28T22:22:08.016Z"
   },
   {
    "duration": 9,
    "start_time": "2025-01-28T22:22:08.113Z"
   },
   {
    "duration": 426,
    "start_time": "2025-01-28T22:22:08.123Z"
   },
   {
    "duration": 249,
    "start_time": "2025-01-28T22:22:08.551Z"
   },
   {
    "duration": 97,
    "start_time": "2025-01-28T22:22:08.802Z"
   },
   {
    "duration": 3,
    "start_time": "2025-01-28T22:22:08.901Z"
   },
   {
    "duration": 540,
    "start_time": "2025-01-28T22:22:08.906Z"
   },
   {
    "duration": 6719,
    "start_time": "2025-01-28T22:22:09.448Z"
   },
   {
    "duration": 257525,
    "start_time": "2025-01-28T22:22:16.168Z"
   },
   {
    "duration": 3550,
    "start_time": "2025-01-28T22:26:33.695Z"
   },
   {
    "duration": 15,
    "start_time": "2025-01-28T22:26:37.247Z"
   },
   {
    "duration": 799,
    "start_time": "2025-01-28T22:26:37.264Z"
   },
   {
    "duration": 0,
    "start_time": "2025-01-28T22:26:38.065Z"
   },
   {
    "duration": 335377,
    "start_time": "2025-01-28T22:27:16.504Z"
   },
   {
    "duration": 169,
    "start_time": "2025-01-28T23:28:30.442Z"
   },
   {
    "duration": 1074,
    "start_time": "2025-01-28T23:32:20.330Z"
   },
   {
    "duration": 413,
    "start_time": "2025-01-28T23:32:21.407Z"
   },
   {
    "duration": 170,
    "start_time": "2025-01-28T23:32:21.822Z"
   },
   {
    "duration": 26,
    "start_time": "2025-01-28T23:32:21.993Z"
   },
   {
    "duration": 269,
    "start_time": "2025-01-28T23:32:22.022Z"
   },
   {
    "duration": 265,
    "start_time": "2025-01-28T23:32:22.293Z"
   },
   {
    "duration": 483,
    "start_time": "2025-01-28T23:32:22.560Z"
   },
   {
    "duration": 57,
    "start_time": "2025-01-28T23:32:23.045Z"
   },
   {
    "duration": 110,
    "start_time": "2025-01-28T23:32:23.104Z"
   },
   {
    "duration": 9,
    "start_time": "2025-01-28T23:32:23.216Z"
   },
   {
    "duration": 421,
    "start_time": "2025-01-28T23:32:23.227Z"
   },
   {
    "duration": 248,
    "start_time": "2025-01-28T23:32:23.650Z"
   },
   {
    "duration": 102,
    "start_time": "2025-01-28T23:32:23.899Z"
   },
   {
    "duration": 3,
    "start_time": "2025-01-28T23:32:24.003Z"
   },
   {
    "duration": 549,
    "start_time": "2025-01-28T23:32:24.007Z"
   },
   {
    "duration": 6789,
    "start_time": "2025-01-28T23:32:24.557Z"
   },
   {
    "duration": 256291,
    "start_time": "2025-01-28T23:32:31.348Z"
   },
   {
    "duration": 223420,
    "start_time": "2025-01-28T23:36:47.640Z"
   },
   {
    "duration": 187,
    "start_time": "2025-01-28T23:40:31.062Z"
   },
   {
    "duration": 660,
    "start_time": "2025-01-28T23:40:31.251Z"
   },
   {
    "duration": 0,
    "start_time": "2025-01-28T23:40:31.913Z"
   },
   {
    "duration": 0,
    "start_time": "2025-01-28T23:40:31.914Z"
   },
   {
    "duration": 0,
    "start_time": "2025-01-28T23:40:31.916Z"
   },
   {
    "duration": 1072,
    "start_time": "2025-01-28T23:44:11.434Z"
   },
   {
    "duration": 414,
    "start_time": "2025-01-28T23:44:12.509Z"
   },
   {
    "duration": 157,
    "start_time": "2025-01-28T23:44:12.925Z"
   },
   {
    "duration": 24,
    "start_time": "2025-01-28T23:44:13.083Z"
   },
   {
    "duration": 246,
    "start_time": "2025-01-28T23:44:13.110Z"
   },
   {
    "duration": 273,
    "start_time": "2025-01-28T23:44:13.357Z"
   },
   {
    "duration": 500,
    "start_time": "2025-01-28T23:44:13.632Z"
   },
   {
    "duration": 60,
    "start_time": "2025-01-28T23:44:14.134Z"
   },
   {
    "duration": 102,
    "start_time": "2025-01-28T23:44:14.196Z"
   },
   {
    "duration": 8,
    "start_time": "2025-01-28T23:44:14.301Z"
   },
   {
    "duration": 417,
    "start_time": "2025-01-28T23:44:14.311Z"
   },
   {
    "duration": 244,
    "start_time": "2025-01-28T23:44:14.730Z"
   },
   {
    "duration": 105,
    "start_time": "2025-01-28T23:44:14.976Z"
   },
   {
    "duration": 2,
    "start_time": "2025-01-28T23:44:15.085Z"
   },
   {
    "duration": 546,
    "start_time": "2025-01-28T23:44:15.090Z"
   },
   {
    "duration": 6606,
    "start_time": "2025-01-28T23:44:15.637Z"
   },
   {
    "duration": 257493,
    "start_time": "2025-01-28T23:44:22.245Z"
   },
   {
    "duration": 73616,
    "start_time": "2025-01-28T23:48:39.743Z"
   },
   {
    "duration": 0,
    "start_time": "2025-01-28T23:49:53.361Z"
   },
   {
    "duration": 0,
    "start_time": "2025-01-28T23:49:53.362Z"
   },
   {
    "duration": 0,
    "start_time": "2025-01-28T23:49:53.364Z"
   },
   {
    "duration": 0,
    "start_time": "2025-01-28T23:49:53.365Z"
   },
   {
    "duration": 224103,
    "start_time": "2025-01-28T23:50:03.941Z"
   },
   {
    "duration": 175,
    "start_time": "2025-01-28T23:54:19.650Z"
   },
   {
    "duration": 2,
    "start_time": "2025-01-28T23:54:22.693Z"
   },
   {
    "duration": 3,
    "start_time": "2025-01-28T23:54:27.901Z"
   },
   {
    "duration": 523,
    "start_time": "2025-01-28T23:55:16.563Z"
   },
   {
    "duration": 1137,
    "start_time": "2025-01-28T23:57:28.759Z"
   },
   {
    "duration": 430,
    "start_time": "2025-01-28T23:57:29.899Z"
   },
   {
    "duration": 193,
    "start_time": "2025-01-28T23:57:30.330Z"
   },
   {
    "duration": 37,
    "start_time": "2025-01-28T23:57:30.525Z"
   },
   {
    "duration": 259,
    "start_time": "2025-01-28T23:57:30.565Z"
   },
   {
    "duration": 287,
    "start_time": "2025-01-28T23:57:30.825Z"
   },
   {
    "duration": 513,
    "start_time": "2025-01-28T23:57:31.113Z"
   },
   {
    "duration": 75,
    "start_time": "2025-01-28T23:57:31.629Z"
   },
   {
    "duration": 103,
    "start_time": "2025-01-28T23:57:31.706Z"
   },
   {
    "duration": 8,
    "start_time": "2025-01-28T23:57:31.812Z"
   },
   {
    "duration": 421,
    "start_time": "2025-01-28T23:57:31.822Z"
   },
   {
    "duration": 237,
    "start_time": "2025-01-28T23:57:32.245Z"
   },
   {
    "duration": 104,
    "start_time": "2025-01-28T23:57:32.483Z"
   },
   {
    "duration": 2,
    "start_time": "2025-01-28T23:57:32.590Z"
   },
   {
    "duration": 530,
    "start_time": "2025-01-28T23:57:32.594Z"
   },
   {
    "duration": 6438,
    "start_time": "2025-01-28T23:57:33.126Z"
   },
   {
    "duration": 261543,
    "start_time": "2025-01-28T23:57:39.566Z"
   },
   {
    "duration": 222353,
    "start_time": "2025-01-29T00:02:01.111Z"
   },
   {
    "duration": 3398,
    "start_time": "2025-01-29T00:05:43.466Z"
   },
   {
    "duration": 257,
    "start_time": "2025-01-29T00:05:46.865Z"
   },
   {
    "duration": 9571,
    "start_time": "2025-01-29T00:05:47.124Z"
   },
   {
    "duration": 583,
    "start_time": "2025-01-29T00:05:56.697Z"
   },
   {
    "duration": 1110,
    "start_time": "2025-01-29T00:31:34.875Z"
   },
   {
    "duration": 412,
    "start_time": "2025-01-29T00:31:35.987Z"
   },
   {
    "duration": 172,
    "start_time": "2025-01-29T00:31:36.401Z"
   },
   {
    "duration": 25,
    "start_time": "2025-01-29T00:31:36.576Z"
   },
   {
    "duration": 234,
    "start_time": "2025-01-29T00:31:36.604Z"
   },
   {
    "duration": 258,
    "start_time": "2025-01-29T00:31:36.842Z"
   },
   {
    "duration": 546,
    "start_time": "2025-01-29T00:31:37.101Z"
   },
   {
    "duration": 53,
    "start_time": "2025-01-29T00:31:37.650Z"
   },
   {
    "duration": 96,
    "start_time": "2025-01-29T00:31:37.704Z"
   },
   {
    "duration": 8,
    "start_time": "2025-01-29T00:31:37.802Z"
   },
   {
    "duration": 461,
    "start_time": "2025-01-29T00:31:37.811Z"
   },
   {
    "duration": 238,
    "start_time": "2025-01-29T00:31:38.274Z"
   },
   {
    "duration": 122,
    "start_time": "2025-01-29T00:31:38.514Z"
   },
   {
    "duration": 558,
    "start_time": "2025-01-29T00:31:38.640Z"
   },
   {
    "duration": 6469,
    "start_time": "2025-01-29T00:31:39.199Z"
   },
   {
    "duration": 256211,
    "start_time": "2025-01-29T00:31:45.670Z"
   },
   {
    "duration": 253,
    "start_time": "2025-01-29T00:36:01.882Z"
   },
   {
    "duration": 0,
    "start_time": "2025-01-29T00:36:02.137Z"
   },
   {
    "duration": 0,
    "start_time": "2025-01-29T00:36:02.138Z"
   },
   {
    "duration": 0,
    "start_time": "2025-01-29T00:36:02.142Z"
   },
   {
    "duration": 0,
    "start_time": "2025-01-29T00:36:02.144Z"
   },
   {
    "duration": 0,
    "start_time": "2025-01-29T00:36:02.145Z"
   },
   {
    "duration": 1165,
    "start_time": "2025-01-29T00:36:47.828Z"
   },
   {
    "duration": 444,
    "start_time": "2025-01-29T00:36:48.995Z"
   },
   {
    "duration": 194,
    "start_time": "2025-01-29T00:36:49.440Z"
   },
   {
    "duration": 26,
    "start_time": "2025-01-29T00:36:49.637Z"
   },
   {
    "duration": 239,
    "start_time": "2025-01-29T00:36:49.664Z"
   },
   {
    "duration": 271,
    "start_time": "2025-01-29T00:36:49.904Z"
   },
   {
    "duration": 506,
    "start_time": "2025-01-29T00:36:50.177Z"
   },
   {
    "duration": 56,
    "start_time": "2025-01-29T00:36:50.685Z"
   },
   {
    "duration": 92,
    "start_time": "2025-01-29T00:36:50.743Z"
   },
   {
    "duration": 10,
    "start_time": "2025-01-29T00:36:50.844Z"
   },
   {
    "duration": 419,
    "start_time": "2025-01-29T00:36:50.856Z"
   },
   {
    "duration": 243,
    "start_time": "2025-01-29T00:36:51.276Z"
   },
   {
    "duration": 104,
    "start_time": "2025-01-29T00:36:51.521Z"
   },
   {
    "duration": 521,
    "start_time": "2025-01-29T00:36:51.626Z"
   },
   {
    "duration": 6611,
    "start_time": "2025-01-29T00:36:52.149Z"
   },
   {
    "duration": 261703,
    "start_time": "2025-01-29T00:36:58.766Z"
   },
   {
    "duration": 264,
    "start_time": "2025-01-29T00:41:20.471Z"
   },
   {
    "duration": 0,
    "start_time": "2025-01-29T00:41:20.742Z"
   },
   {
    "duration": 0,
    "start_time": "2025-01-29T00:41:20.743Z"
   },
   {
    "duration": 0,
    "start_time": "2025-01-29T00:41:20.744Z"
   },
   {
    "duration": 0,
    "start_time": "2025-01-29T00:41:20.746Z"
   },
   {
    "duration": 0,
    "start_time": "2025-01-29T00:41:20.747Z"
   },
   {
    "duration": 1800253,
    "start_time": "2025-01-29T00:44:46.315Z"
   },
   {
    "duration": 3434068,
    "start_time": "2025-01-29T01:15:04.888Z"
   },
   {
    "duration": 221744,
    "start_time": "2025-01-29T02:13:02.427Z"
   },
   {
    "duration": 28396,
    "start_time": "2025-01-29T02:23:09.666Z"
   },
   {
    "duration": 3498,
    "start_time": "2025-01-29T02:24:21.668Z"
   },
   {
    "duration": 28446,
    "start_time": "2025-01-29T02:24:51.499Z"
   },
   {
    "duration": 39240,
    "start_time": "2025-01-29T02:25:34.614Z"
   },
   {
    "duration": 66946,
    "start_time": "2025-01-29T02:26:39.205Z"
   },
   {
    "duration": 142,
    "start_time": "2025-01-29T02:28:17.301Z"
   },
   {
    "duration": 178602,
    "start_time": "2025-01-29T02:33:50.095Z"
   },
   {
    "duration": 9451,
    "start_time": "2025-01-29T02:37:04.154Z"
   },
   {
    "duration": 4,
    "start_time": "2025-01-29T02:38:10.044Z"
   },
   {
    "duration": 7,
    "start_time": "2025-01-29T02:38:47.054Z"
   },
   {
    "duration": 15292,
    "start_time": "2025-01-29T02:39:10.987Z"
   },
   {
    "duration": 20905,
    "start_time": "2025-01-29T02:40:08.414Z"
   },
   {
    "duration": 1096,
    "start_time": "2025-01-29T03:18:56.848Z"
   },
   {
    "duration": 414,
    "start_time": "2025-01-29T03:18:57.945Z"
   },
   {
    "duration": 188,
    "start_time": "2025-01-29T03:18:58.361Z"
   },
   {
    "duration": 25,
    "start_time": "2025-01-29T03:18:58.550Z"
   },
   {
    "duration": 256,
    "start_time": "2025-01-29T03:18:58.578Z"
   },
   {
    "duration": 287,
    "start_time": "2025-01-29T03:18:58.836Z"
   },
   {
    "duration": 504,
    "start_time": "2025-01-29T03:18:59.127Z"
   },
   {
    "duration": 59,
    "start_time": "2025-01-29T03:18:59.632Z"
   },
   {
    "duration": 94,
    "start_time": "2025-01-29T03:18:59.692Z"
   },
   {
    "duration": 9,
    "start_time": "2025-01-29T03:18:59.787Z"
   },
   {
    "duration": 417,
    "start_time": "2025-01-29T03:18:59.798Z"
   },
   {
    "duration": 243,
    "start_time": "2025-01-29T03:19:00.217Z"
   },
   {
    "duration": 104,
    "start_time": "2025-01-29T03:19:00.461Z"
   },
   {
    "duration": 545,
    "start_time": "2025-01-29T03:19:00.569Z"
   },
   {
    "duration": 6728,
    "start_time": "2025-01-29T03:19:01.116Z"
   },
   {
    "duration": 255338,
    "start_time": "2025-01-29T03:19:07.846Z"
   },
   {
    "duration": 2517682,
    "start_time": "2025-01-29T03:23:23.186Z"
   },
   {
    "duration": 221289,
    "start_time": "2025-01-29T04:05:20.871Z"
   },
   {
    "duration": 66681,
    "start_time": "2025-01-29T04:09:02.162Z"
   },
   {
    "duration": 3406,
    "start_time": "2025-01-29T04:10:08.846Z"
   },
   {
    "duration": 175,
    "start_time": "2025-01-29T04:10:12.254Z"
   },
   {
    "duration": 177443,
    "start_time": "2025-01-29T04:10:12.431Z"
   },
   {
    "duration": 4248844,
    "start_time": "2025-01-29T04:13:09.876Z"
   },
   {
    "duration": 0,
    "start_time": "2025-01-29T05:23:58.722Z"
   },
   {
    "duration": 387481,
    "start_time": "2025-01-29T05:24:32.241Z"
   },
   {
    "duration": 9386,
    "start_time": "2025-01-29T05:32:06.047Z"
   },
   {
    "duration": 4,
    "start_time": "2025-01-29T05:42:37.969Z"
   },
   {
    "duration": 16,
    "start_time": "2025-01-29T05:43:28.862Z"
   },
   {
    "duration": 22,
    "start_time": "2025-01-29T05:45:36.674Z"
   },
   {
    "duration": 4,
    "start_time": "2025-01-29T05:45:44.848Z"
   },
   {
    "duration": 44,
    "start_time": "2025-01-29T05:45:50.700Z"
   },
   {
    "duration": 1059,
    "start_time": "2025-01-29T05:47:14.544Z"
   },
   {
    "duration": 395,
    "start_time": "2025-01-29T05:47:15.605Z"
   },
   {
    "duration": 183,
    "start_time": "2025-01-29T05:47:16.002Z"
   },
   {
    "duration": 26,
    "start_time": "2025-01-29T05:47:16.188Z"
   },
   {
    "duration": 257,
    "start_time": "2025-01-29T05:47:16.216Z"
   },
   {
    "duration": 272,
    "start_time": "2025-01-29T05:47:16.475Z"
   },
   {
    "duration": 491,
    "start_time": "2025-01-29T05:47:16.748Z"
   },
   {
    "duration": 67,
    "start_time": "2025-01-29T05:47:17.241Z"
   },
   {
    "duration": 94,
    "start_time": "2025-01-29T05:47:17.310Z"
   },
   {
    "duration": 8,
    "start_time": "2025-01-29T05:47:17.408Z"
   },
   {
    "duration": 402,
    "start_time": "2025-01-29T05:47:17.418Z"
   },
   {
    "duration": 240,
    "start_time": "2025-01-29T05:47:17.822Z"
   },
   {
    "duration": 98,
    "start_time": "2025-01-29T05:47:18.063Z"
   },
   {
    "duration": 534,
    "start_time": "2025-01-29T05:47:18.163Z"
   },
   {
    "duration": 4,
    "start_time": "2025-01-29T05:47:18.699Z"
   },
   {
    "duration": 0,
    "start_time": "2025-01-29T05:47:18.705Z"
   },
   {
    "duration": 0,
    "start_time": "2025-01-29T05:47:18.707Z"
   },
   {
    "duration": 0,
    "start_time": "2025-01-29T05:47:18.708Z"
   },
   {
    "duration": 0,
    "start_time": "2025-01-29T05:47:18.710Z"
   },
   {
    "duration": 0,
    "start_time": "2025-01-29T05:47:18.711Z"
   },
   {
    "duration": 0,
    "start_time": "2025-01-29T05:47:18.712Z"
   },
   {
    "duration": 0,
    "start_time": "2025-01-29T05:47:18.714Z"
   },
   {
    "duration": 0,
    "start_time": "2025-01-29T05:47:18.715Z"
   },
   {
    "duration": 0,
    "start_time": "2025-01-29T05:47:18.743Z"
   },
   {
    "duration": 0,
    "start_time": "2025-01-29T05:47:18.744Z"
   },
   {
    "duration": 0,
    "start_time": "2025-01-29T05:47:18.745Z"
   },
   {
    "duration": 0,
    "start_time": "2025-01-29T05:47:18.746Z"
   },
   {
    "duration": 0,
    "start_time": "2025-01-29T05:47:18.747Z"
   },
   {
    "duration": 0,
    "start_time": "2025-01-29T05:47:18.748Z"
   },
   {
    "duration": 0,
    "start_time": "2025-01-29T05:47:18.749Z"
   },
   {
    "duration": 6212,
    "start_time": "2025-01-29T05:47:32.062Z"
   },
   {
    "duration": 232,
    "start_time": "2025-01-29T05:47:43.784Z"
   },
   {
    "duration": 4,
    "start_time": "2025-01-29T05:47:54.177Z"
   },
   {
    "duration": 6362,
    "start_time": "2025-01-29T05:47:58.204Z"
   },
   {
    "duration": 2949,
    "start_time": "2025-01-29T16:40:32.907Z"
   },
   {
    "duration": 449,
    "start_time": "2025-01-29T16:40:35.858Z"
   },
   {
    "duration": 182,
    "start_time": "2025-01-29T16:40:36.309Z"
   },
   {
    "duration": 24,
    "start_time": "2025-01-29T16:40:36.494Z"
   },
   {
    "duration": 248,
    "start_time": "2025-01-29T16:40:36.519Z"
   },
   {
    "duration": 264,
    "start_time": "2025-01-29T16:40:36.769Z"
   },
   {
    "duration": 536,
    "start_time": "2025-01-29T16:40:37.035Z"
   },
   {
    "duration": 55,
    "start_time": "2025-01-29T16:40:37.573Z"
   },
   {
    "duration": 100,
    "start_time": "2025-01-29T16:40:37.630Z"
   },
   {
    "duration": 9,
    "start_time": "2025-01-29T16:40:37.733Z"
   },
   {
    "duration": 426,
    "start_time": "2025-01-29T16:40:37.744Z"
   },
   {
    "duration": 237,
    "start_time": "2025-01-29T16:40:38.172Z"
   },
   {
    "duration": 99,
    "start_time": "2025-01-29T16:40:38.411Z"
   },
   {
    "duration": 518,
    "start_time": "2025-01-29T16:40:38.512Z"
   },
   {
    "duration": 236,
    "start_time": "2025-01-29T16:40:39.032Z"
   },
   {
    "duration": 0,
    "start_time": "2025-01-29T16:40:39.270Z"
   },
   {
    "duration": 0,
    "start_time": "2025-01-29T16:40:39.271Z"
   },
   {
    "duration": 0,
    "start_time": "2025-01-29T16:40:39.271Z"
   },
   {
    "duration": 0,
    "start_time": "2025-01-29T16:40:39.273Z"
   },
   {
    "duration": 0,
    "start_time": "2025-01-29T16:40:39.274Z"
   },
   {
    "duration": 0,
    "start_time": "2025-01-29T16:40:39.286Z"
   },
   {
    "duration": 0,
    "start_time": "2025-01-29T16:40:39.287Z"
   },
   {
    "duration": 0,
    "start_time": "2025-01-29T16:40:39.289Z"
   },
   {
    "duration": 0,
    "start_time": "2025-01-29T16:40:39.291Z"
   },
   {
    "duration": 0,
    "start_time": "2025-01-29T16:40:39.292Z"
   },
   {
    "duration": 0,
    "start_time": "2025-01-29T16:40:39.293Z"
   },
   {
    "duration": 6593,
    "start_time": "2025-01-29T16:43:02.318Z"
   },
   {
    "duration": 16,
    "start_time": "2025-01-29T16:45:11.063Z"
   },
   {
    "duration": 4,
    "start_time": "2025-01-29T16:45:52.817Z"
   },
   {
    "duration": 15,
    "start_time": "2025-01-29T16:45:57.230Z"
   },
   {
    "duration": 6453,
    "start_time": "2025-01-29T16:46:09.860Z"
   },
   {
    "duration": 254622,
    "start_time": "2025-01-29T16:47:07.433Z"
   },
   {
    "duration": 254277,
    "start_time": "2025-01-29T16:53:26.709Z"
   },
   {
    "duration": 632630,
    "start_time": "2025-01-29T16:59:52.359Z"
   },
   {
    "duration": 1285987,
    "start_time": "2025-01-29T17:10:33.227Z"
   },
   {
    "duration": 5217,
    "start_time": "2025-01-29T17:32:12.844Z"
   },
   {
    "duration": 48374,
    "start_time": "2025-01-29T17:32:27.116Z"
   },
   {
    "duration": 1032,
    "start_time": "2025-01-29T17:33:29.763Z"
   },
   {
    "duration": 401,
    "start_time": "2025-01-29T17:33:30.798Z"
   },
   {
    "duration": 157,
    "start_time": "2025-01-29T17:33:31.201Z"
   },
   {
    "duration": 33,
    "start_time": "2025-01-29T17:33:31.360Z"
   },
   {
    "duration": 260,
    "start_time": "2025-01-29T17:33:31.396Z"
   },
   {
    "duration": 269,
    "start_time": "2025-01-29T17:33:31.658Z"
   },
   {
    "duration": 518,
    "start_time": "2025-01-29T17:33:31.929Z"
   },
   {
    "duration": 55,
    "start_time": "2025-01-29T17:33:32.448Z"
   },
   {
    "duration": 94,
    "start_time": "2025-01-29T17:33:32.505Z"
   },
   {
    "duration": 8,
    "start_time": "2025-01-29T17:33:32.601Z"
   },
   {
    "duration": 426,
    "start_time": "2025-01-29T17:33:32.611Z"
   },
   {
    "duration": 256,
    "start_time": "2025-01-29T17:33:33.039Z"
   },
   {
    "duration": 103,
    "start_time": "2025-01-29T17:33:33.297Z"
   },
   {
    "duration": 541,
    "start_time": "2025-01-29T17:33:33.404Z"
   },
   {
    "duration": 6373,
    "start_time": "2025-01-29T17:33:33.947Z"
   },
   {
    "duration": 252166,
    "start_time": "2025-01-29T17:33:40.324Z"
   },
   {
    "duration": 241,
    "start_time": "2025-01-29T17:37:52.492Z"
   },
   {
    "duration": 0,
    "start_time": "2025-01-29T17:37:52.735Z"
   },
   {
    "duration": 0,
    "start_time": "2025-01-29T17:37:52.736Z"
   },
   {
    "duration": 0,
    "start_time": "2025-01-29T17:37:52.737Z"
   },
   {
    "duration": 0,
    "start_time": "2025-01-29T17:37:52.739Z"
   },
   {
    "duration": 0,
    "start_time": "2025-01-29T17:37:52.740Z"
   },
   {
    "duration": 0,
    "start_time": "2025-01-29T17:37:52.741Z"
   },
   {
    "duration": 0,
    "start_time": "2025-01-29T17:37:52.742Z"
   },
   {
    "duration": 0,
    "start_time": "2025-01-29T17:37:52.743Z"
   },
   {
    "duration": 0,
    "start_time": "2025-01-29T17:37:52.744Z"
   },
   {
    "duration": 0,
    "start_time": "2025-01-29T17:37:52.745Z"
   },
   {
    "duration": 3,
    "start_time": "2025-01-29T17:38:07.158Z"
   },
   {
    "duration": 6484,
    "start_time": "2025-01-29T17:38:12.227Z"
   },
   {
    "duration": 254483,
    "start_time": "2025-01-29T17:38:23.740Z"
   },
   {
    "duration": 2130040,
    "start_time": "2025-01-29T17:43:16.267Z"
   },
   {
    "duration": 277053,
    "start_time": "2025-01-29T18:19:53.546Z"
   },
   {
    "duration": 62640,
    "start_time": "2025-01-29T18:26:23.572Z"
   },
   {
    "duration": 66141,
    "start_time": "2025-01-29T18:27:56.247Z"
   },
   {
    "duration": 3008,
    "start_time": "2025-01-29T18:29:17.691Z"
   },
   {
    "duration": 146,
    "start_time": "2025-01-29T18:31:34.465Z"
   },
   {
    "duration": 17,
    "start_time": "2025-01-29T18:31:46.274Z"
   },
   {
    "duration": 3,
    "start_time": "2025-01-29T18:34:00.699Z"
   },
   {
    "duration": 389523,
    "start_time": "2025-01-29T18:34:03.905Z"
   },
   {
    "duration": 10545,
    "start_time": "2025-01-29T18:41:06.112Z"
   },
   {
    "duration": 1049,
    "start_time": "2025-01-29T18:42:49.969Z"
   },
   {
    "duration": 406,
    "start_time": "2025-01-29T18:42:51.021Z"
   },
   {
    "duration": 164,
    "start_time": "2025-01-29T18:42:51.429Z"
   },
   {
    "duration": 27,
    "start_time": "2025-01-29T18:42:51.596Z"
   },
   {
    "duration": 247,
    "start_time": "2025-01-29T18:42:51.626Z"
   },
   {
    "duration": 264,
    "start_time": "2025-01-29T18:42:51.875Z"
   },
   {
    "duration": 528,
    "start_time": "2025-01-29T18:42:52.141Z"
   },
   {
    "duration": 63,
    "start_time": "2025-01-29T18:42:52.671Z"
   },
   {
    "duration": 91,
    "start_time": "2025-01-29T18:42:52.736Z"
   },
   {
    "duration": 8,
    "start_time": "2025-01-29T18:42:52.829Z"
   },
   {
    "duration": 437,
    "start_time": "2025-01-29T18:42:52.839Z"
   },
   {
    "duration": 253,
    "start_time": "2025-01-29T18:42:53.278Z"
   },
   {
    "duration": 101,
    "start_time": "2025-01-29T18:42:53.533Z"
   },
   {
    "duration": 561,
    "start_time": "2025-01-29T18:42:53.638Z"
   },
   {
    "duration": 6502,
    "start_time": "2025-01-29T18:42:54.201Z"
   },
   {
    "duration": 257517,
    "start_time": "2025-01-29T18:43:00.708Z"
   },
   {
    "duration": 3111465,
    "start_time": "2025-01-29T18:47:18.227Z"
   },
   {
    "duration": 340214,
    "start_time": "2025-01-29T19:39:09.694Z"
   },
   {
    "duration": 162,
    "start_time": "2025-01-29T19:44:49.988Z"
   },
   {
    "duration": 3,
    "start_time": "2025-01-29T19:44:50.152Z"
   },
   {
    "duration": 387820,
    "start_time": "2025-01-29T19:44:50.156Z"
   },
   {
    "duration": 3,
    "start_time": "2025-01-29T19:51:17.978Z"
   },
   {
    "duration": 6420,
    "start_time": "2025-01-29T19:51:17.983Z"
   },
   {
    "duration": 249496,
    "start_time": "2025-01-29T19:51:24.405Z"
   },
   {
    "duration": 277592,
    "start_time": "2025-01-29T19:55:33.904Z"
   },
   {
    "duration": 3098,
    "start_time": "2025-01-29T20:00:11.499Z"
   },
   {
    "duration": 10771,
    "start_time": "2025-01-29T20:00:14.599Z"
   },
   {
    "duration": 1213,
    "start_time": "2025-01-30T15:26:30.394Z"
   },
   {
    "duration": 547,
    "start_time": "2025-01-30T15:26:31.610Z"
   },
   {
    "duration": 175,
    "start_time": "2025-01-30T15:26:32.159Z"
   },
   {
    "duration": 30,
    "start_time": "2025-01-30T15:26:32.336Z"
   },
   {
    "duration": 298,
    "start_time": "2025-01-30T15:26:32.369Z"
   },
   {
    "duration": 270,
    "start_time": "2025-01-30T15:26:32.669Z"
   },
   {
    "duration": 563,
    "start_time": "2025-01-30T15:26:32.941Z"
   },
   {
    "duration": 81,
    "start_time": "2025-01-30T15:26:33.519Z"
   },
   {
    "duration": 141,
    "start_time": "2025-01-30T15:26:33.602Z"
   },
   {
    "duration": 10,
    "start_time": "2025-01-30T15:26:33.745Z"
   },
   {
    "duration": 585,
    "start_time": "2025-01-30T15:26:33.759Z"
   },
   {
    "duration": 241,
    "start_time": "2025-01-30T15:26:34.346Z"
   },
   {
    "duration": 101,
    "start_time": "2025-01-30T15:26:34.591Z"
   },
   {
    "duration": 543,
    "start_time": "2025-01-30T15:26:34.696Z"
   },
   {
    "duration": 7217,
    "start_time": "2025-01-30T15:26:35.241Z"
   },
   {
    "duration": 251630,
    "start_time": "2025-01-30T15:26:42.461Z"
   },
   {
    "duration": 694224,
    "start_time": "2025-01-30T15:30:54.093Z"
   },
   {
    "duration": 0,
    "start_time": "2025-01-30T15:42:28.319Z"
   },
   {
    "duration": 0,
    "start_time": "2025-01-30T15:42:28.321Z"
   },
   {
    "duration": 0,
    "start_time": "2025-01-30T15:42:28.322Z"
   },
   {
    "duration": 0,
    "start_time": "2025-01-30T15:42:28.323Z"
   },
   {
    "duration": 0,
    "start_time": "2025-01-30T15:42:28.331Z"
   },
   {
    "duration": 0,
    "start_time": "2025-01-30T15:42:28.332Z"
   },
   {
    "duration": 0,
    "start_time": "2025-01-30T15:42:28.333Z"
   },
   {
    "duration": 0,
    "start_time": "2025-01-30T15:42:28.335Z"
   },
   {
    "duration": 0,
    "start_time": "2025-01-30T15:42:28.336Z"
   },
   {
    "duration": 0,
    "start_time": "2025-01-30T15:42:28.337Z"
   },
   {
    "duration": 1,
    "start_time": "2025-01-30T15:42:28.337Z"
   },
   {
    "duration": 0,
    "start_time": "2025-01-30T15:42:28.339Z"
   },
   {
    "duration": 0,
    "start_time": "2025-01-30T15:42:28.340Z"
   },
   {
    "duration": 4,
    "start_time": "2025-01-30T15:48:28.051Z"
   },
   {
    "duration": 2876,
    "start_time": "2025-01-30T16:24:51.102Z"
   },
   {
    "duration": 464,
    "start_time": "2025-01-30T16:24:53.980Z"
   },
   {
    "duration": 180,
    "start_time": "2025-01-30T16:24:54.446Z"
   },
   {
    "duration": 23,
    "start_time": "2025-01-30T16:24:54.628Z"
   },
   {
    "duration": 246,
    "start_time": "2025-01-30T16:24:54.655Z"
   },
   {
    "duration": 268,
    "start_time": "2025-01-30T16:24:54.904Z"
   },
   {
    "duration": 558,
    "start_time": "2025-01-30T16:24:55.174Z"
   },
   {
    "duration": 56,
    "start_time": "2025-01-30T16:24:55.735Z"
   },
   {
    "duration": 91,
    "start_time": "2025-01-30T16:24:55.793Z"
   },
   {
    "duration": 9,
    "start_time": "2025-01-30T16:24:55.886Z"
   },
   {
    "duration": 415,
    "start_time": "2025-01-30T16:24:55.896Z"
   },
   {
    "duration": 242,
    "start_time": "2025-01-30T16:24:56.313Z"
   },
   {
    "duration": 100,
    "start_time": "2025-01-30T16:24:56.556Z"
   },
   {
    "duration": 513,
    "start_time": "2025-01-30T16:24:56.661Z"
   },
   {
    "duration": 6176,
    "start_time": "2025-01-30T16:24:57.176Z"
   },
   {
    "duration": 5,
    "start_time": "2025-01-30T16:25:03.354Z"
   },
   {
    "duration": 0,
    "start_time": "2025-01-30T16:25:03.361Z"
   },
   {
    "duration": 0,
    "start_time": "2025-01-30T16:25:03.361Z"
   },
   {
    "duration": 0,
    "start_time": "2025-01-30T16:25:03.362Z"
   },
   {
    "duration": 0,
    "start_time": "2025-01-30T16:25:03.362Z"
   },
   {
    "duration": 0,
    "start_time": "2025-01-30T16:25:03.363Z"
   },
   {
    "duration": 0,
    "start_time": "2025-01-30T16:25:03.363Z"
   },
   {
    "duration": 0,
    "start_time": "2025-01-30T16:25:03.364Z"
   },
   {
    "duration": 0,
    "start_time": "2025-01-30T16:25:03.364Z"
   },
   {
    "duration": 0,
    "start_time": "2025-01-30T16:25:03.365Z"
   },
   {
    "duration": 0,
    "start_time": "2025-01-30T16:25:03.366Z"
   },
   {
    "duration": 0,
    "start_time": "2025-01-30T16:25:03.366Z"
   },
   {
    "duration": 154,
    "start_time": "2025-01-30T16:35:47.659Z"
   },
   {
    "duration": 3,
    "start_time": "2025-01-30T16:35:49.672Z"
   },
   {
    "duration": 388036,
    "start_time": "2025-01-30T16:35:51.424Z"
   },
   {
    "duration": 249,
    "start_time": "2025-01-30T16:42:37.609Z"
   },
   {
    "duration": 3,
    "start_time": "2025-01-30T16:42:47.160Z"
   },
   {
    "duration": 10502,
    "start_time": "2025-01-30T16:42:51.487Z"
   },
   {
    "duration": 53,
    "start_time": "2025-01-30T16:46:33.706Z"
   },
   {
    "duration": 46,
    "start_time": "2025-01-30T16:46:41.158Z"
   },
   {
    "duration": 15,
    "start_time": "2025-01-30T16:46:45.244Z"
   },
   {
    "duration": 4,
    "start_time": "2025-01-30T16:46:51.101Z"
   }
  ],
  "kernelspec": {
   "display_name": "base",
   "language": "python",
   "name": "python3"
  },
  "language_info": {
   "codemirror_mode": {
    "name": "ipython",
    "version": 3
   },
   "file_extension": ".py",
   "mimetype": "text/x-python",
   "name": "python",
   "nbconvert_exporter": "python",
   "pygments_lexer": "ipython3",
   "version": "3.12.7"
  },
  "toc": {
   "base_numbering": 1,
   "nav_menu": {},
   "number_sections": true,
   "sideBar": true,
   "skip_h1_title": true,
   "title_cell": "Table of Contents",
   "title_sidebar": "Contents",
   "toc_cell": false,
   "toc_position": {},
   "toc_section_display": true,
   "toc_window_display": false
  }
 },
 "nbformat": 4,
 "nbformat_minor": 2
}
